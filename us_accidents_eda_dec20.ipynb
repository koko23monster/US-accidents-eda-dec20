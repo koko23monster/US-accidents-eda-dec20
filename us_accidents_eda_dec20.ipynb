{
  "cells": [
    {
      "cell_type": "markdown",
      "metadata": {
        "id": "view-in-github",
        "colab_type": "text"
      },
      "source": [
        "<a href=\"https://colab.research.google.com/github/koko23monster/US-accidents-eda-dec20/blob/main/us_accidents_eda_dec20.ipynb\" target=\"_parent\"><img src=\"https://colab.research.google.com/assets/colab-badge.svg\" alt=\"Open In Colab\"/></a>"
      ]
    },
    {
      "cell_type": "code",
      "execution_count": null,
      "metadata": {
        "colab": {
          "base_uri": "https://localhost:8080/"
        },
        "id": "VdL7rZXDRdRL",
        "outputId": "a68bc806-0c56-4951-886e-739860e06c07"
      },
      "outputs": [
        {
          "output_type": "stream",
          "name": "stdout",
          "text": [
            "\u001b[?25l\r\u001b[K     |████▊                           | 10 kB 22.4 MB/s eta 0:00:01\r\u001b[K     |█████████▌                      | 20 kB 28.9 MB/s eta 0:00:01\r\u001b[K     |██████████████▎                 | 30 kB 27.1 MB/s eta 0:00:01\r\u001b[K     |███████████████████             | 40 kB 19.7 MB/s eta 0:00:01\r\u001b[K     |███████████████████████▉        | 51 kB 9.8 MB/s eta 0:00:01\r\u001b[K     |████████████████████████████▋   | 61 kB 9.5 MB/s eta 0:00:01\r\u001b[K     |████████████████████████████████| 68 kB 4.3 MB/s \n",
            "\u001b[?25h  Building wheel for uuid (setup.py) ... \u001b[?25l\u001b[?25hdone\n"
          ]
        }
      ],
      "source": [
        "# Jovian Commit Essentials\n",
        "# Please retain and execute this cell without modifying the contents for `jovian.commit` to work\n",
        "!pip install jovian --upgrade -q\n",
        "import jovian\n",
        "jovian.set_project('us-accidents-eda-dec20')\n",
        "jovian.set_colab_id('1h_3BxHIMabXoVWSvvd5LZgUCjbhdIPIx')"
      ]
    },
    {
      "cell_type": "markdown",
      "metadata": {
        "id": "wcDlGMhxRdRU"
      },
      "source": [
        "# us-accidents-eda-dec20\n",
        "\n",
        "Use the \"Run\" button to execute the code."
      ]
    },
    {
      "cell_type": "code",
      "execution_count": null,
      "metadata": {
        "id": "4J96Mp36RdRY"
      },
      "outputs": [],
      "source": [
        "!pip install jovian --upgrade --quiet"
      ]
    },
    {
      "cell_type": "code",
      "execution_count": null,
      "metadata": {
        "id": "myF3pLBVRdRZ"
      },
      "outputs": [],
      "source": [
        "import jovian"
      ]
    },
    {
      "cell_type": "markdown",
      "source": [
        "## download data"
      ],
      "metadata": {
        "id": "pnb2JOyZRhQi"
      }
    },
    {
      "cell_type": "code",
      "source": [
        "pip install opendatasets --upgrade --quiet"
      ],
      "metadata": {
        "id": "ppQZcdoURzDP"
      },
      "execution_count": null,
      "outputs": []
    },
    {
      "cell_type": "code",
      "source": [
        "import opendatasets as od\n",
        "dataset_url = 'https://www.kaggle.com/sobhanmoosavi/us-accidents'\n",
        "od.download(dataset_url)"
      ],
      "metadata": {
        "colab": {
          "base_uri": "https://localhost:8080/"
        },
        "id": "lFSDvZLpRy7k",
        "outputId": "66c3d2d3-cedb-45f3-a5f0-3759373f8b74"
      },
      "execution_count": null,
      "outputs": [
        {
          "output_type": "stream",
          "name": "stdout",
          "text": [
            "Please provide your Kaggle credentials to download this dataset. Learn more: http://bit.ly/kaggle-creds\n",
            "Your Kaggle username: komalingle\n",
            "Your Kaggle Key: ··········\n",
            "Downloading us-accidents.zip to ./us-accidents\n"
          ]
        },
        {
          "output_type": "stream",
          "name": "stderr",
          "text": [
            "100%|██████████| 117M/117M [00:01<00:00, 74.5MB/s]\n"
          ]
        },
        {
          "output_type": "stream",
          "name": "stdout",
          "text": [
            "\n"
          ]
        }
      ]
    },
    {
      "cell_type": "code",
      "source": [
        "data_file = './us-accidents/US_Accidents_Dec20_updated.csv' "
      ],
      "metadata": {
        "id": "NGx-SYf_Ry2-"
      },
      "execution_count": null,
      "outputs": []
    },
    {
      "cell_type": "code",
      "source": [
        ""
      ],
      "metadata": {
        "id": "JYI9TKUERywS"
      },
      "execution_count": null,
      "outputs": []
    },
    {
      "cell_type": "markdown",
      "source": [
        "## data preparation and cleaning \n",
        "1. Load the file using Pandas\n",
        "2. Explore the information about the data and columns\n",
        "3. Fix any missing or incorrect values"
      ],
      "metadata": {
        "id": "zgh3Uh9uRhD3"
      }
    },
    {
      "cell_type": "code",
      "execution_count": null,
      "metadata": {
        "id": "WHdr3O2HRdRd"
      },
      "outputs": [],
      "source": [
        "import pandas as pd"
      ]
    },
    {
      "cell_type": "code",
      "source": [
        "df = pd.read_csv(data_file)"
      ],
      "metadata": {
        "id": "yG4VQJ_PS2wt"
      },
      "execution_count": null,
      "outputs": []
    },
    {
      "cell_type": "code",
      "source": [
        "df"
      ],
      "metadata": {
        "colab": {
          "base_uri": "https://localhost:8080/",
          "height": 938
        },
        "id": "TDp6w9A9S2rK",
        "outputId": "bfeb4cbd-dd27-4ea3-964b-072e4bb265b6"
      },
      "execution_count": null,
      "outputs": [
        {
          "output_type": "execute_result",
          "data": {
            "text/html": [
              "\n",
              "  <div id=\"df-5ecac446-8cff-4f6c-8e9f-d75772734ede\">\n",
              "    <div class=\"colab-df-container\">\n",
              "      <div>\n",
              "<style scoped>\n",
              "    .dataframe tbody tr th:only-of-type {\n",
              "        vertical-align: middle;\n",
              "    }\n",
              "\n",
              "    .dataframe tbody tr th {\n",
              "        vertical-align: top;\n",
              "    }\n",
              "\n",
              "    .dataframe thead th {\n",
              "        text-align: right;\n",
              "    }\n",
              "</style>\n",
              "<table border=\"1\" class=\"dataframe\">\n",
              "  <thead>\n",
              "    <tr style=\"text-align: right;\">\n",
              "      <th></th>\n",
              "      <th>ID</th>\n",
              "      <th>Severity</th>\n",
              "      <th>Start_Time</th>\n",
              "      <th>End_Time</th>\n",
              "      <th>Start_Lat</th>\n",
              "      <th>Start_Lng</th>\n",
              "      <th>End_Lat</th>\n",
              "      <th>End_Lng</th>\n",
              "      <th>Distance(mi)</th>\n",
              "      <th>Description</th>\n",
              "      <th>Number</th>\n",
              "      <th>Street</th>\n",
              "      <th>Side</th>\n",
              "      <th>City</th>\n",
              "      <th>County</th>\n",
              "      <th>State</th>\n",
              "      <th>Zipcode</th>\n",
              "      <th>Country</th>\n",
              "      <th>Timezone</th>\n",
              "      <th>Airport_Code</th>\n",
              "      <th>Weather_Timestamp</th>\n",
              "      <th>Temperature(F)</th>\n",
              "      <th>Wind_Chill(F)</th>\n",
              "      <th>Humidity(%)</th>\n",
              "      <th>Pressure(in)</th>\n",
              "      <th>Visibility(mi)</th>\n",
              "      <th>Wind_Direction</th>\n",
              "      <th>Wind_Speed(mph)</th>\n",
              "      <th>Precipitation(in)</th>\n",
              "      <th>Weather_Condition</th>\n",
              "      <th>Amenity</th>\n",
              "      <th>Bump</th>\n",
              "      <th>Crossing</th>\n",
              "      <th>Give_Way</th>\n",
              "      <th>Junction</th>\n",
              "      <th>No_Exit</th>\n",
              "      <th>Railway</th>\n",
              "      <th>Roundabout</th>\n",
              "      <th>Station</th>\n",
              "      <th>Stop</th>\n",
              "      <th>Traffic_Calming</th>\n",
              "      <th>Traffic_Signal</th>\n",
              "      <th>Turning_Loop</th>\n",
              "      <th>Sunrise_Sunset</th>\n",
              "      <th>Civil_Twilight</th>\n",
              "      <th>Nautical_Twilight</th>\n",
              "      <th>Astronomical_Twilight</th>\n",
              "    </tr>\n",
              "  </thead>\n",
              "  <tbody>\n",
              "    <tr>\n",
              "      <th>0</th>\n",
              "      <td>A-2716600</td>\n",
              "      <td>3</td>\n",
              "      <td>2016-02-08 00:37:08</td>\n",
              "      <td>2016-02-08 06:37:08</td>\n",
              "      <td>40.10891</td>\n",
              "      <td>-83.09286</td>\n",
              "      <td>40.11206</td>\n",
              "      <td>-83.03187</td>\n",
              "      <td>3.230</td>\n",
              "      <td>Between Sawmill Rd/Exit 20 and OH-315/Olentang...</td>\n",
              "      <td>NaN</td>\n",
              "      <td>Outerbelt E</td>\n",
              "      <td>R</td>\n",
              "      <td>Dublin</td>\n",
              "      <td>Franklin</td>\n",
              "      <td>OH</td>\n",
              "      <td>43017</td>\n",
              "      <td>US</td>\n",
              "      <td>US/Eastern</td>\n",
              "      <td>KOSU</td>\n",
              "      <td>2016-02-08 00:53:00</td>\n",
              "      <td>42.1</td>\n",
              "      <td>36.1</td>\n",
              "      <td>58.0</td>\n",
              "      <td>29.76</td>\n",
              "      <td>10.0</td>\n",
              "      <td>SW</td>\n",
              "      <td>10.4</td>\n",
              "      <td>0.00</td>\n",
              "      <td>Light Rain</td>\n",
              "      <td>False</td>\n",
              "      <td>False</td>\n",
              "      <td>False</td>\n",
              "      <td>False</td>\n",
              "      <td>False</td>\n",
              "      <td>False</td>\n",
              "      <td>False</td>\n",
              "      <td>False</td>\n",
              "      <td>False</td>\n",
              "      <td>False</td>\n",
              "      <td>False</td>\n",
              "      <td>False</td>\n",
              "      <td>False</td>\n",
              "      <td>Night</td>\n",
              "      <td>Night</td>\n",
              "      <td>Night</td>\n",
              "      <td>Night</td>\n",
              "    </tr>\n",
              "    <tr>\n",
              "      <th>1</th>\n",
              "      <td>A-2716601</td>\n",
              "      <td>2</td>\n",
              "      <td>2016-02-08 05:56:20</td>\n",
              "      <td>2016-02-08 11:56:20</td>\n",
              "      <td>39.86542</td>\n",
              "      <td>-84.06280</td>\n",
              "      <td>39.86501</td>\n",
              "      <td>-84.04873</td>\n",
              "      <td>0.747</td>\n",
              "      <td>At OH-4/OH-235/Exit 41 - Accident.</td>\n",
              "      <td>NaN</td>\n",
              "      <td>I-70 E</td>\n",
              "      <td>R</td>\n",
              "      <td>Dayton</td>\n",
              "      <td>Montgomery</td>\n",
              "      <td>OH</td>\n",
              "      <td>45424</td>\n",
              "      <td>US</td>\n",
              "      <td>US/Eastern</td>\n",
              "      <td>KFFO</td>\n",
              "      <td>2016-02-08 05:58:00</td>\n",
              "      <td>36.9</td>\n",
              "      <td>NaN</td>\n",
              "      <td>91.0</td>\n",
              "      <td>29.68</td>\n",
              "      <td>10.0</td>\n",
              "      <td>Calm</td>\n",
              "      <td>NaN</td>\n",
              "      <td>0.02</td>\n",
              "      <td>Light Rain</td>\n",
              "      <td>False</td>\n",
              "      <td>False</td>\n",
              "      <td>False</td>\n",
              "      <td>False</td>\n",
              "      <td>False</td>\n",
              "      <td>False</td>\n",
              "      <td>False</td>\n",
              "      <td>False</td>\n",
              "      <td>False</td>\n",
              "      <td>False</td>\n",
              "      <td>False</td>\n",
              "      <td>False</td>\n",
              "      <td>False</td>\n",
              "      <td>Night</td>\n",
              "      <td>Night</td>\n",
              "      <td>Night</td>\n",
              "      <td>Night</td>\n",
              "    </tr>\n",
              "    <tr>\n",
              "      <th>2</th>\n",
              "      <td>A-2716602</td>\n",
              "      <td>2</td>\n",
              "      <td>2016-02-08 06:15:39</td>\n",
              "      <td>2016-02-08 12:15:39</td>\n",
              "      <td>39.10266</td>\n",
              "      <td>-84.52468</td>\n",
              "      <td>39.10209</td>\n",
              "      <td>-84.52396</td>\n",
              "      <td>0.055</td>\n",
              "      <td>At I-71/US-50/Exit 1 - Accident.</td>\n",
              "      <td>NaN</td>\n",
              "      <td>I-75 S</td>\n",
              "      <td>R</td>\n",
              "      <td>Cincinnati</td>\n",
              "      <td>Hamilton</td>\n",
              "      <td>OH</td>\n",
              "      <td>45203</td>\n",
              "      <td>US</td>\n",
              "      <td>US/Eastern</td>\n",
              "      <td>KLUK</td>\n",
              "      <td>2016-02-08 05:53:00</td>\n",
              "      <td>36.0</td>\n",
              "      <td>NaN</td>\n",
              "      <td>97.0</td>\n",
              "      <td>29.70</td>\n",
              "      <td>10.0</td>\n",
              "      <td>Calm</td>\n",
              "      <td>NaN</td>\n",
              "      <td>0.02</td>\n",
              "      <td>Overcast</td>\n",
              "      <td>False</td>\n",
              "      <td>False</td>\n",
              "      <td>False</td>\n",
              "      <td>False</td>\n",
              "      <td>True</td>\n",
              "      <td>False</td>\n",
              "      <td>False</td>\n",
              "      <td>False</td>\n",
              "      <td>False</td>\n",
              "      <td>False</td>\n",
              "      <td>False</td>\n",
              "      <td>False</td>\n",
              "      <td>False</td>\n",
              "      <td>Night</td>\n",
              "      <td>Night</td>\n",
              "      <td>Night</td>\n",
              "      <td>Day</td>\n",
              "    </tr>\n",
              "    <tr>\n",
              "      <th>3</th>\n",
              "      <td>A-2716603</td>\n",
              "      <td>2</td>\n",
              "      <td>2016-02-08 06:15:39</td>\n",
              "      <td>2016-02-08 12:15:39</td>\n",
              "      <td>39.10148</td>\n",
              "      <td>-84.52341</td>\n",
              "      <td>39.09841</td>\n",
              "      <td>-84.52241</td>\n",
              "      <td>0.219</td>\n",
              "      <td>At I-71/US-50/Exit 1 - Accident.</td>\n",
              "      <td>NaN</td>\n",
              "      <td>US-50 E</td>\n",
              "      <td>R</td>\n",
              "      <td>Cincinnati</td>\n",
              "      <td>Hamilton</td>\n",
              "      <td>OH</td>\n",
              "      <td>45202</td>\n",
              "      <td>US</td>\n",
              "      <td>US/Eastern</td>\n",
              "      <td>KLUK</td>\n",
              "      <td>2016-02-08 05:53:00</td>\n",
              "      <td>36.0</td>\n",
              "      <td>NaN</td>\n",
              "      <td>97.0</td>\n",
              "      <td>29.70</td>\n",
              "      <td>10.0</td>\n",
              "      <td>Calm</td>\n",
              "      <td>NaN</td>\n",
              "      <td>0.02</td>\n",
              "      <td>Overcast</td>\n",
              "      <td>False</td>\n",
              "      <td>False</td>\n",
              "      <td>False</td>\n",
              "      <td>False</td>\n",
              "      <td>True</td>\n",
              "      <td>False</td>\n",
              "      <td>False</td>\n",
              "      <td>False</td>\n",
              "      <td>False</td>\n",
              "      <td>False</td>\n",
              "      <td>False</td>\n",
              "      <td>False</td>\n",
              "      <td>False</td>\n",
              "      <td>Night</td>\n",
              "      <td>Night</td>\n",
              "      <td>Night</td>\n",
              "      <td>Day</td>\n",
              "    </tr>\n",
              "    <tr>\n",
              "      <th>4</th>\n",
              "      <td>A-2716604</td>\n",
              "      <td>2</td>\n",
              "      <td>2016-02-08 06:51:45</td>\n",
              "      <td>2016-02-08 12:51:45</td>\n",
              "      <td>41.06213</td>\n",
              "      <td>-81.53784</td>\n",
              "      <td>41.06217</td>\n",
              "      <td>-81.53547</td>\n",
              "      <td>0.123</td>\n",
              "      <td>At Dart Ave/Exit 21 - Accident.</td>\n",
              "      <td>NaN</td>\n",
              "      <td>I-77 N</td>\n",
              "      <td>R</td>\n",
              "      <td>Akron</td>\n",
              "      <td>Summit</td>\n",
              "      <td>OH</td>\n",
              "      <td>44311</td>\n",
              "      <td>US</td>\n",
              "      <td>US/Eastern</td>\n",
              "      <td>KAKR</td>\n",
              "      <td>2016-02-08 06:54:00</td>\n",
              "      <td>39.0</td>\n",
              "      <td>NaN</td>\n",
              "      <td>55.0</td>\n",
              "      <td>29.65</td>\n",
              "      <td>10.0</td>\n",
              "      <td>Calm</td>\n",
              "      <td>NaN</td>\n",
              "      <td>NaN</td>\n",
              "      <td>Overcast</td>\n",
              "      <td>False</td>\n",
              "      <td>False</td>\n",
              "      <td>False</td>\n",
              "      <td>False</td>\n",
              "      <td>False</td>\n",
              "      <td>False</td>\n",
              "      <td>False</td>\n",
              "      <td>False</td>\n",
              "      <td>False</td>\n",
              "      <td>False</td>\n",
              "      <td>False</td>\n",
              "      <td>False</td>\n",
              "      <td>False</td>\n",
              "      <td>Night</td>\n",
              "      <td>Night</td>\n",
              "      <td>Day</td>\n",
              "      <td>Day</td>\n",
              "    </tr>\n",
              "    <tr>\n",
              "      <th>...</th>\n",
              "      <td>...</td>\n",
              "      <td>...</td>\n",
              "      <td>...</td>\n",
              "      <td>...</td>\n",
              "      <td>...</td>\n",
              "      <td>...</td>\n",
              "      <td>...</td>\n",
              "      <td>...</td>\n",
              "      <td>...</td>\n",
              "      <td>...</td>\n",
              "      <td>...</td>\n",
              "      <td>...</td>\n",
              "      <td>...</td>\n",
              "      <td>...</td>\n",
              "      <td>...</td>\n",
              "      <td>...</td>\n",
              "      <td>...</td>\n",
              "      <td>...</td>\n",
              "      <td>...</td>\n",
              "      <td>...</td>\n",
              "      <td>...</td>\n",
              "      <td>...</td>\n",
              "      <td>...</td>\n",
              "      <td>...</td>\n",
              "      <td>...</td>\n",
              "      <td>...</td>\n",
              "      <td>...</td>\n",
              "      <td>...</td>\n",
              "      <td>...</td>\n",
              "      <td>...</td>\n",
              "      <td>...</td>\n",
              "      <td>...</td>\n",
              "      <td>...</td>\n",
              "      <td>...</td>\n",
              "      <td>...</td>\n",
              "      <td>...</td>\n",
              "      <td>...</td>\n",
              "      <td>...</td>\n",
              "      <td>...</td>\n",
              "      <td>...</td>\n",
              "      <td>...</td>\n",
              "      <td>...</td>\n",
              "      <td>...</td>\n",
              "      <td>...</td>\n",
              "      <td>...</td>\n",
              "      <td>...</td>\n",
              "      <td>...</td>\n",
              "    </tr>\n",
              "    <tr>\n",
              "      <th>1516059</th>\n",
              "      <td>A-4239402</td>\n",
              "      <td>2</td>\n",
              "      <td>2019-08-23 18:03:25</td>\n",
              "      <td>2019-08-23 18:32:01</td>\n",
              "      <td>34.00248</td>\n",
              "      <td>-117.37936</td>\n",
              "      <td>33.99888</td>\n",
              "      <td>-117.37094</td>\n",
              "      <td>0.543</td>\n",
              "      <td>At Market St - Accident.</td>\n",
              "      <td>NaN</td>\n",
              "      <td>Pomona Fwy E</td>\n",
              "      <td>R</td>\n",
              "      <td>Riverside</td>\n",
              "      <td>Riverside</td>\n",
              "      <td>CA</td>\n",
              "      <td>92501</td>\n",
              "      <td>US</td>\n",
              "      <td>US/Pacific</td>\n",
              "      <td>KRAL</td>\n",
              "      <td>2019-08-23 17:53:00</td>\n",
              "      <td>86.0</td>\n",
              "      <td>86.0</td>\n",
              "      <td>40.0</td>\n",
              "      <td>28.92</td>\n",
              "      <td>10.0</td>\n",
              "      <td>W</td>\n",
              "      <td>13.0</td>\n",
              "      <td>0.00</td>\n",
              "      <td>Fair</td>\n",
              "      <td>False</td>\n",
              "      <td>False</td>\n",
              "      <td>False</td>\n",
              "      <td>False</td>\n",
              "      <td>False</td>\n",
              "      <td>False</td>\n",
              "      <td>False</td>\n",
              "      <td>False</td>\n",
              "      <td>False</td>\n",
              "      <td>False</td>\n",
              "      <td>False</td>\n",
              "      <td>False</td>\n",
              "      <td>False</td>\n",
              "      <td>Day</td>\n",
              "      <td>Day</td>\n",
              "      <td>Day</td>\n",
              "      <td>Day</td>\n",
              "    </tr>\n",
              "    <tr>\n",
              "      <th>1516060</th>\n",
              "      <td>A-4239403</td>\n",
              "      <td>2</td>\n",
              "      <td>2019-08-23 19:11:30</td>\n",
              "      <td>2019-08-23 19:38:23</td>\n",
              "      <td>32.76696</td>\n",
              "      <td>-117.14806</td>\n",
              "      <td>32.76555</td>\n",
              "      <td>-117.15363</td>\n",
              "      <td>0.338</td>\n",
              "      <td>At Camino Del Rio/Mission Center Rd - Accident.</td>\n",
              "      <td>NaN</td>\n",
              "      <td>I-8 W</td>\n",
              "      <td>R</td>\n",
              "      <td>San Diego</td>\n",
              "      <td>San Diego</td>\n",
              "      <td>CA</td>\n",
              "      <td>92108</td>\n",
              "      <td>US</td>\n",
              "      <td>US/Pacific</td>\n",
              "      <td>KMYF</td>\n",
              "      <td>2019-08-23 18:53:00</td>\n",
              "      <td>70.0</td>\n",
              "      <td>70.0</td>\n",
              "      <td>73.0</td>\n",
              "      <td>29.39</td>\n",
              "      <td>10.0</td>\n",
              "      <td>SW</td>\n",
              "      <td>6.0</td>\n",
              "      <td>0.00</td>\n",
              "      <td>Fair</td>\n",
              "      <td>False</td>\n",
              "      <td>False</td>\n",
              "      <td>False</td>\n",
              "      <td>False</td>\n",
              "      <td>False</td>\n",
              "      <td>False</td>\n",
              "      <td>False</td>\n",
              "      <td>False</td>\n",
              "      <td>False</td>\n",
              "      <td>False</td>\n",
              "      <td>False</td>\n",
              "      <td>False</td>\n",
              "      <td>False</td>\n",
              "      <td>Day</td>\n",
              "      <td>Day</td>\n",
              "      <td>Day</td>\n",
              "      <td>Day</td>\n",
              "    </tr>\n",
              "    <tr>\n",
              "      <th>1516061</th>\n",
              "      <td>A-4239404</td>\n",
              "      <td>2</td>\n",
              "      <td>2019-08-23 19:00:21</td>\n",
              "      <td>2019-08-23 19:28:49</td>\n",
              "      <td>33.77545</td>\n",
              "      <td>-117.84779</td>\n",
              "      <td>33.77740</td>\n",
              "      <td>-117.85727</td>\n",
              "      <td>0.561</td>\n",
              "      <td>At Glassell St/Grand Ave - Accident. in the ri...</td>\n",
              "      <td>NaN</td>\n",
              "      <td>Garden Grove Fwy</td>\n",
              "      <td>R</td>\n",
              "      <td>Orange</td>\n",
              "      <td>Orange</td>\n",
              "      <td>CA</td>\n",
              "      <td>92866</td>\n",
              "      <td>US</td>\n",
              "      <td>US/Pacific</td>\n",
              "      <td>KSNA</td>\n",
              "      <td>2019-08-23 18:53:00</td>\n",
              "      <td>73.0</td>\n",
              "      <td>73.0</td>\n",
              "      <td>64.0</td>\n",
              "      <td>29.74</td>\n",
              "      <td>10.0</td>\n",
              "      <td>SSW</td>\n",
              "      <td>10.0</td>\n",
              "      <td>0.00</td>\n",
              "      <td>Partly Cloudy</td>\n",
              "      <td>False</td>\n",
              "      <td>False</td>\n",
              "      <td>False</td>\n",
              "      <td>False</td>\n",
              "      <td>True</td>\n",
              "      <td>False</td>\n",
              "      <td>False</td>\n",
              "      <td>False</td>\n",
              "      <td>False</td>\n",
              "      <td>False</td>\n",
              "      <td>False</td>\n",
              "      <td>False</td>\n",
              "      <td>False</td>\n",
              "      <td>Day</td>\n",
              "      <td>Day</td>\n",
              "      <td>Day</td>\n",
              "      <td>Day</td>\n",
              "    </tr>\n",
              "    <tr>\n",
              "      <th>1516062</th>\n",
              "      <td>A-4239405</td>\n",
              "      <td>2</td>\n",
              "      <td>2019-08-23 19:00:21</td>\n",
              "      <td>2019-08-23 19:29:42</td>\n",
              "      <td>33.99246</td>\n",
              "      <td>-118.40302</td>\n",
              "      <td>33.98311</td>\n",
              "      <td>-118.39565</td>\n",
              "      <td>0.772</td>\n",
              "      <td>At CA-90/Marina Fwy/Jefferson Blvd - Accident.</td>\n",
              "      <td>NaN</td>\n",
              "      <td>San Diego Fwy S</td>\n",
              "      <td>R</td>\n",
              "      <td>Culver City</td>\n",
              "      <td>Los Angeles</td>\n",
              "      <td>CA</td>\n",
              "      <td>90230</td>\n",
              "      <td>US</td>\n",
              "      <td>US/Pacific</td>\n",
              "      <td>KSMO</td>\n",
              "      <td>2019-08-23 18:51:00</td>\n",
              "      <td>71.0</td>\n",
              "      <td>71.0</td>\n",
              "      <td>81.0</td>\n",
              "      <td>29.62</td>\n",
              "      <td>10.0</td>\n",
              "      <td>SW</td>\n",
              "      <td>8.0</td>\n",
              "      <td>0.00</td>\n",
              "      <td>Fair</td>\n",
              "      <td>False</td>\n",
              "      <td>False</td>\n",
              "      <td>False</td>\n",
              "      <td>False</td>\n",
              "      <td>False</td>\n",
              "      <td>False</td>\n",
              "      <td>False</td>\n",
              "      <td>False</td>\n",
              "      <td>False</td>\n",
              "      <td>False</td>\n",
              "      <td>False</td>\n",
              "      <td>False</td>\n",
              "      <td>False</td>\n",
              "      <td>Day</td>\n",
              "      <td>Day</td>\n",
              "      <td>Day</td>\n",
              "      <td>Day</td>\n",
              "    </tr>\n",
              "    <tr>\n",
              "      <th>1516063</th>\n",
              "      <td>A-4239406</td>\n",
              "      <td>2</td>\n",
              "      <td>2019-08-23 18:52:06</td>\n",
              "      <td>2019-08-23 19:21:31</td>\n",
              "      <td>34.13393</td>\n",
              "      <td>-117.23092</td>\n",
              "      <td>34.13736</td>\n",
              "      <td>-117.23934</td>\n",
              "      <td>0.537</td>\n",
              "      <td>At Highland Ave/Arden Ave - Accident.</td>\n",
              "      <td>NaN</td>\n",
              "      <td>CA-210 W</td>\n",
              "      <td>R</td>\n",
              "      <td>Highland</td>\n",
              "      <td>San Bernardino</td>\n",
              "      <td>CA</td>\n",
              "      <td>92346</td>\n",
              "      <td>US</td>\n",
              "      <td>US/Pacific</td>\n",
              "      <td>KSBD</td>\n",
              "      <td>2019-08-23 20:50:00</td>\n",
              "      <td>79.0</td>\n",
              "      <td>79.0</td>\n",
              "      <td>47.0</td>\n",
              "      <td>28.63</td>\n",
              "      <td>7.0</td>\n",
              "      <td>SW</td>\n",
              "      <td>7.0</td>\n",
              "      <td>0.00</td>\n",
              "      <td>Fair</td>\n",
              "      <td>False</td>\n",
              "      <td>False</td>\n",
              "      <td>False</td>\n",
              "      <td>False</td>\n",
              "      <td>False</td>\n",
              "      <td>False</td>\n",
              "      <td>False</td>\n",
              "      <td>False</td>\n",
              "      <td>False</td>\n",
              "      <td>False</td>\n",
              "      <td>False</td>\n",
              "      <td>False</td>\n",
              "      <td>False</td>\n",
              "      <td>Day</td>\n",
              "      <td>Day</td>\n",
              "      <td>Day</td>\n",
              "      <td>Day</td>\n",
              "    </tr>\n",
              "  </tbody>\n",
              "</table>\n",
              "<p>1516064 rows × 47 columns</p>\n",
              "</div>\n",
              "      <button class=\"colab-df-convert\" onclick=\"convertToInteractive('df-5ecac446-8cff-4f6c-8e9f-d75772734ede')\"\n",
              "              title=\"Convert this dataframe to an interactive table.\"\n",
              "              style=\"display:none;\">\n",
              "        \n",
              "  <svg xmlns=\"http://www.w3.org/2000/svg\" height=\"24px\"viewBox=\"0 0 24 24\"\n",
              "       width=\"24px\">\n",
              "    <path d=\"M0 0h24v24H0V0z\" fill=\"none\"/>\n",
              "    <path d=\"M18.56 5.44l.94 2.06.94-2.06 2.06-.94-2.06-.94-.94-2.06-.94 2.06-2.06.94zm-11 1L8.5 8.5l.94-2.06 2.06-.94-2.06-.94L8.5 2.5l-.94 2.06-2.06.94zm10 10l.94 2.06.94-2.06 2.06-.94-2.06-.94-.94-2.06-.94 2.06-2.06.94z\"/><path d=\"M17.41 7.96l-1.37-1.37c-.4-.4-.92-.59-1.43-.59-.52 0-1.04.2-1.43.59L10.3 9.45l-7.72 7.72c-.78.78-.78 2.05 0 2.83L4 21.41c.39.39.9.59 1.41.59.51 0 1.02-.2 1.41-.59l7.78-7.78 2.81-2.81c.8-.78.8-2.07 0-2.86zM5.41 20L4 18.59l7.72-7.72 1.47 1.35L5.41 20z\"/>\n",
              "  </svg>\n",
              "      </button>\n",
              "      \n",
              "  <style>\n",
              "    .colab-df-container {\n",
              "      display:flex;\n",
              "      flex-wrap:wrap;\n",
              "      gap: 12px;\n",
              "    }\n",
              "\n",
              "    .colab-df-convert {\n",
              "      background-color: #E8F0FE;\n",
              "      border: none;\n",
              "      border-radius: 50%;\n",
              "      cursor: pointer;\n",
              "      display: none;\n",
              "      fill: #1967D2;\n",
              "      height: 32px;\n",
              "      padding: 0 0 0 0;\n",
              "      width: 32px;\n",
              "    }\n",
              "\n",
              "    .colab-df-convert:hover {\n",
              "      background-color: #E2EBFA;\n",
              "      box-shadow: 0px 1px 2px rgba(60, 64, 67, 0.3), 0px 1px 3px 1px rgba(60, 64, 67, 0.15);\n",
              "      fill: #174EA6;\n",
              "    }\n",
              "\n",
              "    [theme=dark] .colab-df-convert {\n",
              "      background-color: #3B4455;\n",
              "      fill: #D2E3FC;\n",
              "    }\n",
              "\n",
              "    [theme=dark] .colab-df-convert:hover {\n",
              "      background-color: #434B5C;\n",
              "      box-shadow: 0px 1px 3px 1px rgba(0, 0, 0, 0.15);\n",
              "      filter: drop-shadow(0px 1px 2px rgba(0, 0, 0, 0.3));\n",
              "      fill: #FFFFFF;\n",
              "    }\n",
              "  </style>\n",
              "\n",
              "      <script>\n",
              "        const buttonEl =\n",
              "          document.querySelector('#df-5ecac446-8cff-4f6c-8e9f-d75772734ede button.colab-df-convert');\n",
              "        buttonEl.style.display =\n",
              "          google.colab.kernel.accessAllowed ? 'block' : 'none';\n",
              "\n",
              "        async function convertToInteractive(key) {\n",
              "          const element = document.querySelector('#df-5ecac446-8cff-4f6c-8e9f-d75772734ede');\n",
              "          const dataTable =\n",
              "            await google.colab.kernel.invokeFunction('convertToInteractive',\n",
              "                                                     [key], {});\n",
              "          if (!dataTable) return;\n",
              "\n",
              "          const docLinkHtml = 'Like what you see? Visit the ' +\n",
              "            '<a target=\"_blank\" href=https://colab.research.google.com/notebooks/data_table.ipynb>data table notebook</a>'\n",
              "            + ' to learn more about interactive tables.';\n",
              "          element.innerHTML = '';\n",
              "          dataTable['output_type'] = 'display_data';\n",
              "          await google.colab.output.renderOutput(dataTable, element);\n",
              "          const docLink = document.createElement('div');\n",
              "          docLink.innerHTML = docLinkHtml;\n",
              "          element.appendChild(docLink);\n",
              "        }\n",
              "      </script>\n",
              "    </div>\n",
              "  </div>\n",
              "  "
            ],
            "text/plain": [
              "                ID  Severity  ... Nautical_Twilight Astronomical_Twilight\n",
              "0        A-2716600         3  ...             Night                 Night\n",
              "1        A-2716601         2  ...             Night                 Night\n",
              "2        A-2716602         2  ...             Night                   Day\n",
              "3        A-2716603         2  ...             Night                   Day\n",
              "4        A-2716604         2  ...               Day                   Day\n",
              "...            ...       ...  ...               ...                   ...\n",
              "1516059  A-4239402         2  ...               Day                   Day\n",
              "1516060  A-4239403         2  ...               Day                   Day\n",
              "1516061  A-4239404         2  ...               Day                   Day\n",
              "1516062  A-4239405         2  ...               Day                   Day\n",
              "1516063  A-4239406         2  ...               Day                   Day\n",
              "\n",
              "[1516064 rows x 47 columns]"
            ]
          },
          "metadata": {},
          "execution_count": 7
        }
      ]
    },
    {
      "cell_type": "code",
      "source": [
        "df.columns"
      ],
      "metadata": {
        "colab": {
          "base_uri": "https://localhost:8080/"
        },
        "id": "LNR_HEDcTF50",
        "outputId": "0be1a743-f856-47ea-eb8b-cf3cb1ce454e"
      },
      "execution_count": null,
      "outputs": [
        {
          "output_type": "execute_result",
          "data": {
            "text/plain": [
              "Index(['ID', 'Severity', 'Start_Time', 'End_Time', 'Start_Lat', 'Start_Lng',\n",
              "       'End_Lat', 'End_Lng', 'Distance(mi)', 'Description', 'Number', 'Street',\n",
              "       'Side', 'City', 'County', 'State', 'Zipcode', 'Country', 'Timezone',\n",
              "       'Airport_Code', 'Weather_Timestamp', 'Temperature(F)', 'Wind_Chill(F)',\n",
              "       'Humidity(%)', 'Pressure(in)', 'Visibility(mi)', 'Wind_Direction',\n",
              "       'Wind_Speed(mph)', 'Precipitation(in)', 'Weather_Condition', 'Amenity',\n",
              "       'Bump', 'Crossing', 'Give_Way', 'Junction', 'No_Exit', 'Railway',\n",
              "       'Roundabout', 'Station', 'Stop', 'Traffic_Calming', 'Traffic_Signal',\n",
              "       'Turning_Loop', 'Sunrise_Sunset', 'Civil_Twilight', 'Nautical_Twilight',\n",
              "       'Astronomical_Twilight'],\n",
              "      dtype='object')"
            ]
          },
          "metadata": {},
          "execution_count": 8
        }
      ]
    },
    {
      "cell_type": "code",
      "source": [
        "df.info()"
      ],
      "metadata": {
        "colab": {
          "base_uri": "https://localhost:8080/"
        },
        "id": "bdFnJm3iTF3B",
        "outputId": "f32f6601-8af0-428a-f4d2-3b52b5971d56"
      },
      "execution_count": null,
      "outputs": [
        {
          "output_type": "stream",
          "name": "stdout",
          "text": [
            "<class 'pandas.core.frame.DataFrame'>\n",
            "RangeIndex: 1516064 entries, 0 to 1516063\n",
            "Data columns (total 47 columns):\n",
            " #   Column                 Non-Null Count    Dtype  \n",
            "---  ------                 --------------    -----  \n",
            " 0   ID                     1516064 non-null  object \n",
            " 1   Severity               1516064 non-null  int64  \n",
            " 2   Start_Time             1516064 non-null  object \n",
            " 3   End_Time               1516064 non-null  object \n",
            " 4   Start_Lat              1516064 non-null  float64\n",
            " 5   Start_Lng              1516064 non-null  float64\n",
            " 6   End_Lat                1516064 non-null  float64\n",
            " 7   End_Lng                1516064 non-null  float64\n",
            " 8   Distance(mi)           1516064 non-null  float64\n",
            " 9   Description            1516064 non-null  object \n",
            " 10  Number                 469969 non-null   float64\n",
            " 11  Street                 1516064 non-null  object \n",
            " 12  Side                   1516064 non-null  object \n",
            " 13  City                   1515981 non-null  object \n",
            " 14  County                 1516064 non-null  object \n",
            " 15  State                  1516064 non-null  object \n",
            " 16  Zipcode                1515129 non-null  object \n",
            " 17  Country                1516064 non-null  object \n",
            " 18  Timezone               1513762 non-null  object \n",
            " 19  Airport_Code           1511816 non-null  object \n",
            " 20  Weather_Timestamp      1485800 non-null  object \n",
            " 21  Temperature(F)         1473031 non-null  float64\n",
            " 22  Wind_Chill(F)          1066748 non-null  float64\n",
            " 23  Humidity(%)            1470555 non-null  float64\n",
            " 24  Pressure(in)           1479790 non-null  float64\n",
            " 25  Visibility(mi)         1471853 non-null  float64\n",
            " 26  Wind_Direction         1474206 non-null  object \n",
            " 27  Wind_Speed(mph)        1387202 non-null  float64\n",
            " 28  Precipitation(in)      1005515 non-null  float64\n",
            " 29  Weather_Condition      1472057 non-null  object \n",
            " 30  Amenity                1516064 non-null  bool   \n",
            " 31  Bump                   1516064 non-null  bool   \n",
            " 32  Crossing               1516064 non-null  bool   \n",
            " 33  Give_Way               1516064 non-null  bool   \n",
            " 34  Junction               1516064 non-null  bool   \n",
            " 35  No_Exit                1516064 non-null  bool   \n",
            " 36  Railway                1516064 non-null  bool   \n",
            " 37  Roundabout             1516064 non-null  bool   \n",
            " 38  Station                1516064 non-null  bool   \n",
            " 39  Stop                   1516064 non-null  bool   \n",
            " 40  Traffic_Calming        1516064 non-null  bool   \n",
            " 41  Traffic_Signal         1516064 non-null  bool   \n",
            " 42  Turning_Loop           1516064 non-null  bool   \n",
            " 43  Sunrise_Sunset         1515981 non-null  object \n",
            " 44  Civil_Twilight         1515981 non-null  object \n",
            " 45  Nautical_Twilight      1515981 non-null  object \n",
            " 46  Astronomical_Twilight  1515981 non-null  object \n",
            "dtypes: bool(13), float64(13), int64(1), object(20)\n",
            "memory usage: 412.1+ MB\n"
          ]
        }
      ]
    },
    {
      "cell_type": "code",
      "source": [
        "df.describe()"
      ],
      "metadata": {
        "colab": {
          "base_uri": "https://localhost:8080/",
          "height": 364
        },
        "id": "lJ0kqmbmTF0R",
        "outputId": "e268878f-aa99-4044-da30-611c6fecbedb"
      },
      "execution_count": null,
      "outputs": [
        {
          "output_type": "execute_result",
          "data": {
            "text/html": [
              "\n",
              "  <div id=\"df-900ef794-54ab-4aaf-b490-855a859ef6d7\">\n",
              "    <div class=\"colab-df-container\">\n",
              "      <div>\n",
              "<style scoped>\n",
              "    .dataframe tbody tr th:only-of-type {\n",
              "        vertical-align: middle;\n",
              "    }\n",
              "\n",
              "    .dataframe tbody tr th {\n",
              "        vertical-align: top;\n",
              "    }\n",
              "\n",
              "    .dataframe thead th {\n",
              "        text-align: right;\n",
              "    }\n",
              "</style>\n",
              "<table border=\"1\" class=\"dataframe\">\n",
              "  <thead>\n",
              "    <tr style=\"text-align: right;\">\n",
              "      <th></th>\n",
              "      <th>Severity</th>\n",
              "      <th>Start_Lat</th>\n",
              "      <th>Start_Lng</th>\n",
              "      <th>End_Lat</th>\n",
              "      <th>End_Lng</th>\n",
              "      <th>Distance(mi)</th>\n",
              "      <th>Number</th>\n",
              "      <th>Temperature(F)</th>\n",
              "      <th>Wind_Chill(F)</th>\n",
              "      <th>Humidity(%)</th>\n",
              "      <th>Pressure(in)</th>\n",
              "      <th>Visibility(mi)</th>\n",
              "      <th>Wind_Speed(mph)</th>\n",
              "      <th>Precipitation(in)</th>\n",
              "    </tr>\n",
              "  </thead>\n",
              "  <tbody>\n",
              "    <tr>\n",
              "      <th>count</th>\n",
              "      <td>1.516064e+06</td>\n",
              "      <td>1.516064e+06</td>\n",
              "      <td>1.516064e+06</td>\n",
              "      <td>1.516064e+06</td>\n",
              "      <td>1.516064e+06</td>\n",
              "      <td>1.516064e+06</td>\n",
              "      <td>4.699690e+05</td>\n",
              "      <td>1.473031e+06</td>\n",
              "      <td>1.066748e+06</td>\n",
              "      <td>1.470555e+06</td>\n",
              "      <td>1.479790e+06</td>\n",
              "      <td>1.471853e+06</td>\n",
              "      <td>1.387202e+06</td>\n",
              "      <td>1.005515e+06</td>\n",
              "    </tr>\n",
              "    <tr>\n",
              "      <th>mean</th>\n",
              "      <td>2.238630e+00</td>\n",
              "      <td>3.690056e+01</td>\n",
              "      <td>-9.859919e+01</td>\n",
              "      <td>3.690061e+01</td>\n",
              "      <td>-9.859901e+01</td>\n",
              "      <td>5.872617e-01</td>\n",
              "      <td>8.907533e+03</td>\n",
              "      <td>5.958460e+01</td>\n",
              "      <td>5.510976e+01</td>\n",
              "      <td>6.465960e+01</td>\n",
              "      <td>2.955495e+01</td>\n",
              "      <td>9.131755e+00</td>\n",
              "      <td>7.630812e+00</td>\n",
              "      <td>8.477855e-03</td>\n",
              "    </tr>\n",
              "    <tr>\n",
              "      <th>std</th>\n",
              "      <td>6.081481e-01</td>\n",
              "      <td>5.165653e+00</td>\n",
              "      <td>1.849602e+01</td>\n",
              "      <td>5.165629e+00</td>\n",
              "      <td>1.849590e+01</td>\n",
              "      <td>1.632659e+00</td>\n",
              "      <td>2.242190e+04</td>\n",
              "      <td>1.827316e+01</td>\n",
              "      <td>2.112735e+01</td>\n",
              "      <td>2.325986e+01</td>\n",
              "      <td>1.016756e+00</td>\n",
              "      <td>2.889112e+00</td>\n",
              "      <td>5.637364e+00</td>\n",
              "      <td>1.293168e-01</td>\n",
              "    </tr>\n",
              "    <tr>\n",
              "      <th>min</th>\n",
              "      <td>1.000000e+00</td>\n",
              "      <td>2.457022e+01</td>\n",
              "      <td>-1.244976e+02</td>\n",
              "      <td>2.457011e+01</td>\n",
              "      <td>-1.244978e+02</td>\n",
              "      <td>0.000000e+00</td>\n",
              "      <td>0.000000e+00</td>\n",
              "      <td>-8.900000e+01</td>\n",
              "      <td>-8.900000e+01</td>\n",
              "      <td>1.000000e+00</td>\n",
              "      <td>0.000000e+00</td>\n",
              "      <td>0.000000e+00</td>\n",
              "      <td>0.000000e+00</td>\n",
              "      <td>0.000000e+00</td>\n",
              "    </tr>\n",
              "    <tr>\n",
              "      <th>25%</th>\n",
              "      <td>2.000000e+00</td>\n",
              "      <td>3.385422e+01</td>\n",
              "      <td>-1.182076e+02</td>\n",
              "      <td>3.385420e+01</td>\n",
              "      <td>-1.182077e+02</td>\n",
              "      <td>0.000000e+00</td>\n",
              "      <td>1.212000e+03</td>\n",
              "      <td>4.700000e+01</td>\n",
              "      <td>4.080000e+01</td>\n",
              "      <td>4.800000e+01</td>\n",
              "      <td>2.944000e+01</td>\n",
              "      <td>1.000000e+01</td>\n",
              "      <td>4.600000e+00</td>\n",
              "      <td>0.000000e+00</td>\n",
              "    </tr>\n",
              "    <tr>\n",
              "      <th>50%</th>\n",
              "      <td>2.000000e+00</td>\n",
              "      <td>3.735113e+01</td>\n",
              "      <td>-9.438100e+01</td>\n",
              "      <td>3.735134e+01</td>\n",
              "      <td>-9.437987e+01</td>\n",
              "      <td>1.780000e-01</td>\n",
              "      <td>4.000000e+03</td>\n",
              "      <td>6.100000e+01</td>\n",
              "      <td>5.700000e+01</td>\n",
              "      <td>6.800000e+01</td>\n",
              "      <td>2.988000e+01</td>\n",
              "      <td>1.000000e+01</td>\n",
              "      <td>7.000000e+00</td>\n",
              "      <td>0.000000e+00</td>\n",
              "    </tr>\n",
              "    <tr>\n",
              "      <th>75%</th>\n",
              "      <td>2.000000e+00</td>\n",
              "      <td>4.072593e+01</td>\n",
              "      <td>-8.087469e+01</td>\n",
              "      <td>4.072593e+01</td>\n",
              "      <td>-8.087449e+01</td>\n",
              "      <td>5.940000e-01</td>\n",
              "      <td>1.010000e+04</td>\n",
              "      <td>7.300000e+01</td>\n",
              "      <td>7.100000e+01</td>\n",
              "      <td>8.400000e+01</td>\n",
              "      <td>3.004000e+01</td>\n",
              "      <td>1.000000e+01</td>\n",
              "      <td>1.040000e+01</td>\n",
              "      <td>0.000000e+00</td>\n",
              "    </tr>\n",
              "    <tr>\n",
              "      <th>max</th>\n",
              "      <td>4.000000e+00</td>\n",
              "      <td>4.900058e+01</td>\n",
              "      <td>-6.711317e+01</td>\n",
              "      <td>4.907500e+01</td>\n",
              "      <td>-6.710924e+01</td>\n",
              "      <td>1.551860e+02</td>\n",
              "      <td>9.999997e+06</td>\n",
              "      <td>1.706000e+02</td>\n",
              "      <td>1.130000e+02</td>\n",
              "      <td>1.000000e+02</td>\n",
              "      <td>5.804000e+01</td>\n",
              "      <td>1.400000e+02</td>\n",
              "      <td>9.840000e+02</td>\n",
              "      <td>2.400000e+01</td>\n",
              "    </tr>\n",
              "  </tbody>\n",
              "</table>\n",
              "</div>\n",
              "      <button class=\"colab-df-convert\" onclick=\"convertToInteractive('df-900ef794-54ab-4aaf-b490-855a859ef6d7')\"\n",
              "              title=\"Convert this dataframe to an interactive table.\"\n",
              "              style=\"display:none;\">\n",
              "        \n",
              "  <svg xmlns=\"http://www.w3.org/2000/svg\" height=\"24px\"viewBox=\"0 0 24 24\"\n",
              "       width=\"24px\">\n",
              "    <path d=\"M0 0h24v24H0V0z\" fill=\"none\"/>\n",
              "    <path d=\"M18.56 5.44l.94 2.06.94-2.06 2.06-.94-2.06-.94-.94-2.06-.94 2.06-2.06.94zm-11 1L8.5 8.5l.94-2.06 2.06-.94-2.06-.94L8.5 2.5l-.94 2.06-2.06.94zm10 10l.94 2.06.94-2.06 2.06-.94-2.06-.94-.94-2.06-.94 2.06-2.06.94z\"/><path d=\"M17.41 7.96l-1.37-1.37c-.4-.4-.92-.59-1.43-.59-.52 0-1.04.2-1.43.59L10.3 9.45l-7.72 7.72c-.78.78-.78 2.05 0 2.83L4 21.41c.39.39.9.59 1.41.59.51 0 1.02-.2 1.41-.59l7.78-7.78 2.81-2.81c.8-.78.8-2.07 0-2.86zM5.41 20L4 18.59l7.72-7.72 1.47 1.35L5.41 20z\"/>\n",
              "  </svg>\n",
              "      </button>\n",
              "      \n",
              "  <style>\n",
              "    .colab-df-container {\n",
              "      display:flex;\n",
              "      flex-wrap:wrap;\n",
              "      gap: 12px;\n",
              "    }\n",
              "\n",
              "    .colab-df-convert {\n",
              "      background-color: #E8F0FE;\n",
              "      border: none;\n",
              "      border-radius: 50%;\n",
              "      cursor: pointer;\n",
              "      display: none;\n",
              "      fill: #1967D2;\n",
              "      height: 32px;\n",
              "      padding: 0 0 0 0;\n",
              "      width: 32px;\n",
              "    }\n",
              "\n",
              "    .colab-df-convert:hover {\n",
              "      background-color: #E2EBFA;\n",
              "      box-shadow: 0px 1px 2px rgba(60, 64, 67, 0.3), 0px 1px 3px 1px rgba(60, 64, 67, 0.15);\n",
              "      fill: #174EA6;\n",
              "    }\n",
              "\n",
              "    [theme=dark] .colab-df-convert {\n",
              "      background-color: #3B4455;\n",
              "      fill: #D2E3FC;\n",
              "    }\n",
              "\n",
              "    [theme=dark] .colab-df-convert:hover {\n",
              "      background-color: #434B5C;\n",
              "      box-shadow: 0px 1px 3px 1px rgba(0, 0, 0, 0.15);\n",
              "      filter: drop-shadow(0px 1px 2px rgba(0, 0, 0, 0.3));\n",
              "      fill: #FFFFFF;\n",
              "    }\n",
              "  </style>\n",
              "\n",
              "      <script>\n",
              "        const buttonEl =\n",
              "          document.querySelector('#df-900ef794-54ab-4aaf-b490-855a859ef6d7 button.colab-df-convert');\n",
              "        buttonEl.style.display =\n",
              "          google.colab.kernel.accessAllowed ? 'block' : 'none';\n",
              "\n",
              "        async function convertToInteractive(key) {\n",
              "          const element = document.querySelector('#df-900ef794-54ab-4aaf-b490-855a859ef6d7');\n",
              "          const dataTable =\n",
              "            await google.colab.kernel.invokeFunction('convertToInteractive',\n",
              "                                                     [key], {});\n",
              "          if (!dataTable) return;\n",
              "\n",
              "          const docLinkHtml = 'Like what you see? Visit the ' +\n",
              "            '<a target=\"_blank\" href=https://colab.research.google.com/notebooks/data_table.ipynb>data table notebook</a>'\n",
              "            + ' to learn more about interactive tables.';\n",
              "          element.innerHTML = '';\n",
              "          dataTable['output_type'] = 'display_data';\n",
              "          await google.colab.output.renderOutput(dataTable, element);\n",
              "          const docLink = document.createElement('div');\n",
              "          docLink.innerHTML = docLinkHtml;\n",
              "          element.appendChild(docLink);\n",
              "        }\n",
              "      </script>\n",
              "    </div>\n",
              "  </div>\n",
              "  "
            ],
            "text/plain": [
              "           Severity     Start_Lat  ...  Wind_Speed(mph)  Precipitation(in)\n",
              "count  1.516064e+06  1.516064e+06  ...     1.387202e+06       1.005515e+06\n",
              "mean   2.238630e+00  3.690056e+01  ...     7.630812e+00       8.477855e-03\n",
              "std    6.081481e-01  5.165653e+00  ...     5.637364e+00       1.293168e-01\n",
              "min    1.000000e+00  2.457022e+01  ...     0.000000e+00       0.000000e+00\n",
              "25%    2.000000e+00  3.385422e+01  ...     4.600000e+00       0.000000e+00\n",
              "50%    2.000000e+00  3.735113e+01  ...     7.000000e+00       0.000000e+00\n",
              "75%    2.000000e+00  4.072593e+01  ...     1.040000e+01       0.000000e+00\n",
              "max    4.000000e+00  4.900058e+01  ...     9.840000e+02       2.400000e+01\n",
              "\n",
              "[8 rows x 14 columns]"
            ]
          },
          "metadata": {},
          "execution_count": 10
        }
      ]
    },
    {
      "cell_type": "code",
      "source": [
        "numerics = ['int16','int32','int64','float16','float32','float64']\n",
        "num_df = df.select_dtypes(include=numerics)"
      ],
      "metadata": {
        "id": "y_ppHtKTTFxB"
      },
      "execution_count": null,
      "outputs": []
    },
    {
      "cell_type": "code",
      "source": [
        "num_df"
      ],
      "metadata": {
        "colab": {
          "base_uri": "https://localhost:8080/",
          "height": 487
        },
        "id": "-JCwa639TFtf",
        "outputId": "a8255845-f906-4ca0-fae0-8b561d52cdaa"
      },
      "execution_count": null,
      "outputs": [
        {
          "output_type": "execute_result",
          "data": {
            "text/html": [
              "\n",
              "  <div id=\"df-6f849e73-7694-4e72-86ea-c190e969fd67\">\n",
              "    <div class=\"colab-df-container\">\n",
              "      <div>\n",
              "<style scoped>\n",
              "    .dataframe tbody tr th:only-of-type {\n",
              "        vertical-align: middle;\n",
              "    }\n",
              "\n",
              "    .dataframe tbody tr th {\n",
              "        vertical-align: top;\n",
              "    }\n",
              "\n",
              "    .dataframe thead th {\n",
              "        text-align: right;\n",
              "    }\n",
              "</style>\n",
              "<table border=\"1\" class=\"dataframe\">\n",
              "  <thead>\n",
              "    <tr style=\"text-align: right;\">\n",
              "      <th></th>\n",
              "      <th>Severity</th>\n",
              "      <th>Start_Lat</th>\n",
              "      <th>Start_Lng</th>\n",
              "      <th>End_Lat</th>\n",
              "      <th>End_Lng</th>\n",
              "      <th>Distance(mi)</th>\n",
              "      <th>Number</th>\n",
              "      <th>Temperature(F)</th>\n",
              "      <th>Wind_Chill(F)</th>\n",
              "      <th>Humidity(%)</th>\n",
              "      <th>Pressure(in)</th>\n",
              "      <th>Visibility(mi)</th>\n",
              "      <th>Wind_Speed(mph)</th>\n",
              "      <th>Precipitation(in)</th>\n",
              "    </tr>\n",
              "  </thead>\n",
              "  <tbody>\n",
              "    <tr>\n",
              "      <th>0</th>\n",
              "      <td>3</td>\n",
              "      <td>40.10891</td>\n",
              "      <td>-83.09286</td>\n",
              "      <td>40.11206</td>\n",
              "      <td>-83.03187</td>\n",
              "      <td>3.230</td>\n",
              "      <td>NaN</td>\n",
              "      <td>42.1</td>\n",
              "      <td>36.1</td>\n",
              "      <td>58.0</td>\n",
              "      <td>29.76</td>\n",
              "      <td>10.0</td>\n",
              "      <td>10.4</td>\n",
              "      <td>0.00</td>\n",
              "    </tr>\n",
              "    <tr>\n",
              "      <th>1</th>\n",
              "      <td>2</td>\n",
              "      <td>39.86542</td>\n",
              "      <td>-84.06280</td>\n",
              "      <td>39.86501</td>\n",
              "      <td>-84.04873</td>\n",
              "      <td>0.747</td>\n",
              "      <td>NaN</td>\n",
              "      <td>36.9</td>\n",
              "      <td>NaN</td>\n",
              "      <td>91.0</td>\n",
              "      <td>29.68</td>\n",
              "      <td>10.0</td>\n",
              "      <td>NaN</td>\n",
              "      <td>0.02</td>\n",
              "    </tr>\n",
              "    <tr>\n",
              "      <th>2</th>\n",
              "      <td>2</td>\n",
              "      <td>39.10266</td>\n",
              "      <td>-84.52468</td>\n",
              "      <td>39.10209</td>\n",
              "      <td>-84.52396</td>\n",
              "      <td>0.055</td>\n",
              "      <td>NaN</td>\n",
              "      <td>36.0</td>\n",
              "      <td>NaN</td>\n",
              "      <td>97.0</td>\n",
              "      <td>29.70</td>\n",
              "      <td>10.0</td>\n",
              "      <td>NaN</td>\n",
              "      <td>0.02</td>\n",
              "    </tr>\n",
              "    <tr>\n",
              "      <th>3</th>\n",
              "      <td>2</td>\n",
              "      <td>39.10148</td>\n",
              "      <td>-84.52341</td>\n",
              "      <td>39.09841</td>\n",
              "      <td>-84.52241</td>\n",
              "      <td>0.219</td>\n",
              "      <td>NaN</td>\n",
              "      <td>36.0</td>\n",
              "      <td>NaN</td>\n",
              "      <td>97.0</td>\n",
              "      <td>29.70</td>\n",
              "      <td>10.0</td>\n",
              "      <td>NaN</td>\n",
              "      <td>0.02</td>\n",
              "    </tr>\n",
              "    <tr>\n",
              "      <th>4</th>\n",
              "      <td>2</td>\n",
              "      <td>41.06213</td>\n",
              "      <td>-81.53784</td>\n",
              "      <td>41.06217</td>\n",
              "      <td>-81.53547</td>\n",
              "      <td>0.123</td>\n",
              "      <td>NaN</td>\n",
              "      <td>39.0</td>\n",
              "      <td>NaN</td>\n",
              "      <td>55.0</td>\n",
              "      <td>29.65</td>\n",
              "      <td>10.0</td>\n",
              "      <td>NaN</td>\n",
              "      <td>NaN</td>\n",
              "    </tr>\n",
              "    <tr>\n",
              "      <th>...</th>\n",
              "      <td>...</td>\n",
              "      <td>...</td>\n",
              "      <td>...</td>\n",
              "      <td>...</td>\n",
              "      <td>...</td>\n",
              "      <td>...</td>\n",
              "      <td>...</td>\n",
              "      <td>...</td>\n",
              "      <td>...</td>\n",
              "      <td>...</td>\n",
              "      <td>...</td>\n",
              "      <td>...</td>\n",
              "      <td>...</td>\n",
              "      <td>...</td>\n",
              "    </tr>\n",
              "    <tr>\n",
              "      <th>1516059</th>\n",
              "      <td>2</td>\n",
              "      <td>34.00248</td>\n",
              "      <td>-117.37936</td>\n",
              "      <td>33.99888</td>\n",
              "      <td>-117.37094</td>\n",
              "      <td>0.543</td>\n",
              "      <td>NaN</td>\n",
              "      <td>86.0</td>\n",
              "      <td>86.0</td>\n",
              "      <td>40.0</td>\n",
              "      <td>28.92</td>\n",
              "      <td>10.0</td>\n",
              "      <td>13.0</td>\n",
              "      <td>0.00</td>\n",
              "    </tr>\n",
              "    <tr>\n",
              "      <th>1516060</th>\n",
              "      <td>2</td>\n",
              "      <td>32.76696</td>\n",
              "      <td>-117.14806</td>\n",
              "      <td>32.76555</td>\n",
              "      <td>-117.15363</td>\n",
              "      <td>0.338</td>\n",
              "      <td>NaN</td>\n",
              "      <td>70.0</td>\n",
              "      <td>70.0</td>\n",
              "      <td>73.0</td>\n",
              "      <td>29.39</td>\n",
              "      <td>10.0</td>\n",
              "      <td>6.0</td>\n",
              "      <td>0.00</td>\n",
              "    </tr>\n",
              "    <tr>\n",
              "      <th>1516061</th>\n",
              "      <td>2</td>\n",
              "      <td>33.77545</td>\n",
              "      <td>-117.84779</td>\n",
              "      <td>33.77740</td>\n",
              "      <td>-117.85727</td>\n",
              "      <td>0.561</td>\n",
              "      <td>NaN</td>\n",
              "      <td>73.0</td>\n",
              "      <td>73.0</td>\n",
              "      <td>64.0</td>\n",
              "      <td>29.74</td>\n",
              "      <td>10.0</td>\n",
              "      <td>10.0</td>\n",
              "      <td>0.00</td>\n",
              "    </tr>\n",
              "    <tr>\n",
              "      <th>1516062</th>\n",
              "      <td>2</td>\n",
              "      <td>33.99246</td>\n",
              "      <td>-118.40302</td>\n",
              "      <td>33.98311</td>\n",
              "      <td>-118.39565</td>\n",
              "      <td>0.772</td>\n",
              "      <td>NaN</td>\n",
              "      <td>71.0</td>\n",
              "      <td>71.0</td>\n",
              "      <td>81.0</td>\n",
              "      <td>29.62</td>\n",
              "      <td>10.0</td>\n",
              "      <td>8.0</td>\n",
              "      <td>0.00</td>\n",
              "    </tr>\n",
              "    <tr>\n",
              "      <th>1516063</th>\n",
              "      <td>2</td>\n",
              "      <td>34.13393</td>\n",
              "      <td>-117.23092</td>\n",
              "      <td>34.13736</td>\n",
              "      <td>-117.23934</td>\n",
              "      <td>0.537</td>\n",
              "      <td>NaN</td>\n",
              "      <td>79.0</td>\n",
              "      <td>79.0</td>\n",
              "      <td>47.0</td>\n",
              "      <td>28.63</td>\n",
              "      <td>7.0</td>\n",
              "      <td>7.0</td>\n",
              "      <td>0.00</td>\n",
              "    </tr>\n",
              "  </tbody>\n",
              "</table>\n",
              "<p>1516064 rows × 14 columns</p>\n",
              "</div>\n",
              "      <button class=\"colab-df-convert\" onclick=\"convertToInteractive('df-6f849e73-7694-4e72-86ea-c190e969fd67')\"\n",
              "              title=\"Convert this dataframe to an interactive table.\"\n",
              "              style=\"display:none;\">\n",
              "        \n",
              "  <svg xmlns=\"http://www.w3.org/2000/svg\" height=\"24px\"viewBox=\"0 0 24 24\"\n",
              "       width=\"24px\">\n",
              "    <path d=\"M0 0h24v24H0V0z\" fill=\"none\"/>\n",
              "    <path d=\"M18.56 5.44l.94 2.06.94-2.06 2.06-.94-2.06-.94-.94-2.06-.94 2.06-2.06.94zm-11 1L8.5 8.5l.94-2.06 2.06-.94-2.06-.94L8.5 2.5l-.94 2.06-2.06.94zm10 10l.94 2.06.94-2.06 2.06-.94-2.06-.94-.94-2.06-.94 2.06-2.06.94z\"/><path d=\"M17.41 7.96l-1.37-1.37c-.4-.4-.92-.59-1.43-.59-.52 0-1.04.2-1.43.59L10.3 9.45l-7.72 7.72c-.78.78-.78 2.05 0 2.83L4 21.41c.39.39.9.59 1.41.59.51 0 1.02-.2 1.41-.59l7.78-7.78 2.81-2.81c.8-.78.8-2.07 0-2.86zM5.41 20L4 18.59l7.72-7.72 1.47 1.35L5.41 20z\"/>\n",
              "  </svg>\n",
              "      </button>\n",
              "      \n",
              "  <style>\n",
              "    .colab-df-container {\n",
              "      display:flex;\n",
              "      flex-wrap:wrap;\n",
              "      gap: 12px;\n",
              "    }\n",
              "\n",
              "    .colab-df-convert {\n",
              "      background-color: #E8F0FE;\n",
              "      border: none;\n",
              "      border-radius: 50%;\n",
              "      cursor: pointer;\n",
              "      display: none;\n",
              "      fill: #1967D2;\n",
              "      height: 32px;\n",
              "      padding: 0 0 0 0;\n",
              "      width: 32px;\n",
              "    }\n",
              "\n",
              "    .colab-df-convert:hover {\n",
              "      background-color: #E2EBFA;\n",
              "      box-shadow: 0px 1px 2px rgba(60, 64, 67, 0.3), 0px 1px 3px 1px rgba(60, 64, 67, 0.15);\n",
              "      fill: #174EA6;\n",
              "    }\n",
              "\n",
              "    [theme=dark] .colab-df-convert {\n",
              "      background-color: #3B4455;\n",
              "      fill: #D2E3FC;\n",
              "    }\n",
              "\n",
              "    [theme=dark] .colab-df-convert:hover {\n",
              "      background-color: #434B5C;\n",
              "      box-shadow: 0px 1px 3px 1px rgba(0, 0, 0, 0.15);\n",
              "      filter: drop-shadow(0px 1px 2px rgba(0, 0, 0, 0.3));\n",
              "      fill: #FFFFFF;\n",
              "    }\n",
              "  </style>\n",
              "\n",
              "      <script>\n",
              "        const buttonEl =\n",
              "          document.querySelector('#df-6f849e73-7694-4e72-86ea-c190e969fd67 button.colab-df-convert');\n",
              "        buttonEl.style.display =\n",
              "          google.colab.kernel.accessAllowed ? 'block' : 'none';\n",
              "\n",
              "        async function convertToInteractive(key) {\n",
              "          const element = document.querySelector('#df-6f849e73-7694-4e72-86ea-c190e969fd67');\n",
              "          const dataTable =\n",
              "            await google.colab.kernel.invokeFunction('convertToInteractive',\n",
              "                                                     [key], {});\n",
              "          if (!dataTable) return;\n",
              "\n",
              "          const docLinkHtml = 'Like what you see? Visit the ' +\n",
              "            '<a target=\"_blank\" href=https://colab.research.google.com/notebooks/data_table.ipynb>data table notebook</a>'\n",
              "            + ' to learn more about interactive tables.';\n",
              "          element.innerHTML = '';\n",
              "          dataTable['output_type'] = 'display_data';\n",
              "          await google.colab.output.renderOutput(dataTable, element);\n",
              "          const docLink = document.createElement('div');\n",
              "          docLink.innerHTML = docLinkHtml;\n",
              "          element.appendChild(docLink);\n",
              "        }\n",
              "      </script>\n",
              "    </div>\n",
              "  </div>\n",
              "  "
            ],
            "text/plain": [
              "         Severity  Start_Lat  ...  Wind_Speed(mph)  Precipitation(in)\n",
              "0               3   40.10891  ...             10.4               0.00\n",
              "1               2   39.86542  ...              NaN               0.02\n",
              "2               2   39.10266  ...              NaN               0.02\n",
              "3               2   39.10148  ...              NaN               0.02\n",
              "4               2   41.06213  ...              NaN                NaN\n",
              "...           ...        ...  ...              ...                ...\n",
              "1516059         2   34.00248  ...             13.0               0.00\n",
              "1516060         2   32.76696  ...              6.0               0.00\n",
              "1516061         2   33.77545  ...             10.0               0.00\n",
              "1516062         2   33.99246  ...              8.0               0.00\n",
              "1516063         2   34.13393  ...              7.0               0.00\n",
              "\n",
              "[1516064 rows x 14 columns]"
            ]
          },
          "metadata": {},
          "execution_count": 13
        }
      ]
    },
    {
      "cell_type": "code",
      "source": [
        "Non_Null_num_df = num_df.dropna()\n",
        "Non_Null_num_df"
      ],
      "metadata": {
        "colab": {
          "base_uri": "https://localhost:8080/",
          "height": 686
        },
        "id": "XaCworIyTFn4",
        "outputId": "01a52ef6-b30c-462a-ac02-c2d23e8a81b1"
      },
      "execution_count": null,
      "outputs": [
        {
          "output_type": "execute_result",
          "data": {
            "text/html": [
              "\n",
              "  <div id=\"df-3a1e6eb9-fa97-4406-b167-c101d2e0caf3\">\n",
              "    <div class=\"colab-df-container\">\n",
              "      <div>\n",
              "<style scoped>\n",
              "    .dataframe tbody tr th:only-of-type {\n",
              "        vertical-align: middle;\n",
              "    }\n",
              "\n",
              "    .dataframe tbody tr th {\n",
              "        vertical-align: top;\n",
              "    }\n",
              "\n",
              "    .dataframe thead th {\n",
              "        text-align: right;\n",
              "    }\n",
              "</style>\n",
              "<table border=\"1\" class=\"dataframe\">\n",
              "  <thead>\n",
              "    <tr style=\"text-align: right;\">\n",
              "      <th></th>\n",
              "      <th>Severity</th>\n",
              "      <th>Start_Lat</th>\n",
              "      <th>Start_Lng</th>\n",
              "      <th>End_Lat</th>\n",
              "      <th>End_Lng</th>\n",
              "      <th>Distance(mi)</th>\n",
              "      <th>Number</th>\n",
              "      <th>Temperature(F)</th>\n",
              "      <th>Wind_Chill(F)</th>\n",
              "      <th>Humidity(%)</th>\n",
              "      <th>Pressure(in)</th>\n",
              "      <th>Visibility(mi)</th>\n",
              "      <th>Wind_Speed(mph)</th>\n",
              "      <th>Precipitation(in)</th>\n",
              "    </tr>\n",
              "  </thead>\n",
              "  <tbody>\n",
              "    <tr>\n",
              "      <th>44</th>\n",
              "      <td>4</td>\n",
              "      <td>40.451120</td>\n",
              "      <td>-85.150480</td>\n",
              "      <td>40.354290</td>\n",
              "      <td>-85.149930</td>\n",
              "      <td>6.690</td>\n",
              "      <td>9001.0</td>\n",
              "      <td>19.9</td>\n",
              "      <td>7.3</td>\n",
              "      <td>81.0</td>\n",
              "      <td>29.85</td>\n",
              "      <td>2.0</td>\n",
              "      <td>12.7</td>\n",
              "      <td>0.00</td>\n",
              "    </tr>\n",
              "    <tr>\n",
              "      <th>45</th>\n",
              "      <td>4</td>\n",
              "      <td>40.354290</td>\n",
              "      <td>-85.149930</td>\n",
              "      <td>40.451120</td>\n",
              "      <td>-85.150480</td>\n",
              "      <td>6.690</td>\n",
              "      <td>473.0</td>\n",
              "      <td>19.9</td>\n",
              "      <td>7.3</td>\n",
              "      <td>81.0</td>\n",
              "      <td>29.85</td>\n",
              "      <td>2.0</td>\n",
              "      <td>12.7</td>\n",
              "      <td>0.00</td>\n",
              "    </tr>\n",
              "    <tr>\n",
              "      <th>49</th>\n",
              "      <td>4</td>\n",
              "      <td>40.728130</td>\n",
              "      <td>-84.789650</td>\n",
              "      <td>40.745590</td>\n",
              "      <td>-84.789620</td>\n",
              "      <td>1.206</td>\n",
              "      <td>12998.0</td>\n",
              "      <td>17.1</td>\n",
              "      <td>0.6</td>\n",
              "      <td>77.0</td>\n",
              "      <td>29.91</td>\n",
              "      <td>2.5</td>\n",
              "      <td>19.6</td>\n",
              "      <td>0.01</td>\n",
              "    </tr>\n",
              "    <tr>\n",
              "      <th>52</th>\n",
              "      <td>2</td>\n",
              "      <td>41.831930</td>\n",
              "      <td>-80.101430</td>\n",
              "      <td>41.841490</td>\n",
              "      <td>-80.110990</td>\n",
              "      <td>0.824</td>\n",
              "      <td>25529.0</td>\n",
              "      <td>21.0</td>\n",
              "      <td>9.9</td>\n",
              "      <td>85.0</td>\n",
              "      <td>29.69</td>\n",
              "      <td>1.0</td>\n",
              "      <td>10.4</td>\n",
              "      <td>0.00</td>\n",
              "    </tr>\n",
              "    <tr>\n",
              "      <th>69</th>\n",
              "      <td>2</td>\n",
              "      <td>41.483390</td>\n",
              "      <td>-81.662970</td>\n",
              "      <td>41.476920</td>\n",
              "      <td>-81.660750</td>\n",
              "      <td>0.462</td>\n",
              "      <td>3937.0</td>\n",
              "      <td>24.1</td>\n",
              "      <td>7.1</td>\n",
              "      <td>75.0</td>\n",
              "      <td>29.82</td>\n",
              "      <td>2.0</td>\n",
              "      <td>28.8</td>\n",
              "      <td>0.00</td>\n",
              "    </tr>\n",
              "    <tr>\n",
              "      <th>...</th>\n",
              "      <td>...</td>\n",
              "      <td>...</td>\n",
              "      <td>...</td>\n",
              "      <td>...</td>\n",
              "      <td>...</td>\n",
              "      <td>...</td>\n",
              "      <td>...</td>\n",
              "      <td>...</td>\n",
              "      <td>...</td>\n",
              "      <td>...</td>\n",
              "      <td>...</td>\n",
              "      <td>...</td>\n",
              "      <td>...</td>\n",
              "      <td>...</td>\n",
              "    </tr>\n",
              "    <tr>\n",
              "      <th>1516020</th>\n",
              "      <td>3</td>\n",
              "      <td>37.609816</td>\n",
              "      <td>-122.493720</td>\n",
              "      <td>37.608821</td>\n",
              "      <td>-122.495261</td>\n",
              "      <td>0.109</td>\n",
              "      <td>895.0</td>\n",
              "      <td>78.0</td>\n",
              "      <td>78.0</td>\n",
              "      <td>54.0</td>\n",
              "      <td>29.77</td>\n",
              "      <td>10.0</td>\n",
              "      <td>7.0</td>\n",
              "      <td>0.00</td>\n",
              "    </tr>\n",
              "    <tr>\n",
              "      <th>1516024</th>\n",
              "      <td>4</td>\n",
              "      <td>38.995930</td>\n",
              "      <td>-121.672020</td>\n",
              "      <td>39.003170</td>\n",
              "      <td>-121.662679</td>\n",
              "      <td>0.708</td>\n",
              "      <td>3044.0</td>\n",
              "      <td>98.0</td>\n",
              "      <td>98.0</td>\n",
              "      <td>23.0</td>\n",
              "      <td>29.62</td>\n",
              "      <td>10.0</td>\n",
              "      <td>8.0</td>\n",
              "      <td>0.00</td>\n",
              "    </tr>\n",
              "    <tr>\n",
              "      <th>1516025</th>\n",
              "      <td>4</td>\n",
              "      <td>39.003170</td>\n",
              "      <td>-121.662679</td>\n",
              "      <td>38.995930</td>\n",
              "      <td>-121.672020</td>\n",
              "      <td>0.708</td>\n",
              "      <td>2500.0</td>\n",
              "      <td>98.0</td>\n",
              "      <td>98.0</td>\n",
              "      <td>23.0</td>\n",
              "      <td>29.62</td>\n",
              "      <td>10.0</td>\n",
              "      <td>8.0</td>\n",
              "      <td>0.00</td>\n",
              "    </tr>\n",
              "    <tr>\n",
              "      <th>1516026</th>\n",
              "      <td>3</td>\n",
              "      <td>34.121320</td>\n",
              "      <td>-117.254540</td>\n",
              "      <td>34.121320</td>\n",
              "      <td>-117.254540</td>\n",
              "      <td>0.000</td>\n",
              "      <td>1498.0</td>\n",
              "      <td>67.0</td>\n",
              "      <td>67.0</td>\n",
              "      <td>73.0</td>\n",
              "      <td>28.61</td>\n",
              "      <td>10.0</td>\n",
              "      <td>3.0</td>\n",
              "      <td>0.00</td>\n",
              "    </tr>\n",
              "    <tr>\n",
              "      <th>1516029</th>\n",
              "      <td>3</td>\n",
              "      <td>34.485189</td>\n",
              "      <td>-120.229276</td>\n",
              "      <td>34.482530</td>\n",
              "      <td>-120.230510</td>\n",
              "      <td>0.197</td>\n",
              "      <td>18000.0</td>\n",
              "      <td>70.0</td>\n",
              "      <td>70.0</td>\n",
              "      <td>76.0</td>\n",
              "      <td>29.87</td>\n",
              "      <td>9.0</td>\n",
              "      <td>3.0</td>\n",
              "      <td>0.00</td>\n",
              "    </tr>\n",
              "  </tbody>\n",
              "</table>\n",
              "<p>335552 rows × 14 columns</p>\n",
              "</div>\n",
              "      <button class=\"colab-df-convert\" onclick=\"convertToInteractive('df-3a1e6eb9-fa97-4406-b167-c101d2e0caf3')\"\n",
              "              title=\"Convert this dataframe to an interactive table.\"\n",
              "              style=\"display:none;\">\n",
              "        \n",
              "  <svg xmlns=\"http://www.w3.org/2000/svg\" height=\"24px\"viewBox=\"0 0 24 24\"\n",
              "       width=\"24px\">\n",
              "    <path d=\"M0 0h24v24H0V0z\" fill=\"none\"/>\n",
              "    <path d=\"M18.56 5.44l.94 2.06.94-2.06 2.06-.94-2.06-.94-.94-2.06-.94 2.06-2.06.94zm-11 1L8.5 8.5l.94-2.06 2.06-.94-2.06-.94L8.5 2.5l-.94 2.06-2.06.94zm10 10l.94 2.06.94-2.06 2.06-.94-2.06-.94-.94-2.06-.94 2.06-2.06.94z\"/><path d=\"M17.41 7.96l-1.37-1.37c-.4-.4-.92-.59-1.43-.59-.52 0-1.04.2-1.43.59L10.3 9.45l-7.72 7.72c-.78.78-.78 2.05 0 2.83L4 21.41c.39.39.9.59 1.41.59.51 0 1.02-.2 1.41-.59l7.78-7.78 2.81-2.81c.8-.78.8-2.07 0-2.86zM5.41 20L4 18.59l7.72-7.72 1.47 1.35L5.41 20z\"/>\n",
              "  </svg>\n",
              "      </button>\n",
              "      \n",
              "  <style>\n",
              "    .colab-df-container {\n",
              "      display:flex;\n",
              "      flex-wrap:wrap;\n",
              "      gap: 12px;\n",
              "    }\n",
              "\n",
              "    .colab-df-convert {\n",
              "      background-color: #E8F0FE;\n",
              "      border: none;\n",
              "      border-radius: 50%;\n",
              "      cursor: pointer;\n",
              "      display: none;\n",
              "      fill: #1967D2;\n",
              "      height: 32px;\n",
              "      padding: 0 0 0 0;\n",
              "      width: 32px;\n",
              "    }\n",
              "\n",
              "    .colab-df-convert:hover {\n",
              "      background-color: #E2EBFA;\n",
              "      box-shadow: 0px 1px 2px rgba(60, 64, 67, 0.3), 0px 1px 3px 1px rgba(60, 64, 67, 0.15);\n",
              "      fill: #174EA6;\n",
              "    }\n",
              "\n",
              "    [theme=dark] .colab-df-convert {\n",
              "      background-color: #3B4455;\n",
              "      fill: #D2E3FC;\n",
              "    }\n",
              "\n",
              "    [theme=dark] .colab-df-convert:hover {\n",
              "      background-color: #434B5C;\n",
              "      box-shadow: 0px 1px 3px 1px rgba(0, 0, 0, 0.15);\n",
              "      filter: drop-shadow(0px 1px 2px rgba(0, 0, 0, 0.3));\n",
              "      fill: #FFFFFF;\n",
              "    }\n",
              "  </style>\n",
              "\n",
              "      <script>\n",
              "        const buttonEl =\n",
              "          document.querySelector('#df-3a1e6eb9-fa97-4406-b167-c101d2e0caf3 button.colab-df-convert');\n",
              "        buttonEl.style.display =\n",
              "          google.colab.kernel.accessAllowed ? 'block' : 'none';\n",
              "\n",
              "        async function convertToInteractive(key) {\n",
              "          const element = document.querySelector('#df-3a1e6eb9-fa97-4406-b167-c101d2e0caf3');\n",
              "          const dataTable =\n",
              "            await google.colab.kernel.invokeFunction('convertToInteractive',\n",
              "                                                     [key], {});\n",
              "          if (!dataTable) return;\n",
              "\n",
              "          const docLinkHtml = 'Like what you see? Visit the ' +\n",
              "            '<a target=\"_blank\" href=https://colab.research.google.com/notebooks/data_table.ipynb>data table notebook</a>'\n",
              "            + ' to learn more about interactive tables.';\n",
              "          element.innerHTML = '';\n",
              "          dataTable['output_type'] = 'display_data';\n",
              "          await google.colab.output.renderOutput(dataTable, element);\n",
              "          const docLink = document.createElement('div');\n",
              "          docLink.innerHTML = docLinkHtml;\n",
              "          element.appendChild(docLink);\n",
              "        }\n",
              "      </script>\n",
              "    </div>\n",
              "  </div>\n",
              "  "
            ],
            "text/plain": [
              "         Severity  Start_Lat  ...  Wind_Speed(mph)  Precipitation(in)\n",
              "44              4  40.451120  ...             12.7               0.00\n",
              "45              4  40.354290  ...             12.7               0.00\n",
              "49              4  40.728130  ...             19.6               0.01\n",
              "52              2  41.831930  ...             10.4               0.00\n",
              "69              2  41.483390  ...             28.8               0.00\n",
              "...           ...        ...  ...              ...                ...\n",
              "1516020         3  37.609816  ...              7.0               0.00\n",
              "1516024         4  38.995930  ...              8.0               0.00\n",
              "1516025         4  39.003170  ...              8.0               0.00\n",
              "1516026         3  34.121320  ...              3.0               0.00\n",
              "1516029         3  34.485189  ...              3.0               0.00\n",
              "\n",
              "[335552 rows x 14 columns]"
            ]
          },
          "metadata": {},
          "execution_count": 14
        },
        {
          "output_type": "stream",
          "name": "stdout",
          "text": [
            "Warning: total number of rows (335552) exceeds max_rows (20000). Limiting to first (20000) rows.\n"
          ]
        }
      ]
    },
    {
      "cell_type": "markdown",
      "source": [
        " 1. total number of rows (335552).\n",
        " 2. exceeds max_rows (20000). \n",
        " 3. Limiting to first (20000) rows."
      ],
      "metadata": {
        "id": "hstacZU-T4ah"
      }
    },
    {
      "cell_type": "markdown",
      "source": [
        "##Exploratory Analysis and Visualization"
      ],
      "metadata": {
        "id": "f23LO4GFUb46"
      }
    },
    {
      "cell_type": "code",
      "source": [
        "Cities = df.City.value_counts()\n",
        "Cities"
      ],
      "metadata": {
        "colab": {
          "base_uri": "https://localhost:8080/"
        },
        "id": "LQ8id79FTirm",
        "outputId": "b424da18-4fa6-4efb-e853-cfb9c4235bd6"
      },
      "execution_count": null,
      "outputs": [
        {
          "output_type": "execute_result",
          "data": {
            "text/plain": [
              "Los Angeles        39984\n",
              "Miami              36233\n",
              "Charlotte          22203\n",
              "Houston            20843\n",
              "Dallas             19497\n",
              "                   ...  \n",
              "Crossett               1\n",
              "Berlin township        1\n",
              "East Quogue            1\n",
              "Calvin                 1\n",
              "Lewis                  1\n",
              "Name: City, Length: 10657, dtype: int64"
            ]
          },
          "metadata": {},
          "execution_count": 15
        }
      ]
    },
    {
      "cell_type": "code",
      "source": [
        "\n",
        "len(Cities[Cities > 1000])"
      ],
      "metadata": {
        "colab": {
          "base_uri": "https://localhost:8080/"
        },
        "id": "1CRCx0B9TipB",
        "outputId": "a3bdbe1d-ed19-421d-9a51-8c02e217ff6a"
      },
      "execution_count": null,
      "outputs": [
        {
          "output_type": "execute_result",
          "data": {
            "text/plain": [
              "251"
            ]
          },
          "metadata": {},
          "execution_count": 16
        }
      ]
    },
    {
      "cell_type": "code",
      "source": [
        "severe_accident_city = df.City[df.Severity > 2].value_counts()\n",
        "severe_accident_city"
      ],
      "metadata": {
        "colab": {
          "base_uri": "https://localhost:8080/"
        },
        "id": "f92Uy2dgTimM",
        "outputId": "f2e190f8-501d-4324-c7e5-e76f18f9e460"
      },
      "execution_count": null,
      "outputs": [
        {
          "output_type": "execute_result",
          "data": {
            "text/plain": [
              "Chicago            7654\n",
              "Houston            6774\n",
              "Dallas             6189\n",
              "Atlanta            4437\n",
              "Denver             4241\n",
              "                   ... \n",
              "Dammeron Valley       1\n",
              "Rougemont             1\n",
              "Indian River          1\n",
              "Warden                1\n",
              "Long Prairie          1\n",
              "Name: City, Length: 8724, dtype: int64"
            ]
          },
          "metadata": {},
          "execution_count": 17
        }
      ]
    },
    {
      "cell_type": "code",
      "source": [
        "Cities[:20].plot(kind='barh')"
      ],
      "metadata": {
        "colab": {
          "base_uri": "https://localhost:8080/",
          "height": 282
        },
        "id": "oWatbO1qTFi0",
        "outputId": "12ae4414-b785-4a01-e741-9f86c94358b2"
      },
      "execution_count": null,
      "outputs": [
        {
          "output_type": "execute_result",
          "data": {
            "text/plain": [
              "<matplotlib.axes._subplots.AxesSubplot at 0x7f0ac50b3a90>"
            ]
          },
          "metadata": {},
          "execution_count": 19
        },
        {
          "output_type": "display_data",
          "data": {
            "image/png": "[encoded data removed]",
            "text/plain": [
              "<Figure size 432x288 with 1 Axes>"
            ]
          },
          "metadata": {
            "needs_background": "light"
          }
        }
      ]
    },
    {
      "cell_type": "code",
      "source": [
        "len(severe_accident_city[severe_accident_city > 1000])"
      ],
      "metadata": {
        "colab": {
          "base_uri": "https://localhost:8080/"
        },
        "id": "l1io6YSkTFf8",
        "outputId": "66d6c40e-318d-4e32-968f-89c40a77fb98"
      },
      "execution_count": null,
      "outputs": [
        {
          "output_type": "execute_result",
          "data": {
            "text/plain": [
              "28"
            ]
          },
          "metadata": {},
          "execution_count": 20
        }
      ]
    },
    {
      "cell_type": "code",
      "source": [
        "df[df.City == 'Los Angeles'][df.Severity == 4][:5]"
      ],
      "metadata": {
        "colab": {
          "base_uri": "https://localhost:8080/",
          "height": 652
        },
        "id": "buTrVxYfTFdL",
        "outputId": "dbc6f0c2-2ba9-4e19-d317-0f6e6cd3b12a"
      },
      "execution_count": null,
      "outputs": [
        {
          "output_type": "stream",
          "name": "stderr",
          "text": [
            "/usr/local/lib/python3.7/dist-packages/ipykernel_launcher.py:1: UserWarning: Boolean Series key will be reindexed to match DataFrame index.\n",
            "  \"\"\"Entry point for launching an IPython kernel.\n"
          ]
        },
        {
          "output_type": "execute_result",
          "data": {
            "text/html": [
              "\n",
              "  <div id=\"df-387c4b49-a265-49c0-a1d2-52d63342785f\">\n",
              "    <div class=\"colab-df-container\">\n",
              "      <div>\n",
              "<style scoped>\n",
              "    .dataframe tbody tr th:only-of-type {\n",
              "        vertical-align: middle;\n",
              "    }\n",
              "\n",
              "    .dataframe tbody tr th {\n",
              "        vertical-align: top;\n",
              "    }\n",
              "\n",
              "    .dataframe thead th {\n",
              "        text-align: right;\n",
              "    }\n",
              "</style>\n",
              "<table border=\"1\" class=\"dataframe\">\n",
              "  <thead>\n",
              "    <tr style=\"text-align: right;\">\n",
              "      <th></th>\n",
              "      <th>ID</th>\n",
              "      <th>Severity</th>\n",
              "      <th>Start_Time</th>\n",
              "      <th>End_Time</th>\n",
              "      <th>Start_Lat</th>\n",
              "      <th>Start_Lng</th>\n",
              "      <th>End_Lat</th>\n",
              "      <th>End_Lng</th>\n",
              "      <th>Distance(mi)</th>\n",
              "      <th>Description</th>\n",
              "      <th>Number</th>\n",
              "      <th>Street</th>\n",
              "      <th>Side</th>\n",
              "      <th>City</th>\n",
              "      <th>County</th>\n",
              "      <th>State</th>\n",
              "      <th>Zipcode</th>\n",
              "      <th>Country</th>\n",
              "      <th>Timezone</th>\n",
              "      <th>Airport_Code</th>\n",
              "      <th>Weather_Timestamp</th>\n",
              "      <th>Temperature(F)</th>\n",
              "      <th>Wind_Chill(F)</th>\n",
              "      <th>Humidity(%)</th>\n",
              "      <th>Pressure(in)</th>\n",
              "      <th>Visibility(mi)</th>\n",
              "      <th>Wind_Direction</th>\n",
              "      <th>Wind_Speed(mph)</th>\n",
              "      <th>Precipitation(in)</th>\n",
              "      <th>Weather_Condition</th>\n",
              "      <th>Amenity</th>\n",
              "      <th>Bump</th>\n",
              "      <th>Crossing</th>\n",
              "      <th>Give_Way</th>\n",
              "      <th>Junction</th>\n",
              "      <th>No_Exit</th>\n",
              "      <th>Railway</th>\n",
              "      <th>Roundabout</th>\n",
              "      <th>Station</th>\n",
              "      <th>Stop</th>\n",
              "      <th>Traffic_Calming</th>\n",
              "      <th>Traffic_Signal</th>\n",
              "      <th>Turning_Loop</th>\n",
              "      <th>Sunrise_Sunset</th>\n",
              "      <th>Civil_Twilight</th>\n",
              "      <th>Nautical_Twilight</th>\n",
              "      <th>Astronomical_Twilight</th>\n",
              "    </tr>\n",
              "  </thead>\n",
              "  <tbody>\n",
              "    <tr>\n",
              "      <th>5483</th>\n",
              "      <td>A-2722083</td>\n",
              "      <td>4</td>\n",
              "      <td>2016-03-24 02:20:06</td>\n",
              "      <td>2016-03-24 08:20:06</td>\n",
              "      <td>33.930760</td>\n",
              "      <td>-118.431755</td>\n",
              "      <td>33.930760</td>\n",
              "      <td>-118.431746</td>\n",
              "      <td>0.001</td>\n",
              "      <td>Closed at Pershing Dr - Road closed due to acc...</td>\n",
              "      <td>7641.0</td>\n",
              "      <td>W Imperial Hwy</td>\n",
              "      <td>L</td>\n",
              "      <td>Los Angeles</td>\n",
              "      <td>Los Angeles</td>\n",
              "      <td>CA</td>\n",
              "      <td>90045</td>\n",
              "      <td>US</td>\n",
              "      <td>US/Pacific</td>\n",
              "      <td>KLAX</td>\n",
              "      <td>2016-03-24 01:53:00</td>\n",
              "      <td>60.1</td>\n",
              "      <td>NaN</td>\n",
              "      <td>51.0</td>\n",
              "      <td>30.12</td>\n",
              "      <td>10.0</td>\n",
              "      <td>Calm</td>\n",
              "      <td>NaN</td>\n",
              "      <td>NaN</td>\n",
              "      <td>Clear</td>\n",
              "      <td>False</td>\n",
              "      <td>False</td>\n",
              "      <td>False</td>\n",
              "      <td>False</td>\n",
              "      <td>False</td>\n",
              "      <td>False</td>\n",
              "      <td>False</td>\n",
              "      <td>False</td>\n",
              "      <td>False</td>\n",
              "      <td>False</td>\n",
              "      <td>False</td>\n",
              "      <td>False</td>\n",
              "      <td>False</td>\n",
              "      <td>Night</td>\n",
              "      <td>Night</td>\n",
              "      <td>Night</td>\n",
              "      <td>Night</td>\n",
              "    </tr>\n",
              "    <tr>\n",
              "      <th>5485</th>\n",
              "      <td>A-2722085</td>\n",
              "      <td>4</td>\n",
              "      <td>2016-03-24 02:35:35</td>\n",
              "      <td>2016-03-24 08:35:35</td>\n",
              "      <td>33.930956</td>\n",
              "      <td>-118.429607</td>\n",
              "      <td>33.930884</td>\n",
              "      <td>-118.434545</td>\n",
              "      <td>0.283</td>\n",
              "      <td>Closed at Vista Del Mar - Road closed due to a...</td>\n",
              "      <td>7605.0</td>\n",
              "      <td>W Imperial Hwy</td>\n",
              "      <td>L</td>\n",
              "      <td>Los Angeles</td>\n",
              "      <td>Los Angeles</td>\n",
              "      <td>CA</td>\n",
              "      <td>90045</td>\n",
              "      <td>US</td>\n",
              "      <td>US/Pacific</td>\n",
              "      <td>KLAX</td>\n",
              "      <td>2016-03-24 02:53:00</td>\n",
              "      <td>57.9</td>\n",
              "      <td>NaN</td>\n",
              "      <td>53.0</td>\n",
              "      <td>30.10</td>\n",
              "      <td>10.0</td>\n",
              "      <td>Calm</td>\n",
              "      <td>NaN</td>\n",
              "      <td>NaN</td>\n",
              "      <td>Clear</td>\n",
              "      <td>False</td>\n",
              "      <td>False</td>\n",
              "      <td>False</td>\n",
              "      <td>False</td>\n",
              "      <td>False</td>\n",
              "      <td>False</td>\n",
              "      <td>False</td>\n",
              "      <td>False</td>\n",
              "      <td>False</td>\n",
              "      <td>False</td>\n",
              "      <td>False</td>\n",
              "      <td>False</td>\n",
              "      <td>False</td>\n",
              "      <td>Night</td>\n",
              "      <td>Night</td>\n",
              "      <td>Night</td>\n",
              "      <td>Night</td>\n",
              "    </tr>\n",
              "    <tr>\n",
              "      <th>5493</th>\n",
              "      <td>A-2722093</td>\n",
              "      <td>4</td>\n",
              "      <td>2016-03-24 05:36:05</td>\n",
              "      <td>2016-03-24 11:36:05</td>\n",
              "      <td>33.939551</td>\n",
              "      <td>-118.433803</td>\n",
              "      <td>33.930820</td>\n",
              "      <td>-118.429280</td>\n",
              "      <td>0.657</td>\n",
              "      <td>Closed at Imperial Hwy - Road closed due to ac...</td>\n",
              "      <td>NaN</td>\n",
              "      <td>Pershing Dr</td>\n",
              "      <td>R</td>\n",
              "      <td>Los Angeles</td>\n",
              "      <td>Los Angeles</td>\n",
              "      <td>CA</td>\n",
              "      <td>90045</td>\n",
              "      <td>US</td>\n",
              "      <td>US/Pacific</td>\n",
              "      <td>KLAX</td>\n",
              "      <td>2016-03-24 05:53:00</td>\n",
              "      <td>53.1</td>\n",
              "      <td>NaN</td>\n",
              "      <td>59.0</td>\n",
              "      <td>30.08</td>\n",
              "      <td>10.0</td>\n",
              "      <td>ESE</td>\n",
              "      <td>4.6</td>\n",
              "      <td>NaN</td>\n",
              "      <td>Clear</td>\n",
              "      <td>False</td>\n",
              "      <td>False</td>\n",
              "      <td>False</td>\n",
              "      <td>False</td>\n",
              "      <td>False</td>\n",
              "      <td>False</td>\n",
              "      <td>False</td>\n",
              "      <td>False</td>\n",
              "      <td>False</td>\n",
              "      <td>False</td>\n",
              "      <td>False</td>\n",
              "      <td>False</td>\n",
              "      <td>False</td>\n",
              "      <td>Night</td>\n",
              "      <td>Night</td>\n",
              "      <td>Night</td>\n",
              "      <td>Day</td>\n",
              "    </tr>\n",
              "    <tr>\n",
              "      <th>5717</th>\n",
              "      <td>A-2722317</td>\n",
              "      <td>4</td>\n",
              "      <td>2016-03-28 19:14:49</td>\n",
              "      <td>2016-03-29 01:14:49</td>\n",
              "      <td>34.011632</td>\n",
              "      <td>-118.308920</td>\n",
              "      <td>34.009944</td>\n",
              "      <td>-118.308930</td>\n",
              "      <td>0.117</td>\n",
              "      <td>Closed between Browning Blvd and 41st St - Roa...</td>\n",
              "      <td>3989.0</td>\n",
              "      <td>S Western Ave</td>\n",
              "      <td>L</td>\n",
              "      <td>Los Angeles</td>\n",
              "      <td>Los Angeles</td>\n",
              "      <td>CA</td>\n",
              "      <td>90062-1166</td>\n",
              "      <td>US</td>\n",
              "      <td>US/Pacific</td>\n",
              "      <td>KCQT</td>\n",
              "      <td>2016-03-28 18:47:00</td>\n",
              "      <td>57.0</td>\n",
              "      <td>NaN</td>\n",
              "      <td>57.0</td>\n",
              "      <td>29.81</td>\n",
              "      <td>10.0</td>\n",
              "      <td>Variable</td>\n",
              "      <td>6.9</td>\n",
              "      <td>NaN</td>\n",
              "      <td>Clear</td>\n",
              "      <td>False</td>\n",
              "      <td>False</td>\n",
              "      <td>False</td>\n",
              "      <td>False</td>\n",
              "      <td>False</td>\n",
              "      <td>False</td>\n",
              "      <td>False</td>\n",
              "      <td>False</td>\n",
              "      <td>False</td>\n",
              "      <td>False</td>\n",
              "      <td>False</td>\n",
              "      <td>False</td>\n",
              "      <td>False</td>\n",
              "      <td>Night</td>\n",
              "      <td>Day</td>\n",
              "      <td>Day</td>\n",
              "      <td>Day</td>\n",
              "    </tr>\n",
              "    <tr>\n",
              "      <th>5718</th>\n",
              "      <td>A-2722318</td>\n",
              "      <td>4</td>\n",
              "      <td>2016-03-28 19:14:49</td>\n",
              "      <td>2016-03-29 01:14:49</td>\n",
              "      <td>34.009944</td>\n",
              "      <td>-118.308930</td>\n",
              "      <td>34.011632</td>\n",
              "      <td>-118.308920</td>\n",
              "      <td>0.117</td>\n",
              "      <td>Closed between 41st St and Browning Blvd - Roa...</td>\n",
              "      <td>4101.0</td>\n",
              "      <td>S Western Ave</td>\n",
              "      <td>L</td>\n",
              "      <td>Los Angeles</td>\n",
              "      <td>Los Angeles</td>\n",
              "      <td>CA</td>\n",
              "      <td>90062-1637</td>\n",
              "      <td>US</td>\n",
              "      <td>US/Pacific</td>\n",
              "      <td>KCQT</td>\n",
              "      <td>2016-03-28 18:47:00</td>\n",
              "      <td>57.0</td>\n",
              "      <td>NaN</td>\n",
              "      <td>57.0</td>\n",
              "      <td>29.81</td>\n",
              "      <td>10.0</td>\n",
              "      <td>Variable</td>\n",
              "      <td>6.9</td>\n",
              "      <td>NaN</td>\n",
              "      <td>Clear</td>\n",
              "      <td>False</td>\n",
              "      <td>False</td>\n",
              "      <td>False</td>\n",
              "      <td>False</td>\n",
              "      <td>False</td>\n",
              "      <td>False</td>\n",
              "      <td>False</td>\n",
              "      <td>False</td>\n",
              "      <td>False</td>\n",
              "      <td>False</td>\n",
              "      <td>False</td>\n",
              "      <td>False</td>\n",
              "      <td>False</td>\n",
              "      <td>Night</td>\n",
              "      <td>Day</td>\n",
              "      <td>Day</td>\n",
              "      <td>Day</td>\n",
              "    </tr>\n",
              "  </tbody>\n",
              "</table>\n",
              "</div>\n",
              "      <button class=\"colab-df-convert\" onclick=\"convertToInteractive('df-387c4b49-a265-49c0-a1d2-52d63342785f')\"\n",
              "              title=\"Convert this dataframe to an interactive table.\"\n",
              "              style=\"display:none;\">\n",
              "        \n",
              "  <svg xmlns=\"http://www.w3.org/2000/svg\" height=\"24px\"viewBox=\"0 0 24 24\"\n",
              "       width=\"24px\">\n",
              "    <path d=\"M0 0h24v24H0V0z\" fill=\"none\"/>\n",
              "    <path d=\"M18.56 5.44l.94 2.06.94-2.06 2.06-.94-2.06-.94-.94-2.06-.94 2.06-2.06.94zm-11 1L8.5 8.5l.94-2.06 2.06-.94-2.06-.94L8.5 2.5l-.94 2.06-2.06.94zm10 10l.94 2.06.94-2.06 2.06-.94-2.06-.94-.94-2.06-.94 2.06-2.06.94z\"/><path d=\"M17.41 7.96l-1.37-1.37c-.4-.4-.92-.59-1.43-.59-.52 0-1.04.2-1.43.59L10.3 9.45l-7.72 7.72c-.78.78-.78 2.05 0 2.83L4 21.41c.39.39.9.59 1.41.59.51 0 1.02-.2 1.41-.59l7.78-7.78 2.81-2.81c.8-.78.8-2.07 0-2.86zM5.41 20L4 18.59l7.72-7.72 1.47 1.35L5.41 20z\"/>\n",
              "  </svg>\n",
              "      </button>\n",
              "      \n",
              "  <style>\n",
              "    .colab-df-container {\n",
              "      display:flex;\n",
              "      flex-wrap:wrap;\n",
              "      gap: 12px;\n",
              "    }\n",
              "\n",
              "    .colab-df-convert {\n",
              "      background-color: #E8F0FE;\n",
              "      border: none;\n",
              "      border-radius: 50%;\n",
              "      cursor: pointer;\n",
              "      display: none;\n",
              "      fill: #1967D2;\n",
              "      height: 32px;\n",
              "      padding: 0 0 0 0;\n",
              "      width: 32px;\n",
              "    }\n",
              "\n",
              "    .colab-df-convert:hover {\n",
              "      background-color: #E2EBFA;\n",
              "      box-shadow: 0px 1px 2px rgba(60, 64, 67, 0.3), 0px 1px 3px 1px rgba(60, 64, 67, 0.15);\n",
              "      fill: #174EA6;\n",
              "    }\n",
              "\n",
              "    [theme=dark] .colab-df-convert {\n",
              "      background-color: #3B4455;\n",
              "      fill: #D2E3FC;\n",
              "    }\n",
              "\n",
              "    [theme=dark] .colab-df-convert:hover {\n",
              "      background-color: #434B5C;\n",
              "      box-shadow: 0px 1px 3px 1px rgba(0, 0, 0, 0.15);\n",
              "      filter: drop-shadow(0px 1px 2px rgba(0, 0, 0, 0.3));\n",
              "      fill: #FFFFFF;\n",
              "    }\n",
              "  </style>\n",
              "\n",
              "      <script>\n",
              "        const buttonEl =\n",
              "          document.querySelector('#df-387c4b49-a265-49c0-a1d2-52d63342785f button.colab-df-convert');\n",
              "        buttonEl.style.display =\n",
              "          google.colab.kernel.accessAllowed ? 'block' : 'none';\n",
              "\n",
              "        async function convertToInteractive(key) {\n",
              "          const element = document.querySelector('#df-387c4b49-a265-49c0-a1d2-52d63342785f');\n",
              "          const dataTable =\n",
              "            await google.colab.kernel.invokeFunction('convertToInteractive',\n",
              "                                                     [key], {});\n",
              "          if (!dataTable) return;\n",
              "\n",
              "          const docLinkHtml = 'Like what you see? Visit the ' +\n",
              "            '<a target=\"_blank\" href=https://colab.research.google.com/notebooks/data_table.ipynb>data table notebook</a>'\n",
              "            + ' to learn more about interactive tables.';\n",
              "          element.innerHTML = '';\n",
              "          dataTable['output_type'] = 'display_data';\n",
              "          await google.colab.output.renderOutput(dataTable, element);\n",
              "          const docLink = document.createElement('div');\n",
              "          docLink.innerHTML = docLinkHtml;\n",
              "          element.appendChild(docLink);\n",
              "        }\n",
              "      </script>\n",
              "    </div>\n",
              "  </div>\n",
              "  "
            ],
            "text/plain": [
              "             ID  Severity  ... Nautical_Twilight Astronomical_Twilight\n",
              "5483  A-2722083         4  ...             Night                 Night\n",
              "5485  A-2722085         4  ...             Night                 Night\n",
              "5493  A-2722093         4  ...             Night                   Day\n",
              "5717  A-2722317         4  ...               Day                   Day\n",
              "5718  A-2722318         4  ...               Day                   Day\n",
              "\n",
              "[5 rows x 47 columns]"
            ]
          },
          "metadata": {},
          "execution_count": 21
        }
      ]
    },
    {
      "cell_type": "code",
      "source": [
        "df[df.City == 'Los Angeles'][df.Severity == 2][:5]"
      ],
      "metadata": {
        "colab": {
          "base_uri": "https://localhost:8080/",
          "height": 496
        },
        "id": "gS-5EeLWTFaU",
        "outputId": "30e75820-aa51-42fc-fc88-fb5134619a0d"
      },
      "execution_count": null,
      "outputs": [
        {
          "output_type": "stream",
          "name": "stderr",
          "text": [
            "/usr/local/lib/python3.7/dist-packages/ipykernel_launcher.py:1: UserWarning: Boolean Series key will be reindexed to match DataFrame index.\n",
            "  \"\"\"Entry point for launching an IPython kernel.\n"
          ]
        },
        {
          "output_type": "execute_result",
          "data": {
            "text/html": [
              "\n",
              "  <div id=\"df-50e981a0-6b21-4d88-8a40-1b3be4e2ac34\">\n",
              "    <div class=\"colab-df-container\">\n",
              "      <div>\n",
              "<style scoped>\n",
              "    .dataframe tbody tr th:only-of-type {\n",
              "        vertical-align: middle;\n",
              "    }\n",
              "\n",
              "    .dataframe tbody tr th {\n",
              "        vertical-align: top;\n",
              "    }\n",
              "\n",
              "    .dataframe thead th {\n",
              "        text-align: right;\n",
              "    }\n",
              "</style>\n",
              "<table border=\"1\" class=\"dataframe\">\n",
              "  <thead>\n",
              "    <tr style=\"text-align: right;\">\n",
              "      <th></th>\n",
              "      <th>ID</th>\n",
              "      <th>Severity</th>\n",
              "      <th>Start_Time</th>\n",
              "      <th>End_Time</th>\n",
              "      <th>Start_Lat</th>\n",
              "      <th>Start_Lng</th>\n",
              "      <th>End_Lat</th>\n",
              "      <th>End_Lng</th>\n",
              "      <th>Distance(mi)</th>\n",
              "      <th>Description</th>\n",
              "      <th>Number</th>\n",
              "      <th>Street</th>\n",
              "      <th>Side</th>\n",
              "      <th>City</th>\n",
              "      <th>County</th>\n",
              "      <th>State</th>\n",
              "      <th>Zipcode</th>\n",
              "      <th>Country</th>\n",
              "      <th>Timezone</th>\n",
              "      <th>Airport_Code</th>\n",
              "      <th>Weather_Timestamp</th>\n",
              "      <th>Temperature(F)</th>\n",
              "      <th>Wind_Chill(F)</th>\n",
              "      <th>Humidity(%)</th>\n",
              "      <th>Pressure(in)</th>\n",
              "      <th>Visibility(mi)</th>\n",
              "      <th>Wind_Direction</th>\n",
              "      <th>Wind_Speed(mph)</th>\n",
              "      <th>Precipitation(in)</th>\n",
              "      <th>Weather_Condition</th>\n",
              "      <th>Amenity</th>\n",
              "      <th>Bump</th>\n",
              "      <th>Crossing</th>\n",
              "      <th>Give_Way</th>\n",
              "      <th>Junction</th>\n",
              "      <th>No_Exit</th>\n",
              "      <th>Railway</th>\n",
              "      <th>Roundabout</th>\n",
              "      <th>Station</th>\n",
              "      <th>Stop</th>\n",
              "      <th>Traffic_Calming</th>\n",
              "      <th>Traffic_Signal</th>\n",
              "      <th>Turning_Loop</th>\n",
              "      <th>Sunrise_Sunset</th>\n",
              "      <th>Civil_Twilight</th>\n",
              "      <th>Nautical_Twilight</th>\n",
              "      <th>Astronomical_Twilight</th>\n",
              "    </tr>\n",
              "  </thead>\n",
              "  <tbody>\n",
              "    <tr>\n",
              "      <th>5360</th>\n",
              "      <td>A-2721960</td>\n",
              "      <td>2</td>\n",
              "      <td>2016-03-22 19:36:44</td>\n",
              "      <td>2016-03-23 01:36:44</td>\n",
              "      <td>34.09256</td>\n",
              "      <td>-118.206220</td>\n",
              "      <td>34.092560</td>\n",
              "      <td>-118.206220</td>\n",
              "      <td>0.000</td>\n",
              "      <td>At Avenue 43 - Accident.</td>\n",
              "      <td>NaN</td>\n",
              "      <td>CA-110 N</td>\n",
              "      <td>R</td>\n",
              "      <td>Los Angeles</td>\n",
              "      <td>Los Angeles</td>\n",
              "      <td>CA</td>\n",
              "      <td>90031</td>\n",
              "      <td>US</td>\n",
              "      <td>US/Pacific</td>\n",
              "      <td>KCQT</td>\n",
              "      <td>2016-03-22 19:47:00</td>\n",
              "      <td>64.0</td>\n",
              "      <td>NaN</td>\n",
              "      <td>24.0</td>\n",
              "      <td>30.00</td>\n",
              "      <td>10.0</td>\n",
              "      <td>NNW</td>\n",
              "      <td>9.2</td>\n",
              "      <td>NaN</td>\n",
              "      <td>Clear</td>\n",
              "      <td>False</td>\n",
              "      <td>False</td>\n",
              "      <td>False</td>\n",
              "      <td>False</td>\n",
              "      <td>False</td>\n",
              "      <td>False</td>\n",
              "      <td>False</td>\n",
              "      <td>False</td>\n",
              "      <td>False</td>\n",
              "      <td>True</td>\n",
              "      <td>False</td>\n",
              "      <td>False</td>\n",
              "      <td>False</td>\n",
              "      <td>Night</td>\n",
              "      <td>Night</td>\n",
              "      <td>Day</td>\n",
              "      <td>Day</td>\n",
              "    </tr>\n",
              "    <tr>\n",
              "      <th>5364</th>\n",
              "      <td>A-2721964</td>\n",
              "      <td>2</td>\n",
              "      <td>2016-03-22 20:59:43</td>\n",
              "      <td>2016-03-23 02:59:43</td>\n",
              "      <td>33.94819</td>\n",
              "      <td>-118.279730</td>\n",
              "      <td>33.946760</td>\n",
              "      <td>-118.279750</td>\n",
              "      <td>0.099</td>\n",
              "      <td>At Century Blvd - Accident.</td>\n",
              "      <td>NaN</td>\n",
              "      <td>I-110 S</td>\n",
              "      <td>R</td>\n",
              "      <td>Los Angeles</td>\n",
              "      <td>Los Angeles</td>\n",
              "      <td>CA</td>\n",
              "      <td>90003</td>\n",
              "      <td>US</td>\n",
              "      <td>US/Pacific</td>\n",
              "      <td>KHHR</td>\n",
              "      <td>2016-03-22 20:53:00</td>\n",
              "      <td>64.0</td>\n",
              "      <td>NaN</td>\n",
              "      <td>23.0</td>\n",
              "      <td>30.02</td>\n",
              "      <td>10.0</td>\n",
              "      <td>NNW</td>\n",
              "      <td>11.5</td>\n",
              "      <td>NaN</td>\n",
              "      <td>Clear</td>\n",
              "      <td>False</td>\n",
              "      <td>False</td>\n",
              "      <td>False</td>\n",
              "      <td>False</td>\n",
              "      <td>False</td>\n",
              "      <td>False</td>\n",
              "      <td>False</td>\n",
              "      <td>False</td>\n",
              "      <td>False</td>\n",
              "      <td>False</td>\n",
              "      <td>False</td>\n",
              "      <td>False</td>\n",
              "      <td>False</td>\n",
              "      <td>Night</td>\n",
              "      <td>Night</td>\n",
              "      <td>Night</td>\n",
              "      <td>Night</td>\n",
              "    </tr>\n",
              "    <tr>\n",
              "      <th>5397</th>\n",
              "      <td>A-2721997</td>\n",
              "      <td>2</td>\n",
              "      <td>2016-03-23 11:50:32</td>\n",
              "      <td>2016-03-23 17:50:32</td>\n",
              "      <td>34.14470</td>\n",
              "      <td>-118.278650</td>\n",
              "      <td>34.141040</td>\n",
              "      <td>-118.277840</td>\n",
              "      <td>0.257</td>\n",
              "      <td>At Colorado St - Accident.</td>\n",
              "      <td>NaN</td>\n",
              "      <td>Golden State Fwy S</td>\n",
              "      <td>R</td>\n",
              "      <td>Los Angeles</td>\n",
              "      <td>Los Angeles</td>\n",
              "      <td>CA</td>\n",
              "      <td>90027</td>\n",
              "      <td>US</td>\n",
              "      <td>US/Pacific</td>\n",
              "      <td>KCQT</td>\n",
              "      <td>2016-03-23 11:47:00</td>\n",
              "      <td>73.9</td>\n",
              "      <td>NaN</td>\n",
              "      <td>14.0</td>\n",
              "      <td>30.15</td>\n",
              "      <td>10.0</td>\n",
              "      <td>Calm</td>\n",
              "      <td>NaN</td>\n",
              "      <td>NaN</td>\n",
              "      <td>Clear</td>\n",
              "      <td>False</td>\n",
              "      <td>False</td>\n",
              "      <td>False</td>\n",
              "      <td>False</td>\n",
              "      <td>False</td>\n",
              "      <td>False</td>\n",
              "      <td>False</td>\n",
              "      <td>False</td>\n",
              "      <td>False</td>\n",
              "      <td>False</td>\n",
              "      <td>False</td>\n",
              "      <td>False</td>\n",
              "      <td>False</td>\n",
              "      <td>Day</td>\n",
              "      <td>Day</td>\n",
              "      <td>Day</td>\n",
              "      <td>Day</td>\n",
              "    </tr>\n",
              "    <tr>\n",
              "      <th>5399</th>\n",
              "      <td>A-2721999</td>\n",
              "      <td>2</td>\n",
              "      <td>2016-03-23 12:16:45</td>\n",
              "      <td>2016-03-23 18:16:45</td>\n",
              "      <td>34.09914</td>\n",
              "      <td>-118.251853</td>\n",
              "      <td>34.099817</td>\n",
              "      <td>-118.251396</td>\n",
              "      <td>0.054</td>\n",
              "      <td>At I-5/Golden State Fwy - Accident. Left lane ...</td>\n",
              "      <td>NaN</td>\n",
              "      <td>CA-2 S</td>\n",
              "      <td>R</td>\n",
              "      <td>Los Angeles</td>\n",
              "      <td>Los Angeles</td>\n",
              "      <td>CA</td>\n",
              "      <td>90039</td>\n",
              "      <td>US</td>\n",
              "      <td>US/Pacific</td>\n",
              "      <td>KCQT</td>\n",
              "      <td>2016-03-23 11:47:00</td>\n",
              "      <td>73.9</td>\n",
              "      <td>NaN</td>\n",
              "      <td>14.0</td>\n",
              "      <td>30.15</td>\n",
              "      <td>10.0</td>\n",
              "      <td>Calm</td>\n",
              "      <td>NaN</td>\n",
              "      <td>NaN</td>\n",
              "      <td>Clear</td>\n",
              "      <td>False</td>\n",
              "      <td>False</td>\n",
              "      <td>False</td>\n",
              "      <td>False</td>\n",
              "      <td>False</td>\n",
              "      <td>False</td>\n",
              "      <td>False</td>\n",
              "      <td>False</td>\n",
              "      <td>False</td>\n",
              "      <td>False</td>\n",
              "      <td>False</td>\n",
              "      <td>False</td>\n",
              "      <td>False</td>\n",
              "      <td>Day</td>\n",
              "      <td>Day</td>\n",
              "      <td>Day</td>\n",
              "      <td>Day</td>\n",
              "    </tr>\n",
              "    <tr>\n",
              "      <th>5403</th>\n",
              "      <td>A-2722003</td>\n",
              "      <td>2</td>\n",
              "      <td>2016-03-23 13:07:50</td>\n",
              "      <td>2016-03-23 19:07:50</td>\n",
              "      <td>33.98407</td>\n",
              "      <td>-118.280700</td>\n",
              "      <td>33.980680</td>\n",
              "      <td>-118.280980</td>\n",
              "      <td>0.235</td>\n",
              "      <td>At Gage Ave - Accident.</td>\n",
              "      <td>NaN</td>\n",
              "      <td>I-110 S</td>\n",
              "      <td>R</td>\n",
              "      <td>Los Angeles</td>\n",
              "      <td>Los Angeles</td>\n",
              "      <td>CA</td>\n",
              "      <td>90003</td>\n",
              "      <td>US</td>\n",
              "      <td>US/Pacific</td>\n",
              "      <td>KHHR</td>\n",
              "      <td>2016-03-23 12:53:00</td>\n",
              "      <td>75.0</td>\n",
              "      <td>NaN</td>\n",
              "      <td>13.0</td>\n",
              "      <td>30.16</td>\n",
              "      <td>10.0</td>\n",
              "      <td>West</td>\n",
              "      <td>10.4</td>\n",
              "      <td>NaN</td>\n",
              "      <td>Clear</td>\n",
              "      <td>False</td>\n",
              "      <td>False</td>\n",
              "      <td>False</td>\n",
              "      <td>False</td>\n",
              "      <td>False</td>\n",
              "      <td>False</td>\n",
              "      <td>False</td>\n",
              "      <td>False</td>\n",
              "      <td>False</td>\n",
              "      <td>False</td>\n",
              "      <td>False</td>\n",
              "      <td>False</td>\n",
              "      <td>False</td>\n",
              "      <td>Day</td>\n",
              "      <td>Day</td>\n",
              "      <td>Day</td>\n",
              "      <td>Day</td>\n",
              "    </tr>\n",
              "  </tbody>\n",
              "</table>\n",
              "</div>\n",
              "      <button class=\"colab-df-convert\" onclick=\"convertToInteractive('df-50e981a0-6b21-4d88-8a40-1b3be4e2ac34')\"\n",
              "              title=\"Convert this dataframe to an interactive table.\"\n",
              "              style=\"display:none;\">\n",
              "        \n",
              "  <svg xmlns=\"http://www.w3.org/2000/svg\" height=\"24px\"viewBox=\"0 0 24 24\"\n",
              "       width=\"24px\">\n",
              "    <path d=\"M0 0h24v24H0V0z\" fill=\"none\"/>\n",
              "    <path d=\"M18.56 5.44l.94 2.06.94-2.06 2.06-.94-2.06-.94-.94-2.06-.94 2.06-2.06.94zm-11 1L8.5 8.5l.94-2.06 2.06-.94-2.06-.94L8.5 2.5l-.94 2.06-2.06.94zm10 10l.94 2.06.94-2.06 2.06-.94-2.06-.94-.94-2.06-.94 2.06-2.06.94z\"/><path d=\"M17.41 7.96l-1.37-1.37c-.4-.4-.92-.59-1.43-.59-.52 0-1.04.2-1.43.59L10.3 9.45l-7.72 7.72c-.78.78-.78 2.05 0 2.83L4 21.41c.39.39.9.59 1.41.59.51 0 1.02-.2 1.41-.59l7.78-7.78 2.81-2.81c.8-.78.8-2.07 0-2.86zM5.41 20L4 18.59l7.72-7.72 1.47 1.35L5.41 20z\"/>\n",
              "  </svg>\n",
              "      </button>\n",
              "      \n",
              "  <style>\n",
              "    .colab-df-container {\n",
              "      display:flex;\n",
              "      flex-wrap:wrap;\n",
              "      gap: 12px;\n",
              "    }\n",
              "\n",
              "    .colab-df-convert {\n",
              "      background-color: #E8F0FE;\n",
              "      border: none;\n",
              "      border-radius: 50%;\n",
              "      cursor: pointer;\n",
              "      display: none;\n",
              "      fill: #1967D2;\n",
              "      height: 32px;\n",
              "      padding: 0 0 0 0;\n",
              "      width: 32px;\n",
              "    }\n",
              "\n",
              "    .colab-df-convert:hover {\n",
              "      background-color: #E2EBFA;\n",
              "      box-shadow: 0px 1px 2px rgba(60, 64, 67, 0.3), 0px 1px 3px 1px rgba(60, 64, 67, 0.15);\n",
              "      fill: #174EA6;\n",
              "    }\n",
              "\n",
              "    [theme=dark] .colab-df-convert {\n",
              "      background-color: #3B4455;\n",
              "      fill: #D2E3FC;\n",
              "    }\n",
              "\n",
              "    [theme=dark] .colab-df-convert:hover {\n",
              "      background-color: #434B5C;\n",
              "      box-shadow: 0px 1px 3px 1px rgba(0, 0, 0, 0.15);\n",
              "      filter: drop-shadow(0px 1px 2px rgba(0, 0, 0, 0.3));\n",
              "      fill: #FFFFFF;\n",
              "    }\n",
              "  </style>\n",
              "\n",
              "      <script>\n",
              "        const buttonEl =\n",
              "          document.querySelector('#df-50e981a0-6b21-4d88-8a40-1b3be4e2ac34 button.colab-df-convert');\n",
              "        buttonEl.style.display =\n",
              "          google.colab.kernel.accessAllowed ? 'block' : 'none';\n",
              "\n",
              "        async function convertToInteractive(key) {\n",
              "          const element = document.querySelector('#df-50e981a0-6b21-4d88-8a40-1b3be4e2ac34');\n",
              "          const dataTable =\n",
              "            await google.colab.kernel.invokeFunction('convertToInteractive',\n",
              "                                                     [key], {});\n",
              "          if (!dataTable) return;\n",
              "\n",
              "          const docLinkHtml = 'Like what you see? Visit the ' +\n",
              "            '<a target=\"_blank\" href=https://colab.research.google.com/notebooks/data_table.ipynb>data table notebook</a>'\n",
              "            + ' to learn more about interactive tables.';\n",
              "          element.innerHTML = '';\n",
              "          dataTable['output_type'] = 'display_data';\n",
              "          await google.colab.output.renderOutput(dataTable, element);\n",
              "          const docLink = document.createElement('div');\n",
              "          docLink.innerHTML = docLinkHtml;\n",
              "          element.appendChild(docLink);\n",
              "        }\n",
              "      </script>\n",
              "    </div>\n",
              "  </div>\n",
              "  "
            ],
            "text/plain": [
              "             ID  Severity  ... Nautical_Twilight Astronomical_Twilight\n",
              "5360  A-2721960         2  ...               Day                   Day\n",
              "5364  A-2721964         2  ...             Night                 Night\n",
              "5397  A-2721997         2  ...               Day                   Day\n",
              "5399  A-2721999         2  ...               Day                   Day\n",
              "5403  A-2722003         2  ...               Day                   Day\n",
              "\n",
              "[5 rows x 47 columns]"
            ]
          },
          "metadata": {},
          "execution_count": 22
        }
      ]
    },
    {
      "cell_type": "code",
      "source": [
        "df[df.City == 'New York'][df.Severity == 4][:5]"
      ],
      "metadata": {
        "colab": {
          "base_uri": "https://localhost:8080/",
          "height": 652
        },
        "id": "UOO91q29TFXI",
        "outputId": "efbbbcad-85d1-4cc8-90a6-23b166fcda1c"
      },
      "execution_count": null,
      "outputs": [
        {
          "output_type": "stream",
          "name": "stderr",
          "text": [
            "/usr/local/lib/python3.7/dist-packages/ipykernel_launcher.py:1: UserWarning: Boolean Series key will be reindexed to match DataFrame index.\n",
            "  \"\"\"Entry point for launching an IPython kernel.\n"
          ]
        },
        {
          "output_type": "execute_result",
          "data": {
            "text/html": [
              "\n",
              "  <div id=\"df-3ff9f0e4-d149-44d6-a4f5-cd4529f0a4bd\">\n",
              "    <div class=\"colab-df-container\">\n",
              "      <div>\n",
              "<style scoped>\n",
              "    .dataframe tbody tr th:only-of-type {\n",
              "        vertical-align: middle;\n",
              "    }\n",
              "\n",
              "    .dataframe tbody tr th {\n",
              "        vertical-align: top;\n",
              "    }\n",
              "\n",
              "    .dataframe thead th {\n",
              "        text-align: right;\n",
              "    }\n",
              "</style>\n",
              "<table border=\"1\" class=\"dataframe\">\n",
              "  <thead>\n",
              "    <tr style=\"text-align: right;\">\n",
              "      <th></th>\n",
              "      <th>ID</th>\n",
              "      <th>Severity</th>\n",
              "      <th>Start_Time</th>\n",
              "      <th>End_Time</th>\n",
              "      <th>Start_Lat</th>\n",
              "      <th>Start_Lng</th>\n",
              "      <th>End_Lat</th>\n",
              "      <th>End_Lng</th>\n",
              "      <th>Distance(mi)</th>\n",
              "      <th>Description</th>\n",
              "      <th>Number</th>\n",
              "      <th>Street</th>\n",
              "      <th>Side</th>\n",
              "      <th>City</th>\n",
              "      <th>County</th>\n",
              "      <th>State</th>\n",
              "      <th>Zipcode</th>\n",
              "      <th>Country</th>\n",
              "      <th>Timezone</th>\n",
              "      <th>Airport_Code</th>\n",
              "      <th>Weather_Timestamp</th>\n",
              "      <th>Temperature(F)</th>\n",
              "      <th>Wind_Chill(F)</th>\n",
              "      <th>Humidity(%)</th>\n",
              "      <th>Pressure(in)</th>\n",
              "      <th>Visibility(mi)</th>\n",
              "      <th>Wind_Direction</th>\n",
              "      <th>Wind_Speed(mph)</th>\n",
              "      <th>Precipitation(in)</th>\n",
              "      <th>Weather_Condition</th>\n",
              "      <th>Amenity</th>\n",
              "      <th>Bump</th>\n",
              "      <th>Crossing</th>\n",
              "      <th>Give_Way</th>\n",
              "      <th>Junction</th>\n",
              "      <th>No_Exit</th>\n",
              "      <th>Railway</th>\n",
              "      <th>Roundabout</th>\n",
              "      <th>Station</th>\n",
              "      <th>Stop</th>\n",
              "      <th>Traffic_Calming</th>\n",
              "      <th>Traffic_Signal</th>\n",
              "      <th>Turning_Loop</th>\n",
              "      <th>Sunrise_Sunset</th>\n",
              "      <th>Civil_Twilight</th>\n",
              "      <th>Nautical_Twilight</th>\n",
              "      <th>Astronomical_Twilight</th>\n",
              "    </tr>\n",
              "  </thead>\n",
              "  <tbody>\n",
              "    <tr>\n",
              "      <th>33694</th>\n",
              "      <td>A-2750294</td>\n",
              "      <td>4</td>\n",
              "      <td>2016-12-04 05:00:26</td>\n",
              "      <td>2016-12-04 11:00:26</td>\n",
              "      <td>40.762057</td>\n",
              "      <td>-74.001332</td>\n",
              "      <td>40.760850</td>\n",
              "      <td>-74.002280</td>\n",
              "      <td>0.097</td>\n",
              "      <td>Closed at 40th St - Road closed due to accident.</td>\n",
              "      <td>NaN</td>\n",
              "      <td>W 42nd St</td>\n",
              "      <td>R</td>\n",
              "      <td>New York</td>\n",
              "      <td>New York</td>\n",
              "      <td>NY</td>\n",
              "      <td>10019</td>\n",
              "      <td>US</td>\n",
              "      <td>US/Eastern</td>\n",
              "      <td>KNYC</td>\n",
              "      <td>2016-12-04 04:51:00</td>\n",
              "      <td>41.0</td>\n",
              "      <td>35.2</td>\n",
              "      <td>47.0</td>\n",
              "      <td>30.19</td>\n",
              "      <td>10.0</td>\n",
              "      <td>NW</td>\n",
              "      <td>9.2</td>\n",
              "      <td>NaN</td>\n",
              "      <td>Overcast</td>\n",
              "      <td>False</td>\n",
              "      <td>False</td>\n",
              "      <td>True</td>\n",
              "      <td>False</td>\n",
              "      <td>False</td>\n",
              "      <td>False</td>\n",
              "      <td>False</td>\n",
              "      <td>False</td>\n",
              "      <td>False</td>\n",
              "      <td>False</td>\n",
              "      <td>False</td>\n",
              "      <td>True</td>\n",
              "      <td>False</td>\n",
              "      <td>Night</td>\n",
              "      <td>Night</td>\n",
              "      <td>Night</td>\n",
              "      <td>Night</td>\n",
              "    </tr>\n",
              "    <tr>\n",
              "      <th>33695</th>\n",
              "      <td>A-2750295</td>\n",
              "      <td>4</td>\n",
              "      <td>2016-12-04 05:00:26</td>\n",
              "      <td>2016-12-04 11:00:26</td>\n",
              "      <td>40.760720</td>\n",
              "      <td>-74.002070</td>\n",
              "      <td>40.761340</td>\n",
              "      <td>-74.001620</td>\n",
              "      <td>0.049</td>\n",
              "      <td>Closed at 41st St - Road closed due to accident.</td>\n",
              "      <td>462.0</td>\n",
              "      <td>12th Ave</td>\n",
              "      <td>L</td>\n",
              "      <td>New York</td>\n",
              "      <td>New York</td>\n",
              "      <td>NY</td>\n",
              "      <td>10018-1026</td>\n",
              "      <td>US</td>\n",
              "      <td>US/Eastern</td>\n",
              "      <td>KNYC</td>\n",
              "      <td>2016-12-04 04:51:00</td>\n",
              "      <td>41.0</td>\n",
              "      <td>35.2</td>\n",
              "      <td>47.0</td>\n",
              "      <td>30.19</td>\n",
              "      <td>10.0</td>\n",
              "      <td>NW</td>\n",
              "      <td>9.2</td>\n",
              "      <td>NaN</td>\n",
              "      <td>Overcast</td>\n",
              "      <td>False</td>\n",
              "      <td>False</td>\n",
              "      <td>True</td>\n",
              "      <td>False</td>\n",
              "      <td>False</td>\n",
              "      <td>False</td>\n",
              "      <td>False</td>\n",
              "      <td>False</td>\n",
              "      <td>False</td>\n",
              "      <td>False</td>\n",
              "      <td>False</td>\n",
              "      <td>True</td>\n",
              "      <td>False</td>\n",
              "      <td>Night</td>\n",
              "      <td>Night</td>\n",
              "      <td>Night</td>\n",
              "      <td>Night</td>\n",
              "    </tr>\n",
              "    <tr>\n",
              "      <th>35299</th>\n",
              "      <td>A-2751899</td>\n",
              "      <td>4</td>\n",
              "      <td>2016-12-08 11:14:47</td>\n",
              "      <td>2016-12-08 17:14:47</td>\n",
              "      <td>40.757391</td>\n",
              "      <td>-73.982249</td>\n",
              "      <td>40.758968</td>\n",
              "      <td>-73.981092</td>\n",
              "      <td>0.125</td>\n",
              "      <td>Closed at 48th St - Road closed due to accident.</td>\n",
              "      <td>1181.0</td>\n",
              "      <td>Avenue of the Americas</td>\n",
              "      <td>L</td>\n",
              "      <td>New York</td>\n",
              "      <td>New York</td>\n",
              "      <td>NY</td>\n",
              "      <td>10036-2710</td>\n",
              "      <td>US</td>\n",
              "      <td>US/Eastern</td>\n",
              "      <td>KNYC</td>\n",
              "      <td>2016-12-08 10:51:00</td>\n",
              "      <td>44.6</td>\n",
              "      <td>NaN</td>\n",
              "      <td>43.0</td>\n",
              "      <td>NaN</td>\n",
              "      <td>NaN</td>\n",
              "      <td>North</td>\n",
              "      <td>NaN</td>\n",
              "      <td>NaN</td>\n",
              "      <td>NaN</td>\n",
              "      <td>True</td>\n",
              "      <td>False</td>\n",
              "      <td>True</td>\n",
              "      <td>False</td>\n",
              "      <td>False</td>\n",
              "      <td>False</td>\n",
              "      <td>False</td>\n",
              "      <td>False</td>\n",
              "      <td>False</td>\n",
              "      <td>False</td>\n",
              "      <td>False</td>\n",
              "      <td>True</td>\n",
              "      <td>False</td>\n",
              "      <td>Day</td>\n",
              "      <td>Day</td>\n",
              "      <td>Day</td>\n",
              "      <td>Day</td>\n",
              "    </tr>\n",
              "    <tr>\n",
              "      <th>35942</th>\n",
              "      <td>A-2752542</td>\n",
              "      <td>4</td>\n",
              "      <td>2016-12-09 22:30:04</td>\n",
              "      <td>2016-12-10 04:30:04</td>\n",
              "      <td>40.757760</td>\n",
              "      <td>-73.996850</td>\n",
              "      <td>40.758210</td>\n",
              "      <td>-73.997910</td>\n",
              "      <td>0.064</td>\n",
              "      <td>Closed at RT-9A/12th Ave/Joe Dimaggio Hwy - Ro...</td>\n",
              "      <td>495.0</td>\n",
              "      <td>W 39th St</td>\n",
              "      <td>R</td>\n",
              "      <td>New York</td>\n",
              "      <td>New York</td>\n",
              "      <td>NY</td>\n",
              "      <td>10018-1216</td>\n",
              "      <td>US</td>\n",
              "      <td>US/Eastern</td>\n",
              "      <td>KNYC</td>\n",
              "      <td>2016-12-09 22:51:00</td>\n",
              "      <td>30.9</td>\n",
              "      <td>24.3</td>\n",
              "      <td>43.0</td>\n",
              "      <td>30.28</td>\n",
              "      <td>10.0</td>\n",
              "      <td>West</td>\n",
              "      <td>6.9</td>\n",
              "      <td>NaN</td>\n",
              "      <td>Clear</td>\n",
              "      <td>False</td>\n",
              "      <td>False</td>\n",
              "      <td>True</td>\n",
              "      <td>False</td>\n",
              "      <td>True</td>\n",
              "      <td>False</td>\n",
              "      <td>False</td>\n",
              "      <td>False</td>\n",
              "      <td>False</td>\n",
              "      <td>False</td>\n",
              "      <td>False</td>\n",
              "      <td>True</td>\n",
              "      <td>False</td>\n",
              "      <td>Night</td>\n",
              "      <td>Night</td>\n",
              "      <td>Night</td>\n",
              "      <td>Night</td>\n",
              "    </tr>\n",
              "    <tr>\n",
              "      <th>37826</th>\n",
              "      <td>A-2754426</td>\n",
              "      <td>4</td>\n",
              "      <td>2016-12-15 07:43:46</td>\n",
              "      <td>2016-12-15 13:43:46</td>\n",
              "      <td>40.769910</td>\n",
              "      <td>-73.994550</td>\n",
              "      <td>40.770730</td>\n",
              "      <td>-73.994420</td>\n",
              "      <td>0.057</td>\n",
              "      <td>Closed at 56th St - Road closed due to accident.</td>\n",
              "      <td>NaN</td>\n",
              "      <td>Joe DiMaggio Hwy</td>\n",
              "      <td>R</td>\n",
              "      <td>New York</td>\n",
              "      <td>New York</td>\n",
              "      <td>NY</td>\n",
              "      <td>10019</td>\n",
              "      <td>US</td>\n",
              "      <td>US/Eastern</td>\n",
              "      <td>KNYC</td>\n",
              "      <td>2016-12-15 07:51:00</td>\n",
              "      <td>25.0</td>\n",
              "      <td>14.2</td>\n",
              "      <td>37.0</td>\n",
              "      <td>29.84</td>\n",
              "      <td>10.0</td>\n",
              "      <td>WNW</td>\n",
              "      <td>11.5</td>\n",
              "      <td>NaN</td>\n",
              "      <td>Scattered Clouds</td>\n",
              "      <td>False</td>\n",
              "      <td>False</td>\n",
              "      <td>True</td>\n",
              "      <td>False</td>\n",
              "      <td>False</td>\n",
              "      <td>False</td>\n",
              "      <td>False</td>\n",
              "      <td>False</td>\n",
              "      <td>False</td>\n",
              "      <td>False</td>\n",
              "      <td>False</td>\n",
              "      <td>True</td>\n",
              "      <td>False</td>\n",
              "      <td>Day</td>\n",
              "      <td>Day</td>\n",
              "      <td>Day</td>\n",
              "      <td>Day</td>\n",
              "    </tr>\n",
              "  </tbody>\n",
              "</table>\n",
              "</div>\n",
              "      <button class=\"colab-df-convert\" onclick=\"convertToInteractive('df-3ff9f0e4-d149-44d6-a4f5-cd4529f0a4bd')\"\n",
              "              title=\"Convert this dataframe to an interactive table.\"\n",
              "              style=\"display:none;\">\n",
              "        \n",
              "  <svg xmlns=\"http://www.w3.org/2000/svg\" height=\"24px\"viewBox=\"0 0 24 24\"\n",
              "       width=\"24px\">\n",
              "    <path d=\"M0 0h24v24H0V0z\" fill=\"none\"/>\n",
              "    <path d=\"M18.56 5.44l.94 2.06.94-2.06 2.06-.94-2.06-.94-.94-2.06-.94 2.06-2.06.94zm-11 1L8.5 8.5l.94-2.06 2.06-.94-2.06-.94L8.5 2.5l-.94 2.06-2.06.94zm10 10l.94 2.06.94-2.06 2.06-.94-2.06-.94-.94-2.06-.94 2.06-2.06.94z\"/><path d=\"M17.41 7.96l-1.37-1.37c-.4-.4-.92-.59-1.43-.59-.52 0-1.04.2-1.43.59L10.3 9.45l-7.72 7.72c-.78.78-.78 2.05 0 2.83L4 21.41c.39.39.9.59 1.41.59.51 0 1.02-.2 1.41-.59l7.78-7.78 2.81-2.81c.8-.78.8-2.07 0-2.86zM5.41 20L4 18.59l7.72-7.72 1.47 1.35L5.41 20z\"/>\n",
              "  </svg>\n",
              "      </button>\n",
              "      \n",
              "  <style>\n",
              "    .colab-df-container {\n",
              "      display:flex;\n",
              "      flex-wrap:wrap;\n",
              "      gap: 12px;\n",
              "    }\n",
              "\n",
              "    .colab-df-convert {\n",
              "      background-color: #E8F0FE;\n",
              "      border: none;\n",
              "      border-radius: 50%;\n",
              "      cursor: pointer;\n",
              "      display: none;\n",
              "      fill: #1967D2;\n",
              "      height: 32px;\n",
              "      padding: 0 0 0 0;\n",
              "      width: 32px;\n",
              "    }\n",
              "\n",
              "    .colab-df-convert:hover {\n",
              "      background-color: #E2EBFA;\n",
              "      box-shadow: 0px 1px 2px rgba(60, 64, 67, 0.3), 0px 1px 3px 1px rgba(60, 64, 67, 0.15);\n",
              "      fill: #174EA6;\n",
              "    }\n",
              "\n",
              "    [theme=dark] .colab-df-convert {\n",
              "      background-color: #3B4455;\n",
              "      fill: #D2E3FC;\n",
              "    }\n",
              "\n",
              "    [theme=dark] .colab-df-convert:hover {\n",
              "      background-color: #434B5C;\n",
              "      box-shadow: 0px 1px 3px 1px rgba(0, 0, 0, 0.15);\n",
              "      filter: drop-shadow(0px 1px 2px rgba(0, 0, 0, 0.3));\n",
              "      fill: #FFFFFF;\n",
              "    }\n",
              "  </style>\n",
              "\n",
              "      <script>\n",
              "        const buttonEl =\n",
              "          document.querySelector('#df-3ff9f0e4-d149-44d6-a4f5-cd4529f0a4bd button.colab-df-convert');\n",
              "        buttonEl.style.display =\n",
              "          google.colab.kernel.accessAllowed ? 'block' : 'none';\n",
              "\n",
              "        async function convertToInteractive(key) {\n",
              "          const element = document.querySelector('#df-3ff9f0e4-d149-44d6-a4f5-cd4529f0a4bd');\n",
              "          const dataTable =\n",
              "            await google.colab.kernel.invokeFunction('convertToInteractive',\n",
              "                                                     [key], {});\n",
              "          if (!dataTable) return;\n",
              "\n",
              "          const docLinkHtml = 'Like what you see? Visit the ' +\n",
              "            '<a target=\"_blank\" href=https://colab.research.google.com/notebooks/data_table.ipynb>data table notebook</a>'\n",
              "            + ' to learn more about interactive tables.';\n",
              "          element.innerHTML = '';\n",
              "          dataTable['output_type'] = 'display_data';\n",
              "          await google.colab.output.renderOutput(dataTable, element);\n",
              "          const docLink = document.createElement('div');\n",
              "          docLink.innerHTML = docLinkHtml;\n",
              "          element.appendChild(docLink);\n",
              "        }\n",
              "      </script>\n",
              "    </div>\n",
              "  </div>\n",
              "  "
            ],
            "text/plain": [
              "              ID  Severity  ... Nautical_Twilight Astronomical_Twilight\n",
              "33694  A-2750294         4  ...             Night                 Night\n",
              "33695  A-2750295         4  ...             Night                 Night\n",
              "35299  A-2751899         4  ...               Day                   Day\n",
              "35942  A-2752542         4  ...             Night                 Night\n",
              "37826  A-2754426         4  ...               Day                   Day\n",
              "\n",
              "[5 rows x 47 columns]"
            ]
          },
          "metadata": {},
          "execution_count": 23
        }
      ]
    },
    {
      "cell_type": "code",
      "source": [
        "df[df.City == 'New York'].mean()"
      ],
      "metadata": {
        "colab": {
          "base_uri": "https://localhost:8080/"
        },
        "id": "p98Bxr5nTFR8",
        "outputId": "3866af15-b946-487b-c073-ea6665ede225"
      },
      "execution_count": null,
      "outputs": [
        {
          "output_type": "execute_result",
          "data": {
            "text/plain": [
              "Severity               2.376066\n",
              "Start_Lat             40.793925\n",
              "Start_Lng            -73.954537\n",
              "End_Lat               40.794132\n",
              "End_Lng              -73.955418\n",
              "Distance(mi)           0.431145\n",
              "Number               658.258242\n",
              "Temperature(F)        57.258491\n",
              "Wind_Chill(F)         50.767203\n",
              "Humidity(%)           61.179729\n",
              "Pressure(in)          29.987041\n",
              "Visibility(mi)         9.002494\n",
              "Wind_Speed(mph)        5.975015\n",
              "Precipitation(in)      0.125008\n",
              "Amenity                0.106635\n",
              "Bump                   0.000948\n",
              "Crossing               0.132227\n",
              "Give_Way               0.000000\n",
              "Junction               0.280332\n",
              "No_Exit                0.017062\n",
              "Railway                0.020379\n",
              "Roundabout             0.000000\n",
              "Station                0.039336\n",
              "Stop                   0.018957\n",
              "Traffic_Calming        0.000948\n",
              "Traffic_Signal         0.179384\n",
              "Turning_Loop           0.000000\n",
              "dtype: float64"
            ]
          },
          "metadata": {},
          "execution_count": 24
        }
      ]
    },
    {
      "cell_type": "code",
      "source": [
        "df[df.City == 'Los Angeles'].mean()"
      ],
      "metadata": {
        "colab": {
          "base_uri": "https://localhost:8080/"
        },
        "id": "EKO20kRbTFN2",
        "outputId": "2e7796ca-7bdf-4547-875f-d9d951d988e7"
      },
      "execution_count": null,
      "outputs": [
        {
          "output_type": "execute_result",
          "data": {
            "text/plain": [
              "Severity                2.085659\n",
              "Start_Lat              34.032296\n",
              "Start_Lng            -118.274565\n",
              "End_Lat                34.032333\n",
              "End_Lng              -118.274321\n",
              "Distance(mi)            0.257308\n",
              "Number               3911.747838\n",
              "Temperature(F)         65.691660\n",
              "Wind_Chill(F)          64.859357\n",
              "Humidity(%)            58.380286\n",
              "Pressure(in)           29.850749\n",
              "Visibility(mi)          9.022990\n",
              "Wind_Speed(mph)         3.769816\n",
              "Precipitation(in)       0.004444\n",
              "Amenity                 0.010254\n",
              "Bump                    0.000050\n",
              "Crossing                0.031363\n",
              "Give_Way                0.000000\n",
              "Junction                0.171369\n",
              "No_Exit                 0.001851\n",
              "Railway                 0.021108\n",
              "Roundabout              0.000000\n",
              "Station                 0.038615\n",
              "Stop                    0.011129\n",
              "Traffic_Calming         0.000050\n",
              "Traffic_Signal          0.123499\n",
              "Turning_Loop            0.000000\n",
              "dtype: float64"
            ]
          },
          "metadata": {},
          "execution_count": 25
        }
      ]
    },
    {
      "cell_type": "code",
      "source": [
        "df[df.City == 'Vale'].mean()"
      ],
      "metadata": {
        "colab": {
          "base_uri": "https://localhost:8080/"
        },
        "id": "X4WvdsyqTFL1",
        "outputId": "35780b24-492a-4e26-a6d2-be9b83d615b2"
      },
      "execution_count": null,
      "outputs": [
        {
          "output_type": "execute_result",
          "data": {
            "text/plain": [
              "Severity                2.073643\n",
              "Start_Lat              43.695879\n",
              "Start_Lng            -115.524856\n",
              "End_Lat                43.689333\n",
              "End_Lng              -115.518981\n",
              "Distance(mi)            1.072395\n",
              "Number               2544.849673\n",
              "Temperature(F)         47.119141\n",
              "Wind_Chill(F)          44.200000\n",
              "Humidity(%)            62.164062\n",
              "Pressure(in)           28.465155\n",
              "Visibility(mi)          8.623837\n",
              "Wind_Speed(mph)         4.911966\n",
              "Precipitation(in)       0.001869\n",
              "Amenity                 0.000000\n",
              "Bump                    0.000000\n",
              "Crossing                0.077519\n",
              "Give_Way                0.000000\n",
              "Junction                0.015504\n",
              "No_Exit                 0.000000\n",
              "Railway                 0.019380\n",
              "Roundabout              0.000000\n",
              "Station                 0.000000\n",
              "Stop                    0.000000\n",
              "Traffic_Calming         0.000000\n",
              "Traffic_Signal          0.000000\n",
              "Turning_Loop            0.000000\n",
              "dtype: float64"
            ]
          },
          "metadata": {},
          "execution_count": 26
        }
      ]
    },
    {
      "cell_type": "code",
      "source": [
        "Cities[:1000]"
      ],
      "metadata": {
        "colab": {
          "base_uri": "https://localhost:8080/"
        },
        "id": "SF_0jiNuTFIB",
        "outputId": "04dede9e-6cac-490e-b3e9-c555e4b2dbe3"
      },
      "execution_count": null,
      "outputs": [
        {
          "output_type": "execute_result",
          "data": {
            "text/plain": [
              "Los Angeles       39984\n",
              "Miami             36233\n",
              "Charlotte         22203\n",
              "Houston           20843\n",
              "Dallas            19497\n",
              "                  ...  \n",
              "Brookfield          259\n",
              "Commerce            259\n",
              "Mc Farland          259\n",
              "Vale                258\n",
              "Lithia Springs      258\n",
              "Name: City, Length: 1000, dtype: int64"
            ]
          },
          "metadata": {},
          "execution_count": 27
        }
      ]
    },
    {
      "cell_type": "code",
      "source": [
        "df[df.City == 'Los Angeles'].mean()"
      ],
      "metadata": {
        "colab": {
          "base_uri": "https://localhost:8080/"
        },
        "id": "kGSeHXtsTFEa",
        "outputId": "d83acf97-ff97-4cf2-a9fe-28cab6f92301"
      },
      "execution_count": null,
      "outputs": [
        {
          "output_type": "execute_result",
          "data": {
            "text/plain": [
              "Severity                2.085659\n",
              "Start_Lat              34.032296\n",
              "Start_Lng            -118.274565\n",
              "End_Lat                34.032333\n",
              "End_Lng              -118.274321\n",
              "Distance(mi)            0.257308\n",
              "Number               3911.747838\n",
              "Temperature(F)         65.691660\n",
              "Wind_Chill(F)          64.859357\n",
              "Humidity(%)            58.380286\n",
              "Pressure(in)           29.850749\n",
              "Visibility(mi)          9.022990\n",
              "Wind_Speed(mph)         3.769816\n",
              "Precipitation(in)       0.004444\n",
              "Amenity                 0.010254\n",
              "Bump                    0.000050\n",
              "Crossing                0.031363\n",
              "Give_Way                0.000000\n",
              "Junction                0.171369\n",
              "No_Exit                 0.001851\n",
              "Railway                 0.021108\n",
              "Roundabout              0.000000\n",
              "Station                 0.038615\n",
              "Stop                    0.011129\n",
              "Traffic_Calming         0.000050\n",
              "Traffic_Signal          0.123499\n",
              "Turning_Loop            0.000000\n",
              "dtype: float64"
            ]
          },
          "metadata": {},
          "execution_count": 28
        }
      ]
    },
    {
      "cell_type": "code",
      "source": [
        "Cities[Cities > 1000]"
      ],
      "metadata": {
        "colab": {
          "base_uri": "https://localhost:8080/"
        },
        "id": "iHi-3H3UWELN",
        "outputId": "60881214-d0d2-4d58-c824-6995f485ea52"
      },
      "execution_count": null,
      "outputs": [
        {
          "output_type": "execute_result",
          "data": {
            "text/plain": [
              "Los Angeles    39984\n",
              "Miami          36233\n",
              "Charlotte      22203\n",
              "Houston        20843\n",
              "Dallas         19497\n",
              "               ...  \n",
              "Elgin           1007\n",
              "Chandler        1006\n",
              "Palo Alto       1006\n",
              "Flushing        1001\n",
              "Sandy           1001\n",
              "Name: City, Length: 251, dtype: int64"
            ]
          },
          "metadata": {},
          "execution_count": 29
        }
      ]
    },
    {
      "cell_type": "code",
      "source": [
        "import seaborn as sns\n",
        "sns.set_style(\"darkgrid\")\n",
        "sns.histplot(Cities[Cities>1000],log_scale = True)"
      ],
      "metadata": {
        "colab": {
          "base_uri": "https://localhost:8080/",
          "height": 300
        },
        "id": "ipVJO7ppWEHg",
        "outputId": "dfcc0d48-5ad2-4844-9764-57596d851eee"
      },
      "execution_count": null,
      "outputs": [
        {
          "output_type": "execute_result",
          "data": {
            "text/plain": [
              "<matplotlib.axes._subplots.AxesSubplot at 0x7f0ab61e0c90>"
            ]
          },
          "metadata": {},
          "execution_count": 30
        },
        {
          "output_type": "display_data",
          "data": {
            "image/png": "[encoded data removed]",
            "text/plain": [
              "<Figure size 432x288 with 1 Axes>"
            ]
          },
          "metadata": {}
        }
      ]
    },
    {
      "cell_type": "code",
      "source": [
        "Cities[Cities < 10]"
      ],
      "metadata": {
        "colab": {
          "base_uri": "https://localhost:8080/"
        },
        "id": "yzWYLyLSWEBw",
        "outputId": "86541de0-21cd-4c09-e85a-66944e03159a"
      },
      "execution_count": null,
      "outputs": [
        {
          "output_type": "execute_result",
          "data": {
            "text/plain": [
              "Raeford            9\n",
              "Overgaard          9\n",
              "Newport Coast      9\n",
              "Palm Desert        9\n",
              "Waite Park         9\n",
              "                  ..\n",
              "Crossett           1\n",
              "Berlin township    1\n",
              "East Quogue        1\n",
              "Calvin             1\n",
              "Lewis              1\n",
              "Name: City, Length: 4704, dtype: int64"
            ]
          },
          "metadata": {},
          "execution_count": 31
        }
      ]
    },
    {
      "cell_type": "code",
      "source": [
        "sns.scatterplot(x=df.Start_Lng,y=df.Start_Lat,size=0.001)"
      ],
      "metadata": {
        "colab": {
          "base_uri": "https://localhost:8080/",
          "height": 299
        },
        "id": "-lbqoH8-WD-Z",
        "outputId": "b7d9be16-5a8d-4a57-933b-ce7c96b3af02"
      },
      "execution_count": null,
      "outputs": [
        {
          "output_type": "execute_result",
          "data": {
            "text/plain": [
              "<matplotlib.axes._subplots.AxesSubplot at 0x7f0ab5f6d590>"
            ]
          },
          "metadata": {},
          "execution_count": 32
        },
        {
          "output_type": "display_data",
          "data": {
            "image/png": "[encoded data removed]",
            "text/plain": [
              "<Figure size 432x288 with 1 Axes>"
            ]
          },
          "metadata": {}
        }
      ]
    },
    {
      "cell_type": "code",
      "source": [
        "import folium\n",
        "from folium.plugins import HeatMap"
      ],
      "metadata": {
        "id": "uGhUdeHuTE-9"
      },
      "execution_count": null,
      "outputs": []
    },
    {
      "cell_type": "code",
      "source": [
        "lat, lon = df.Start_Lat[0], df.Start_Lng[0]\n",
        "lat,lon"
      ],
      "metadata": {
        "colab": {
          "base_uri": "https://localhost:8080/"
        },
        "id": "kNSvx6lqXMgn",
        "outputId": "dce6ae0a-48f8-488c-9d53-342f8d85f243"
      },
      "execution_count": null,
      "outputs": [
        {
          "output_type": "execute_result",
          "data": {
            "text/plain": [
              "(40.108909999999995, -83.09286)"
            ]
          },
          "metadata": {},
          "execution_count": 34
        }
      ]
    },
    {
      "cell_type": "code",
      "source": [
        "map = folium.Map(location=[38.9, -77.05],zoom_start=12)\n",
        "\n",
        "sample_df = df.sample(int(0.001 * len(df)))\n",
        "heat_data = zip(list(sample_df.Start_Lat),list(sample_df.Start_Lng))\n",
        "HeatMap(heat_data).add_to(map)"
      ],
      "metadata": {
        "colab": {
          "base_uri": "https://localhost:8080/"
        },
        "id": "zpsHZGe3XMc_",
        "outputId": "8d87be41-81e4-476f-cc62-5313e6be44a2"
      },
      "execution_count": null,
      "outputs": [
        {
          "output_type": "execute_result",
          "data": {
            "text/plain": [
              "<folium.plugins.heat_map.HeatMap at 0x7f0ab5bb5790>"
            ]
          },
          "metadata": {},
          "execution_count": 35
        }
      ]
    },
    {
      "cell_type": "code",
      "source": [
        "map"
      ],
      "metadata": {
        "colab": {
          "base_uri": "https://localhost:8080/",
          "height": 600
        },
        "id": "aPWw-qHBXMYM",
        "outputId": "a64d07dd-10f6-4e29-cc95-c8f280e1980d"
      },
      "execution_count": null,
      "outputs": [
        {
          "output_type": "execute_result",
          "data": {
            "text/html": [
              "<div style=\"width:100%;\"><div style=\"position:relative;width:100%;height:0;padding-bottom:60%;\"><span style=\"color:#565656\">Make this Notebook Trusted to load map: File -> Trust Notebook</span><iframe src=\"about:blank\" style=\"position:absolute;width:100%;height:100%;left:0;top:0;border:none !important;\" data-html=%3C%21DOCTYPE%20html%3E%0A%3Chead%3E%20%20%20%20%0A%20%20%20%20%3Cmeta%20http-equiv%3D%22content-type%22%20content%3D%22text/html%3B%20charset%3DUTF-8%22%20/%3E%0A%20%20%20%20%3Cscript%3EL_PREFER_CANVAS%3Dfalse%3B%20L_NO_TOUCH%3Dfalse%3B%20L_DISABLE_3D%3Dfalse%3B%3C/script%3E%0A%20%20%20%20%3Cscript%20src%3D%22https%3A//cdn.jsdelivr.net/npm/leaflet%401.4.0/dist/leaflet.js%22%3E%3C/script%3E%0A%20%20%20%20%3Cscript%20src%3D%22https%3A//code.jquery.com/jquery-1.12.4.min.js%22%3E%3C/script%3E%0A%20%20%20%20%3Cscript%20src%3D%22https%3A//maxcdn.bootstrapcdn.com/bootstrap/3.2.0/js/bootstrap.min.js%22%3E%3C/script%3E%0A%20%20%20%20%3Cscript%20src%3D%22https%3A//cdnjs.cloudflare.com/ajax/libs/Leaflet.awesome-markers/2.0.2/leaflet.awesome-markers.js%22%3E%3C/script%3E%0A%20%20%20%20%3Clink%20rel%3D%22stylesheet%22%20href%3D%22https%3A//cdn.jsdelivr.net/npm/leaflet%401.4.0/dist/leaflet.css%22/%3E%0A%20%20%20%20%3Clink%20rel%3D%22stylesheet%22%20href%3D%22https%3A//maxcdn.bootstrapcdn.com/bootstrap/3.2.0/css/bootstrap.min.css%22/%3E%0A%20%20%20%20%3Clink%20rel%3D%22stylesheet%22%20href%3D%22https%3A//maxcdn.bootstrapcdn.com/bootstrap/3.2.0/css/bootstrap-theme.min.css%22/%3E%0A%20%20%20%20%3Clink%20rel%3D%22stylesheet%22%20href%3D%22https%3A//maxcdn.bootstrapcdn.com/font-awesome/4.6.3/css/font-awesome.min.css%22/%3E%0A%20%20%20%20%3Clink%20rel%3D%22stylesheet%22%20href%3D%22https%3A//cdnjs.cloudflare.com/ajax/libs/Leaflet.awesome-markers/2.0.2/leaflet.awesome-markers.css%22/%3E%0A%20%20%20%20%3Clink%20rel%3D%22stylesheet%22%20href%3D%22https%3A//rawcdn.githack.com/python-visualization/folium/master/folium/templates/leaflet.awesome.rotate.css%22/%3E%0A%20%20%20%20%3Cstyle%3Ehtml%2C%20body%20%7Bwidth%3A%20100%25%3Bheight%3A%20100%25%3Bmargin%3A%200%3Bpadding%3A%200%3B%7D%3C/style%3E%0A%20%20%20%20%3Cstyle%3E%23map%20%7Bposition%3Aabsolute%3Btop%3A0%3Bbottom%3A0%3Bright%3A0%3Bleft%3A0%3B%7D%3C/style%3E%0A%20%20%20%20%0A%20%20%20%20%3Cmeta%20name%3D%22viewport%22%20content%3D%22width%3Ddevice-width%2C%0A%20%20%20%20%20%20%20%20initial-scale%3D1.0%2C%20maximum-scale%3D1.0%2C%20user-scalable%3Dno%22%20/%3E%0A%20%20%20%20%3Cstyle%3E%23map_3a7da235f38e41b3b06e692df3371def%20%7B%0A%20%20%20%20%20%20%20%20position%3A%20relative%3B%0A%20%20%20%20%20%20%20%20width%3A%20100.0%25%3B%0A%20%20%20%20%20%20%20%20height%3A%20100.0%25%3B%0A%20%20%20%20%20%20%20%20left%3A%200.0%25%3B%0A%20%20%20%20%20%20%20%20top%3A%200.0%25%3B%0A%20%20%20%20%20%20%20%20%7D%0A%20%20%20%20%3C/style%3E%0A%20%20%20%20%3Cscript%20src%3D%22https%3A//leaflet.github.io/Leaflet.heat/dist/leaflet-heat.js%22%3E%3C/script%3E%0A%3C/head%3E%0A%3Cbody%3E%20%20%20%20%0A%20%20%20%20%0A%20%20%20%20%3Cdiv%20class%3D%22folium-map%22%20id%3D%22map_3a7da235f38e41b3b06e692df3371def%22%20%3E%3C/div%3E%0A%3C/body%3E%0A%3Cscript%3E%20%20%20%20%0A%20%20%20%20%0A%20%20%20%20%0A%20%20%20%20%20%20%20%20var%20bounds%20%3D%20null%3B%0A%20%20%20%20%0A%0A%20%20%20%20var%20map_3a7da235f38e41b3b06e692df3371def%20%3D%20L.map%28%0A%20%20%20%20%20%20%20%20%27map_3a7da235f38e41b3b06e692df3371def%27%2C%20%7B%0A%20%20%20%20%20%20%20%20center%3A%20%5B38.9%2C%20-77.05%5D%2C%0A%20%20%20%20%20%20%20%20zoom%3A%2012%2C%0A%20%20%20%20%20%20%20%20maxBounds%3A%20bounds%2C%0A%20%20%20%20%20%20%20%20layers%3A%20%5B%5D%2C%0A%20%20%20%20%20%20%20%20worldCopyJump%3A%20false%2C%0A%20%20%20%20%20%20%20%20crs%3A%20L.CRS.EPSG3857%2C%0A%20%20%20%20%20%20%20%20zoomControl%3A%20true%2C%0A%20%20%20%20%20%20%20%20%7D%29%3B%0A%0A%0A%20%20%20%20%0A%20%20%20%20var%20tile_layer_dd08efd7ee2c4d8cadbebb463942184d%20%3D%20L.tileLayer%28%0A%20%20%20%20%20%20%20%20%27https%3A//%7Bs%7D.tile.openstreetmap.org/%7Bz%7D/%7Bx%7D/%7By%7D.png%27%2C%0A%20%20%20%20%20%20%20%20%7B%0A%20%20%20%20%20%20%20%20%22attribution%22%3A%20null%2C%0A%20%20%20%20%20%20%20%20%22detectRetina%22%3A%20false%2C%0A%20%20%20%20%20%20%20%20%22maxNativeZoom%22%3A%2018%2C%0A%20%20%20%20%20%20%20%20%22maxZoom%22%3A%2018%2C%0A%20%20%20%20%20%20%20%20%22minZoom%22%3A%200%2C%0A%20%20%20%20%20%20%20%20%22noWrap%22%3A%20false%2C%0A%20%20%20%20%20%20%20%20%22opacity%22%3A%201%2C%0A%20%20%20%20%20%20%20%20%22subdomains%22%3A%20%22abc%22%2C%0A%20%20%20%20%20%20%20%20%22tms%22%3A%20false%0A%7D%29.addTo%28map_3a7da235f38e41b3b06e692df3371def%29%3B%0A%20%20%20%20%0A%20%20%20%20%20%20%20%20%20%20%20%20var%20heat_map_1d252d4aaeb046cb8b4c374e0a0362c7%20%3D%20L.heatLayer%28%0A%20%20%20%20%20%20%20%20%20%20%20%20%20%20%20%20%5B%5B32.964488%2C%20-117.247134%5D%2C%20%5B35.26484%2C%20-80.87575%5D%2C%20%5B32.177859999999995%2C%20-110.94707%5D%2C%20%5B41.99188%2C%20-88.14482%5D%2C%20%5B39.105090000000004%2C%20-94.59273%5D%2C%20%5B32.983090000000004%2C%20-80.07857%5D%2C%20%5B39.089179%2C%20-94.48747%5D%2C%20%5B38.60537%2C%20-121.27568000000001%5D%2C%20%5B29.964562%2C%20-90.111362%5D%2C%20%5B37.517476%2C%20-77.449591%5D%2C%20%5B33.88255%2C%20-118.02588999999999%5D%2C%20%5B43.17283%2C%20-83.76854%5D%2C%20%5B33.966454%2C%20-118.08357099999999%5D%2C%20%5B43.076229999999995%2C%20-76.17288%5D%2C%20%5B41.10674%2C%20-73.41445999999999%5D%2C%20%5B39.61985%2C%20-104.89913999999999%5D%2C%20%5B29.923414%2C%20-95.303218%5D%2C%20%5B41.84381%2C%20-87.61084%5D%2C%20%5B43.41949%2C%20-83.89095999999999%5D%2C%20%5B43.03593%2C%20-89.45052%5D%2C%20%5B27.892177%2C%20-82.64660500000001%5D%2C%20%5B38.728851%2C%20-121.17443899999999%5D%2C%20%5B38.879690999999994%2C%20-77.24279200000001%5D%2C%20%5B39.602470000000004%2C%20-105.1288%5D%2C%20%5B37.05676%2C%20-120.96472800000001%5D%2C%20%5B33.70325%2C%20-84.17498%5D%2C%20%5B35.0825%2C%20-89.94808%5D%2C%20%5B37.594568%2C%20-120.960226%5D%2C%20%5B42.55356%2C%20-82.95035%5D%2C%20%5B29.341390000000004%2C%20-98.55568000000001%5D%2C%20%5B37.996759999999995%2C%20-121.78948000000001%5D%2C%20%5B44.86114%2C%20-93.15593%5D%2C%20%5B32.83055%2C%20-117.16733%5D%2C%20%5B25.899914000000003%2C%20-80.16134100000001%5D%2C%20%5B42.44812%2C%20-88.11111%5D%2C%20%5B28.56767%2C%20-81.215102%5D%2C%20%5B34.23%2C%20-118.26061000000001%5D%2C%20%5B30.483603000000002%2C%20-91.089676%5D%2C%20%5B45.49004%2C%20-122.56857%5D%2C%20%5B38.793296000000005%2C%20-77.56262199999999%5D%2C%20%5B25.925464%2C%20-80.29233%5D%2C%20%5B48.16623%2C%20-114.289538%5D%2C%20%5B39.766059999999996%2C%20-104.8275%5D%2C%20%5B34.027337%2C%20-117.569602%5D%2C%20%5B43.779189%2C%20-70.196612%5D%2C%20%5B39.147828000000004%2C%20-84.539602%5D%2C%20%5B34.023918%2C%20-118.18621399999999%5D%2C%20%5B38.898253000000004%2C%20-77.630712%5D%2C%20%5B45.041709999999995%2C%20-120.2003%5D%2C%20%5B43.15531%2C%20-77.65953%5D%2C%20%5B39.570738%2C%20-76.354298%5D%2C%20%5B34.14865%2C%20-118.05401%5D%2C%20%5B44.392157%2C%20-123.06111200000001%5D%2C%20%5B30.4121%2C%20-91.0557%5D%2C%20%5B45.286277%2C%20-93.002926%5D%2C%20%5B34.0204%2C%20-118.15729099999999%5D%2C%20%5B34.212776%2C%20-117.41231299999998%5D%2C%20%5B33.65527%2C%20-84.36476400000001%5D%2C%20%5B32.68561%2C%20-117.09038999999999%5D%2C%20%5B36.487604%2C%20-119.3717%5D%2C%20%5B35.819382%2C%20-78.595138%5D%2C%20%5B33.590576%2C%20-117.126448%5D%2C%20%5B40.72943%2C%20-74.12524%5D%2C%20%5B25.787326%2C%20-80.197266%5D%2C%20%5B38.444628%2C%20-105.229753%5D%2C%20%5B33.743590000000005%2C%20-84.35876%5D%2C%20%5B38.391627%2C%20-121.929584%5D%2C%20%5B34.153092%2C%20-118.65290800000001%5D%2C%20%5B39.10355%2C%20-94.57206%5D%2C%20%5B39.754558%2C%20-84.20384399999999%5D%2C%20%5B36.80695%2C%20-76.43059000000001%5D%2C%20%5B26.30228%2C%20-81.74309000000001%5D%2C%20%5B30.43545%2C%20-91.17730999999999%5D%2C%20%5B43.029502%2C%20-83.747398%5D%2C%20%5B34.168541999999995%2C%20-81.967352%5D%2C%20%5B33.734140000000004%2C%20-84.23092%5D%2C%20%5B35.48032%2C%20-80.8747%5D%2C%20%5B28.57842%2C%20-82.37666%5D%2C%20%5B41.334270000000004%2C%20-122.33447%5D%2C%20%5B25.684807%2C%20-80.430801%5D%2C%20%5B27.71213%2C%20-82.27301999999999%5D%2C%20%5B33.803951%2C%20-84.410105%5D%2C%20%5B34.067068%2C%20-117.833877%5D%2C%20%5B42.02148%2C%20-88.28352%5D%2C%20%5B41.83242%2C%20-71.41703000000001%5D%2C%20%5B40.85002%2C%20-73.94399%5D%2C%20%5B42.450914000000004%2C%20-70.962859%5D%2C%20%5B42.435590000000005%2C%20-82.92168000000001%5D%2C%20%5B25.625151000000002%2C%20-80.41441400000001%5D%2C%20%5B40.369014%2C%20-76.33413399999999%5D%2C%20%5B42.3392%2C%20-71.2596%5D%2C%20%5B44.899824%2C%20-122.941181%5D%2C%20%5B32.91733%2C%20-96.76688%5D%2C%20%5B38.99848%2C%20-94.50236%5D%2C%20%5B36.158879999999996%2C%20-115.32365%5D%2C%20%5B38.99653%2C%20-94.78116%5D%2C%20%5B32.831374%2C%20-117.2326%5D%2C%20%5B37.869479999999996%2C%20-122.30474%5D%2C%20%5B39.23206%2C%20-119.93215%5D%2C%20%5B34.071909999999995%2C%20-118.08769%5D%2C%20%5B32.92502%2C%20-96.786455%5D%2C%20%5B33.930170000000004%2C%20-117.88006000000001%5D%2C%20%5B45.38085%2C%20-122.58032%5D%2C%20%5B39.399640000000005%2C%20-76.54628000000001%5D%2C%20%5B30.721355%2C%20-88.036135%5D%2C%20%5B33.897859999999994%2C%20-84.2672%5D%2C%20%5B38.85302%2C%20-104.79426%5D%2C%20%5B45.31562%2C%20-94.29921%5D%2C%20%5B41.79395%2C%20-88.32511%5D%2C%20%5B39.006128000000004%2C%20-77.038795%5D%2C%20%5B41.19056%2C%20-111.97117%5D%2C%20%5B38.714312%2C%20-121.392379%5D%2C%20%5B40.716243%2C%20-73.821462%5D%2C%20%5B39.713594%2C%20-75.614751%5D%2C%20%5B35.257%2C%20-80.841585%5D%2C%20%5B30.443726%2C%20-89.036046%5D%2C%20%5B34.558817%2C%20-118.67596699999999%5D%2C%20%5B36.965163000000004%2C%20-76.515022%5D%2C%20%5B34.13537%2C%20-117.9875%5D%2C%20%5B37.729572%2C%20-122.18683999999999%5D%2C%20%5B41.149609999999996%2C%20-74.03378000000001%5D%2C%20%5B36.76355%2C%20-119.77571%5D%2C%20%5B39.015593%2C%20-78.293254%5D%2C%20%5B36.201882%2C%20-86.84905%5D%2C%20%5B32.123018%2C%20-111.021126%5D%2C%20%5B32.70375%2C%20-96.66301999999999%5D%2C%20%5B41.461490000000005%2C%20-73.230324%5D%2C%20%5B29.59255%2C%20-98.58283%5D%2C%20%5B37.556936%2C%20-77.26321999999999%5D%2C%20%5B39.134019%2C%20-76.758803%5D%2C%20%5B34.98349%2C%20-81.972329%5D%2C%20%5B35.756370000000004%2C%20-78.70016%5D%2C%20%5B33.858999%2C%20-117.536428%5D%2C%20%5B33.986670000000004%2C%20-117.906247%5D%2C%20%5B38.838759%2C%20-77.43311700000001%5D%2C%20%5B47.607009999999995%2C%20-122.33001999999999%5D%2C%20%5B35.781451000000004%2C%20-78.645876%5D%2C%20%5B38.631170000000004%2C%20-90.15326999999999%5D%2C%20%5B41.73157%2C%20-72.75407%5D%2C%20%5B41.21903%2C%20-95.95349%5D%2C%20%5B39.125577%2C%20-104.86466000000001%5D%2C%20%5B39.60587%2C%20-75.7428%5D%2C%20%5B27.526534%2C%20-80.454307%5D%2C%20%5B34.2773%2C%20-119.295533%5D%2C%20%5B40.556779999999996%2C%20-74.43477%5D%2C%20%5B34.60375%2C%20-117.34001200000002%5D%2C%20%5B35.770508%2C%20-78.64898199999999%5D%2C%20%5B42.08065%2C%20-87.75873%5D%2C%20%5B32.86479%2C%20-96.90054%5D%2C%20%5B34.21683%2C%20-118.23700000000001%5D%2C%20%5B39.03699%2C%20-94.68329%5D%2C%20%5B33.91308%2C%20-118.18012%5D%2C%20%5B38.778351%2C%20-77.17605400000001%5D%2C%20%5B33.11261%2C%20-117.09718000000001%5D%2C%20%5B38.64317%2C%20-121.43409%5D%2C%20%5B37.73813%2C%20-122.19405%5D%2C%20%5B33.58806%2C%20-84.50859%5D%2C%20%5B47.0541%2C%20-120.66628%5D%2C%20%5B40.321846%2C%20-74.698424%5D%2C%20%5B34.058546%2C%20-118.214345%5D%2C%20%5B38.90074%2C%20-77.63027%5D%2C%20%5B33.799671000000004%2C%20-117.50303899999999%5D%2C%20%5B33.69891%2C%20-84.26978000000001%5D%2C%20%5B35.124072%2C%20-89.868569%5D%2C%20%5B38.154706%2C%20-121.67546899999999%5D%2C%20%5B34.01891%2C%20-118.180649%5D%2C%20%5B41.05199%2C%20-111.96042%5D%2C%20%5B34.155196000000004%2C%20-118.474916%5D%2C%20%5B35.418895%2C%20-119.021258%5D%2C%20%5B44.441414%2C%20-92.605278%5D%2C%20%5B34.02682%2C%20-118.20976%5D%2C%20%5B40.6314%2C%20-74.915696%5D%2C%20%5B33.620645%2C%20-81.10494399999999%5D%2C%20%5B38.811370000000004%2C%20-77.22104%5D%2C%20%5B37.458306%2C%20-122.137374%5D%2C%20%5B42.309351%2C%20-87.914815%5D%2C%20%5B36.779866%2C%20-121.703598%5D%2C%20%5B40.12522%2C%20-74.71675%5D%2C%20%5B40.411888%2C%20-111.866194%5D%2C%20%5B39.919089%2C%20-76.703375%5D%2C%20%5B38.551840000000006%2C%20-121.4323%5D%2C%20%5B33.767351%2C%20-84.65762%5D%2C%20%5B41.579082%2C%20-87.25384100000001%5D%2C%20%5B26.30375%2C%20-80.16935%5D%2C%20%5B44.721554%2C%20-121.203424%5D%2C%20%5B28.538915999999997%2C%20-81.29755%5D%2C%20%5B33.912874%2C%20-118.145867%5D%2C%20%5B43.75204%2C%20-123.13131000000001%5D%2C%20%5B33.898244%2C%20-118.18735%5D%2C%20%5B37.69088%2C%20-122.08481100000002%5D%2C%20%5B38.010708%2C%20-122.017546%5D%2C%20%5B35.124301%2C%20-118.494853%5D%2C%20%5B34.073603999999996%2C%20-118.05851899999999%5D%2C%20%5B33.66591%2C%20-84.34476%5D%2C%20%5B39.488264%2C%20-76.996903%5D%2C%20%5B40.607021%2C%20-74.04310100000001%5D%2C%20%5B38.52368%2C%20-119.90156%5D%2C%20%5B33.833346999999996%2C%20-117.247077%5D%2C%20%5B36.17458%2C%20-86.7709%5D%2C%20%5B32.02898%2C%20-110.72358999999999%5D%2C%20%5B38.725528999999995%2C%20-76.989902%5D%2C%20%5B45.050707%2C%20-122.95172099999999%5D%2C%20%5B41.926327%2C%20-91.543571%5D%2C%20%5B44.19453%2C%20-90.64392%5D%2C%20%5B34.0332%2C%20-118.092155%5D%2C%20%5B33.739118%2C%20-117.07484099999999%5D%2C%20%5B43.04562%2C%20-85.66292%5D%2C%20%5B40.70221%2C%20-75.136933%5D%2C%20%5B35.30505%2C%20-80.85837%5D%2C%20%5B47.68114%2C%20-122.32668999999999%5D%2C%20%5B28.878432%2C%20-82.092536%5D%2C%20%5B44.9315%2C%20-122.99041000000001%5D%2C%20%5B26.330981%2C%20-81.77977800000001%5D%2C%20%5B35.47885%2C%20-97.70681%5D%2C%20%5B40.85993%2C%20-73.82749%5D%2C%20%5B39.136569%2C%20-76.685824%5D%2C%20%5B40.148427000000005%2C%20-75.393548%5D%2C%20%5B44.71069%2C%20-117.73588000000001%5D%2C%20%5B34.172214000000004%2C%20-118.846861%5D%2C%20%5B40.041942%2C%20-75.476386%5D%2C%20%5B34.07197%2C%20-118.11022%5D%2C%20%5B42.55222%2C%20-82.98968%5D%2C%20%5B27.2846%2C%20-82.53071%5D%2C%20%5B33.46305%2C%20-112.18033999999999%5D%2C%20%5B26.349040000000002%2C%20-80.11747%5D%2C%20%5B39.25085%2C%20-119.96746999999999%5D%2C%20%5B43.666364%2C%20-116.354527%5D%2C%20%5B40.751259999999995%2C%20-74.18701999999999%5D%2C%20%5B41.81963%2C%20-87.82096%5D%2C%20%5B43.174209999999995%2C%20-124.23233700000002%5D%2C%20%5B26.106460000000002%2C%20-80.2821%5D%2C%20%5B45.061727000000005%2C%20-93.304265%5D%2C%20%5B33.797979999999995%2C%20-84.39578%5D%2C%20%5B27.95562%2C%20-82.50013%5D%2C%20%5B38.774190000000004%2C%20-77.18122%5D%2C%20%5B39.49088%2C%20-122.19583999999999%5D%2C%20%5B33.335684%2C%20-117.159007%5D%2C%20%5B35.369721999999996%2C%20-119.0425%5D%2C%20%5B35.88221%2C%20-78.83955999999999%5D%2C%20%5B36.92415%2C%20-121.69769%5D%2C%20%5B43.273509999999995%2C%20-70.96319%5D%2C%20%5B32.719066999999995%2C%20-117.082599%5D%2C%20%5B38.279512%2C%20-122.668421%5D%2C%20%5B29.601463%2C%20-98.407607%5D%2C%20%5B43.14991%2C%20-77.69096%5D%2C%20%5B33.386238%2C%20-86.783226%5D%2C%20%5B26.552090000000003%2C%20-81.79522%5D%2C%20%5B37.560721%2C%20-122.035628%5D%2C%20%5B44.056784%2C%20-121.28473600000001%5D%2C%20%5B34.06847%2C%20-117.97393999999998%5D%2C%20%5B33.940931%2C%20-118.096636%5D%2C%20%5B44.973051%2C%20-93.294071%5D%2C%20%5B37.5813%2C%20-122.32546%5D%2C%20%5B37.70227%2C%20-121.74506000000001%5D%2C%20%5B40.525442%2C%20-74.235788%5D%2C%20%5B34.004583000000004%2C%20-117.38511799999999%5D%2C%20%5B28.5585%2C%20-81.44901999999999%5D%2C%20%5B41.787444%2C%20-73.959563%5D%2C%20%5B38.875031%2C%20-123.10320300000001%5D%2C%20%5B45.589420000000004%2C%20-122.75568%5D%2C%20%5B32.67759%2C%20-97.07224000000001%5D%2C%20%5B36.239656%2C%20-86.772842%5D%2C%20%5B34.017981%2C%20-117.527285%5D%2C%20%5B40.594367%2C%20-111.412572%5D%2C%20%5B41.721810999999995%2C%20-85.97284%5D%2C%20%5B34.750153999999995%2C%20-112.11606100000002%5D%2C%20%5B33.876012%2C%20-81.117871%5D%2C%20%5B25.687070000000002%2C%20-80.36017700000001%5D%2C%20%5B35.176151000000004%2C%20-80.88627199999999%5D%2C%20%5B43.027425%2C%20-124.090985%5D%2C%20%5B33.853704%2C%20-117.963773%5D%2C%20%5B32.67472%2C%20-97.00177%5D%2C%20%5B25.78687%2C%20-80.3213%5D%2C%20%5B34.04935%2C%20-117.3052%5D%2C%20%5B38.636884%2C%20-121.328107%5D%2C%20%5B43.01927%2C%20-76.16066%5D%2C%20%5B36.007655%2C%20-119.301781%5D%2C%20%5B33.66917%2C%20-112.05912%5D%2C%20%5B30.398934999999998%2C%20-97.668644%5D%2C%20%5B37.009451%2C%20-121.51668899999999%5D%2C%20%5B39.171444%2C%20-121.75340200000001%5D%2C%20%5B38.55056%2C%20-90.42344%5D%2C%20%5B33.762887%2C%20-117.189348%5D%2C%20%5B37.415185%2C%20-77.64281700000001%5D%2C%20%5B25.841483%2C%20-80.20594%5D%2C%20%5B34.156833%2C%20-118.41378%5D%2C%20%5B39.408429999999996%2C%20-76.66691999999999%5D%2C%20%5B34.482820000000004%2C%20-85.461275%5D%2C%20%5B36.111270000000005%2C%20-83.98109000000001%5D%2C%20%5B32.791453000000004%2C%20-117.11280900000001%5D%2C%20%5B35.19481%2C%20-80.76629%5D%2C%20%5B32.35183%2C%20-81.30024%5D%2C%20%5B34.06927%2C%20-118.46353%5D%2C%20%5B36.923734%2C%20-120.022147%5D%2C%20%5B32.690272%2C%20-117.09442%5D%2C%20%5B37.29116%2C%20-77.41102%5D%2C%20%5B36.253585%2C%20-119.137681%5D%2C%20%5B27.4623%2C%20-82.57536%5D%2C%20%5B33.770959999999995%2C%20-117.98763999999998%5D%2C%20%5B39.33083%2C%20-76.56194%5D%2C%20%5B34.081184%2C%20-117.20081200000001%5D%2C%20%5B33.85973%2C%20-118.30395%5D%2C%20%5B39.05247%2C%20-104.84873%5D%2C%20%5B38.097546%2C%20-79.849673%5D%2C%20%5B40.267437%2C%20-74.510508%5D%2C%20%5B37.144664%2C%20-121.04203500000001%5D%2C%20%5B33.71332%2C%20-117.78638000000001%5D%2C%20%5B41.565785%2C%20-72.729712%5D%2C%20%5B46.7561%2C%20-122.0867%5D%2C%20%5B33.94088%2C%20-117.25229499999999%5D%2C%20%5B45.425709999999995%2C%20-122.56851%5D%2C%20%5B34.067412%2C%20-117.534881%5D%2C%20%5B32.936721999999996%2C%20-117.241405%5D%2C%20%5B25.924870000000002%2C%20-80.304802%5D%2C%20%5B29.766629%2C%20-82.50544599999999%5D%2C%20%5B33.982366999999996%2C%20-118.28080600000001%5D%2C%20%5B33.931896%2C%20-118.212057%5D%2C%20%5B32.350558%2C%20-95.319324%5D%2C%20%5B36.686067%2C%20-76.76520500000001%5D%2C%20%5B36.83898%2C%20-76.09283%5D%2C%20%5B34.143921999999996%2C%20-118.023175%5D%2C%20%5B39.22958%2C%20-84.63705999999999%5D%2C%20%5B31.800217%2C%20-106.44188700000001%5D%2C%20%5B39.26035%2C%20-76.70279000000001%5D%2C%20%5B38.587745%2C%20-121.292933%5D%2C%20%5B33.975017%2C%20-118.124599%5D%2C%20%5B40.43138%2C%20-111.89076399999999%5D%2C%20%5B36.603727%2C%20-120.061371%5D%2C%20%5B32.86535%2C%20-96.77241%5D%2C%20%5B34.468199%2C%20-82.648614%5D%2C%20%5B41.166413%2C%20-73.211337%5D%2C%20%5B41.549144%2C%20-73.046647%5D%2C%20%5B30.460328999999998%2C%20-84.303951%5D%2C%20%5B34.067696999999995%2C%20-117.591501%5D%2C%20%5B34.068047%2C%20-117.403277%5D%2C%20%5B33.88426%2C%20-117.88037%5D%2C%20%5B33.89496%2C%20-84.46582%5D%2C%20%5B39.32582%2C%20-76.68254%5D%2C%20%5B38.422540000000005%2C%20-122.3903%5D%2C%20%5B34.171525%2C%20-118.51852199999999%5D%2C%20%5B42.022481%2C%20-87.956445%5D%2C%20%5B28.324533000000002%2C%20-82.66603%5D%2C%20%5B42.31176%2C%20-83.68776%5D%2C%20%5B45.786349%2C%20-95.077272%5D%2C%20%5B34.01108%2C%20-118.16103000000001%5D%2C%20%5B45.040821%2C%20-123.806552%5D%2C%20%5B39.9579%2C%20-75.16331%5D%2C%20%5B44.18054%2C%20-121.24453999999999%5D%2C%20%5B33.70985%2C%20-84.24579%5D%2C%20%5B34.068740999999996%2C%20-117.36125200000001%5D%2C%20%5B45.51489%2C%20-122.68870600000001%5D%2C%20%5B33.69825%2C%20-84.08423%5D%2C%20%5B42.351440000000004%2C%20-88.5487%5D%2C%20%5B44.96686%2C%20-93.08889%5D%2C%20%5B47.444709%2C%20-122.296353%5D%2C%20%5B38.422562%2C%20-122.554473%5D%2C%20%5B37.675112%2C%20-122.032123%5D%2C%20%5B39.285016999999996%2C%20-77.327238%5D%2C%20%5B26.13609%2C%20-80.19259%5D%2C%20%5B43.091801000000004%2C%20-93.34339200000001%5D%2C%20%5B40.05635%2C%20-82.88626%5D%2C%20%5B30.537174%2C%20-85.384036%5D%2C%20%5B39.479437%2C%20-87.330039%5D%2C%20%5B47.510116%2C%20-92.55380799999999%5D%2C%20%5B45.775641%2C%20-118.548864%5D%2C%20%5B40.601067%2C%20-75.556719%5D%2C%20%5B37.013391%2C%20-76.391385%5D%2C%20%5B37.21768%2C%20-121.98803999999998%5D%2C%20%5B33.551579%2C%20-112.26667900000001%5D%2C%20%5B37.903399%2C%20-121.46360200000001%5D%2C%20%5B28.330440000000003%2C%20-82.54165%5D%2C%20%5B37.53573%2C%20-77.43895%5D%2C%20%5B34.121171999999994%2C%20-117.20086599999999%5D%2C%20%5B45.530120000000004%2C%20-122.66523000000001%5D%2C%20%5B45.4067%2C%20-122.74421000000001%5D%2C%20%5B43.21117%2C%20-123.35497%5D%2C%20%5B35.335815999999994%2C%20-119.013651%5D%2C%20%5B40.85333%2C%20-73.96133%5D%2C%20%5B37.563790000000004%2C%20-122.306145%5D%2C%20%5B40.5935%2C%20-111.9027%5D%2C%20%5B33.845833%2C%20-118.270178%5D%2C%20%5B34.031835%2C%20-117.75813799999999%5D%2C%20%5B38.802044%2C%20-109.76454199999999%5D%2C%20%5B46.118179999999995%2C%20-93.43308%5D%2C%20%5B34.037039%2C%20-118.29155700000001%5D%2C%20%5B35.0406%2C%20-85.16933%5D%2C%20%5B37.722958%2C%20-121.10058500000001%5D%2C%20%5B37.800403%2C%20-122.27991999999999%5D%2C%20%5B35.08741%2C%20-80.81183%5D%2C%20%5B33.810186%2C%20-118.290254%5D%2C%20%5B33.901925%2C%20-118.193817%5D%2C%20%5B33.451248%2C%20-112.10808%5D%2C%20%5B27.434278999999997%2C%20-82.45936%5D%2C%20%5B41.233598%2C%20-76.99479000000001%5D%2C%20%5B39.271026%2C%20-76.55677299999999%5D%2C%20%5B41.52082%2C%20-74.01019000000001%5D%2C%20%5B44.06395%2C%20-123.10091000000001%5D%2C%20%5B27.441536%2C%20-82.4592%5D%2C%20%5B37.51749%2C%20-77.42623%5D%2C%20%5B32.96465%2C%20-96.91733%5D%2C%20%5B45.54548%2C%20-122.70321000000001%5D%2C%20%5B33.917951%2C%20-84.338199%5D%2C%20%5B34.035394000000004%2C%20-118.26861799999999%5D%2C%20%5B39.470817%2C%20-76.639297%5D%2C%20%5B33.99429%2C%20-117.88468%5D%2C%20%5B39.40014%2C%20-74.55951999999999%5D%2C%20%5B34.201008%2C%20-118.473633%5D%2C%20%5B39.922151%2C%20-75.18987%5D%2C%20%5B35.441282%2C%20-119.082559%5D%2C%20%5B35.13886%2C%20-80.73894%5D%2C%20%5B40.960757%2C%20-95.91096999999999%5D%2C%20%5B34.079409999999996%2C%20-117.738401%5D%2C%20%5B38.76656%2C%20-77.53495%5D%2C%20%5B33.906626%2C%20-118.28681100000001%5D%2C%20%5B37.245%2C%20-122.145%5D%2C%20%5B40.780475%2C%20-124.139101%5D%2C%20%5B36.607979%2C%20-121.860297%5D%2C%20%5B32.341078%2C%20-90.592285%5D%2C%20%5B40.23172%2C%20-75.63457%5D%2C%20%5B46.195857000000004%2C%20-95.995987%5D%2C%20%5B32.81735%2C%20-117.160027%5D%2C%20%5B45.548102%2C%20-122.56026999999999%5D%2C%20%5B47.598329%2C%20-122.335582%5D%2C%20%5B40.358051%2C%20-75.38298%5D%2C%20%5B41.111222%2C%20-73.398525%5D%2C%20%5B40.69345%2C%20-73.9659%5D%2C%20%5B44.93307%2C%20-123.02908000000001%5D%2C%20%5B41.44695%2C%20-81.74463%5D%2C%20%5B37.63528%2C%20-77.45863100000001%5D%2C%20%5B28.55337%2C%20-81.336616%5D%2C%20%5B35.483826%2C%20-117.956577%5D%2C%20%5B25.80545%2C%20-80.32104%5D%2C%20%5B33.672999%2C%20-111.990605%5D%2C%20%5B30.573819%2C%20-87.291954%5D%2C%20%5B27.71244%2C%20-82.33454%5D%2C%20%5B34.119553%2C%20-117.77873799999999%5D%2C%20%5B44.305409999999995%2C%20-89.52325%5D%2C%20%5B36.140674%2C%20-86.732178%5D%2C%20%5B34.036421999999995%2C%20-118.14811100000001%5D%2C%20%5B42.39144%2C%20-87.883946%5D%2C%20%5B44.97096%2C%20-93.37826%5D%2C%20%5B25.88269%2C%20-80.16611%5D%2C%20%5B42.9959%2C%20-82.44255%5D%2C%20%5B40.844796%2C%20-73.905512%5D%2C%20%5B38.853423%2C%20-77.087159%5D%2C%20%5B46.584340000000005%2C%20-92.58353000000001%5D%2C%20%5B35.08008%2C%20-85.26484%5D%2C%20%5B34.37332%2C%20-117.7524%5D%2C%20%5B38.497237%2C%20-121.422381%5D%2C%20%5B33.203742%2C%20-87.56738399999999%5D%2C%20%5B45.79868%2C%20-120.0086%5D%2C%20%5B40.64759%2C%20-111.90231000000001%5D%2C%20%5B41.06755%2C%20-73.86748%5D%2C%20%5B29.940509999999996%2C%20-90.02253%5D%2C%20%5B37.515172%2C%20-121.939802%5D%2C%20%5B38.684809%2C%20-121.33949299999999%5D%2C%20%5B36.868089000000005%2C%20-76.418226%5D%2C%20%5B32.344582%2C%20-111.03514399999999%5D%2C%20%5B35.608540000000005%2C%20-97.5516%5D%2C%20%5B26.083785%2C%20-80.19329599999999%5D%2C%20%5B40.243624%2C%20-75.24045699999999%5D%2C%20%5B35.964332%2C%20-119.14311799999999%5D%2C%20%5B25.922435999999998%2C%20-80.122334%5D%2C%20%5B37.248173%2C%20-121.83128799999999%5D%2C%20%5B40.296809%2C%20-79.37228%5D%2C%20%5B45.43712%2C%20-122.56781000000001%5D%2C%20%5B44.955517%2C%20-93.270197%5D%2C%20%5B33.041176%2C%20-117.138617%5D%2C%20%5B35.081953999999996%2C%20-106.636701%5D%2C%20%5B38.833909999999996%2C%20-76.98505%5D%2C%20%5B33.964319%2C%20-118.120005%5D%2C%20%5B35.19988%2C%20-89.95874%5D%2C%20%5B41.69835%2C%20-87.59477%5D%2C%20%5B42.86616%2C%20-83.73979%5D%2C%20%5B40.76675%2C%20-73.95071999999999%5D%2C%20%5B28.115783%2C%20-82.74418399999999%5D%2C%20%5B26.63784%2C%20-81.81145%5D%2C%20%5B42.764782000000004%2C%20-95.552463%5D%2C%20%5B27.951594%2C%20-82.354563%5D%2C%20%5B34.15338%2C%20-118.36461000000001%5D%2C%20%5B34.748540000000006%2C%20-82.28175%5D%2C%20%5B37.71951%2C%20-122.44821999999999%5D%2C%20%5B44.97685%2C%20-70.16875%5D%2C%20%5B30.47311%2C%20-91.110384%5D%2C%20%5B44.68435%2C%20-123.05357%5D%2C%20%5B39.756628000000006%2C%20-121.844806%5D%2C%20%5B34.13575%2C%20-117.58519%5D%2C%20%5B30.927962%2C%20-85.424162%5D%2C%20%5B27.70761%2C%20-82.38772%5D%2C%20%5B37.763533%2C%20-121.41875700000001%5D%2C%20%5B33.875589%2C%20-118.193097%5D%2C%20%5B30.27385%2C%20-81.52143000000001%5D%2C%20%5B28.115159999999996%2C%20-82.37164%5D%2C%20%5B41.138359%2C%20-111.806069%5D%2C%20%5B39.095134%2C%20-75.545713%5D%2C%20%5B39.37472%2C%20-76.55982%5D%2C%20%5B42.19728%2C%20-88.04338%5D%2C%20%5B40.50973%2C%20-111.89136%5D%2C%20%5B34.552378000000004%2C%20-112.42971100000001%5D%2C%20%5B35.208102000000004%2C%20-80.82198199999999%5D%2C%20%5B39.25932%2C%20-76.63595%5D%2C%20%5B33.873474%2C%20-118.25108%5D%2C%20%5B45.155425%2C%20-122.55198600000001%5D%2C%20%5B28.084412%2C%20-81.26502099999999%5D%2C%20%5B41.39227%2C%20-73.53390999999999%5D%2C%20%5B39.77848%2C%20-104.90063%5D%2C%20%5B35.249520000000004%2C%20-80.78106%5D%2C%20%5B41.122822%2C%20-73.316324%5D%2C%20%5B33.956691%2C%20-81.092759%5D%2C%20%5B35.800077%2C%20-114.53450500000001%5D%2C%20%5B33.65767%2C%20-117.90325%5D%2C%20%5B41.521752%2C%20-74.107506%5D%2C%20%5B39.314126%2C%20-76.521867%5D%2C%20%5B33.87972%2C%20-117.56182%5D%2C%20%5B32.970613%2C%20-117.09130800000001%5D%2C%20%5B46.588505%2C%20-111.92495%5D%2C%20%5B45.130359999999996%2C%20-93.42232%5D%2C%20%5B25.929579999999998%2C%20-80.188317%5D%2C%20%5B34.092925%2C%20-79.064687%5D%2C%20%5B40.786796%2C%20-73.809703%5D%2C%20%5B37.43392%2C%20-77.60985%5D%2C%20%5B41.881781%2C%20-87.920601%5D%2C%20%5B38.938322%2C%20-94.604085%5D%2C%20%5B25.823117%2C%20-80.206385%5D%2C%20%5B26.656984%2C%20-81.72237700000001%5D%2C%20%5B43.078658000000004%2C%20-121.82508999999999%5D%2C%20%5B42.45369%2C%20-83.21403000000001%5D%2C%20%5B33.982562%2C%20-117.71504399999999%5D%2C%20%5B29.398505%2C%20-81.153065%5D%2C%20%5B43.826941%2C%20-95.065201%5D%2C%20%5B35.18732%2C%20-80.85296%5D%2C%20%5B26.913117%2C%20-80.14309399999999%5D%2C%20%5B45.034929999999996%2C%20-93.0871%5D%2C%20%5B33.732815%2C%20-117.989278%5D%2C%20%5B42.956853%2C%20-85.17028499999999%5D%2C%20%5B45.03564%2C%20-93.19032%5D%2C%20%5B37.848067%2C%20-122.488739%5D%2C%20%5B34.507989%2C%20-117.32290400000001%5D%2C%20%5B38.661%2C%20-121.35979499999999%5D%2C%20%5B37.912490000000005%2C%20-122.06706000000001%5D%2C%20%5B33.458906%2C%20-117.65586699999999%5D%2C%20%5B33.88012%2C%20-117.60813999999999%5D%2C%20%5B34.0277%2C%20-117.1247%5D%2C%20%5B25.595013%2C%20-80.364526%5D%2C%20%5B34.150059999999996%2C%20-118.46843999999999%5D%2C%20%5B30.469331%2C%20-91.160844%5D%2C%20%5B35.17442%2C%20-111.66978%5D%2C%20%5B39.27898%2C%20-104.95601%5D%2C%20%5B41.386285%2C%20-77.05512900000001%5D%2C%20%5B43.003875%2C%20-83.740737%5D%2C%20%5B37.47302%2C%20-77.52512%5D%2C%20%5B33.944524%2C%20-118.098703%5D%2C%20%5B29.898034999999997%2C%20-95.425225%5D%2C%20%5B44.993559999999995%2C%20-92.96007%5D%2C%20%5B26.268359999999998%2C%20-81.74253%5D%2C%20%5B44.907478999999995%2C%20-122.98631%5D%2C%20%5B37.291543%2C%20-120.32486399999999%5D%2C%20%5B42.29775%2C%20-88.00418%5D%2C%20%5B41.44543%2C%20-72.79018%5D%2C%20%5B34.729071999999995%2C%20-114.54626599999999%5D%2C%20%5B33.951007000000004%2C%20-117.86638899999998%5D%2C%20%5B33.41467%2C%20-111.89196000000001%5D%2C%20%5B34.030003%2C%20-79.021752%5D%2C%20%5B40.734426%2C%20-73.92225%5D%2C%20%5B39.596109999999996%2C%20-76.06092%5D%2C%20%5B28.8961%2C%20-82.10120699999999%5D%2C%20%5B31.243000000000002%2C%20-82.191781%5D%2C%20%5B43.17601%2C%20-77.6832%5D%2C%20%5B28.173326%2C%20-82.75976899999999%5D%2C%20%5B44.84391%2C%20-93.29834%5D%2C%20%5B32.75953%2C%20-97.09513000000001%5D%2C%20%5B42.07689%2C%20-122.60206000000001%5D%2C%20%5B33.87361%2C%20-118.23605800000001%5D%2C%20%5B33.05836%2C%20-96.69325%5D%2C%20%5B27.447752%2C%20-82.574721%5D%2C%20%5B28.756859999999996%2C%20-81.5598%5D%2C%20%5B39.976501%2C%20-76.694443%5D%2C%20%5B33.9064%2C%20-117.456795%5D%2C%20%5B38.64326%2C%20-90.18925%5D%2C%20%5B32.95081%2C%20-97.04091%5D%2C%20%5B37.26263%2C%20-121.95088%5D%2C%20%5B39.382413%2C%20-76.446057%5D%2C%20%5B36.239909999999995%2C%20-86.78611%5D%2C%20%5B32.951958000000005%2C%20-97.134106%5D%2C%20%5B33.677762%2C%20-117.75795500000001%5D%2C%20%5B34.135726%2C%20-117.58518799999999%5D%2C%20%5B39.18045%2C%20-104.85008%5D%2C%20%5B38.792477000000005%2C%20-90.56248000000001%5D%2C%20%5B47.822759999999995%2C%20-122.0613%5D%2C%20%5B33.75119%2C%20-84.4963%5D%2C%20%5B35.12778%2C%20-89.86793%5D%2C%20%5B33.131840000000004%2C%20-117.08883999999999%5D%2C%20%5B38.43268%2C%20-122.71608%5D%2C%20%5B38.593428%2C%20-121.44475600000001%5D%2C%20%5B34.155126%2C%20-80.912882%5D%2C%20%5B43.670190000000005%2C%20-94.35186%5D%2C%20%5B33.772031%2C%20-117.90917900000001%5D%2C%20%5B41.766183000000005%2C%20-72.686481%5D%2C%20%5B28.53707%2C%20-81.36695%5D%2C%20%5B40.64468%2C%20-75.00089%5D%2C%20%5B43.201141%2C%20-122.133835%5D%2C%20%5B38.87101%2C%20-89.38543%5D%2C%20%5B34.01375%2C%20-117.5501%5D%2C%20%5B32.75468%2C%20-97.7041%5D%2C%20%5B39.983109999999996%2C%20-75.82388%5D%2C%20%5B37.344921%2C%20-122.395499%5D%2C%20%5B34.082366%2C%20-117.54495%5D%2C%20%5B25.709265%2C%20-80.283462%5D%2C%20%5B44.847970000000004%2C%20-93.29827%5D%2C%20%5B41.80189%2C%20-71.40273%5D%2C%20%5B43.52147%2C%20-96.830797%5D%2C%20%5B40.67487%2C%20-74.00064%5D%2C%20%5B35.740867%2C%20-78.67025799999999%5D%2C%20%5B40.15303%2C%20-79.70087%5D%2C%20%5B39.622409999999995%2C%20-105.19506000000001%5D%2C%20%5B28.574734000000003%2C%20-81.451965%5D%2C%20%5B32.484898%2C%20-93.737404%5D%2C%20%5B43.029674%2C%20-83.928387%5D%2C%20%5B40.78973%2C%20-74.0883%5D%2C%20%5B33.687756%2C%20-117.899248%5D%2C%20%5B42.386359000000006%2C%20-83.431069%5D%2C%20%5B39.053427%2C%20-76.84111700000001%5D%2C%20%5B41.259190000000004%2C%20-111.96963000000001%5D%2C%20%5B34.83213%2C%20-92.17716999999999%5D%2C%20%5B45.246752%2C%20-93.555504%5D%2C%20%5B37.63491%2C%20-122.0869%5D%2C%20%5B41.01766%2C%20-73.84443%5D%2C%20%5B41.009840000000004%2C%20-73.85234799999999%5D%2C%20%5B39.097631%2C%20-121.55151299999999%5D%2C%20%5B33.959307%2C%20-118.23285700000001%5D%2C%20%5B33.861297%2C%20-117.877051%5D%2C%20%5B33.843920000000004%2C%20-117.251026%5D%2C%20%5B36.114996999999995%2C%20-83.912741%5D%2C%20%5B34.347994%2C%20-83.314498%5D%2C%20%5B32.9258%2C%20-96.81138299999999%5D%2C%20%5B33.348811%2C%20-117.11803400000001%5D%2C%20%5B29.211391%2C%20-82.18439599999999%5D%2C%20%5B29.93817%2C%20-90.04139%5D%2C%20%5B40.7644%2C%20-111.985425%5D%2C%20%5B39.27539%2C%20-84.35724%5D%2C%20%5B34.02917%2C%20-118.39623999999999%5D%2C%20%5B38.9309%2C%20-94.65536999999999%5D%2C%20%5B40.000009999999996%2C%20-78.69315999999999%5D%2C%20%5B25.871036%2C%20-80.210001%5D%2C%20%5B37.418875%2C%20-121.96465%5D%2C%20%5B44.643586%2C%20-122.85813300000001%5D%2C%20%5B33.897703%2C%20-117.47855700000001%5D%2C%20%5B34.10909%2C%20-118.24956%5D%2C%20%5B38.2253%2C%20-85.75533%5D%2C%20%5B37.675173%2C%20-122.057915%5D%2C%20%5B26.067906%2C%20-80.215612%5D%2C%20%5B37.81584%2C%20-121.29393999999999%5D%2C%20%5B39.372071000000005%2C%20-85.942429%5D%2C%20%5B29.965542%2C%20-90.110067%5D%2C%20%5B38.943020000000004%2C%20-94.75697%5D%2C%20%5B39.091269%2C%20-77.522924%5D%2C%20%5B47.104292%2C%20-122.58845900000001%5D%2C%20%5B34.263395%2C%20-117.844426%5D%2C%20%5B40.67948%2C%20-73.70213000000001%5D%2C%20%5B38.563351000000004%2C%20-121.341578%5D%2C%20%5B43.05526%2C%20-76.16285%5D%2C%20%5B34.063497%2C%20-117.783596%5D%2C%20%5B37.4782%2C%20-121.93348999999999%5D%2C%20%5B35.778189000000005%2C%20-78.636585%5D%2C%20%5B35.83408%2C%20-78.67272%5D%2C%20%5B35.9654%2C%20-78.53996%5D%2C%20%5B33.152445%2C%20-117.33576699999999%5D%2C%20%5B37.603362%2C%20-77.526282%5D%2C%20%5B39.78379%2C%20-105.09465%5D%2C%20%5B45.67305%2C%20-118.76189699999999%5D%2C%20%5B34.19924%2C%20-118.33798%5D%2C%20%5B39.93647%2C%20-83.00944%5D%2C%20%5B41.020270000000004%2C%20-80.43944%5D%2C%20%5B37.312126%2C%20-104.282767%5D%2C%20%5B43.878009999999996%2C%20-93.276833%5D%2C%20%5B25.715168%2C%20-80.431221%5D%2C%20%5B28.33091%2C%20-82.69915%5D%2C%20%5B37.086528%2C%20-120.21260600000001%5D%2C%20%5B35.20985%2C%20-80.75718%5D%2C%20%5B40.012702000000004%2C%20-121.193598%5D%2C%20%5B45.50478%2C%20-122.4181%5D%2C%20%5B41.73148%2C%20-87.62443%5D%2C%20%5B33.983024%2C%20-118.07083600000001%5D%2C%20%5B33.89083%2C%20-118.18853%5D%2C%20%5B42.951478%2C%20-85.673176%5D%2C%20%5B42.42212%2C%20-123.02712%5D%2C%20%5B35.495059999999995%2C%20-80.8704%5D%2C%20%5B30.492941%2C%20-91.163226%5D%2C%20%5B40.785%2C%20-73.94091%5D%2C%20%5B32.985109%2C%20-85.035263%5D%2C%20%5B40.09024%2C%20-74.21634%5D%2C%20%5B35.77989%2C%20-78.56838%5D%2C%20%5B36.135612%2C%20-94.18221199999999%5D%2C%20%5B33.681090000000005%2C%20-117.17081%5D%2C%20%5B39.40934%2C%20-104.86601%5D%2C%20%5B45.276165%2C%20-122.94448899999999%5D%2C%20%5B33.85373%2C%20-117.9109%5D%2C%20%5B38.476147%2C%20-121.424954%5D%2C%20%5B37.81904%2C%20-122.25362%5D%2C%20%5B27.930646999999997%2C%20-82.352517%5D%2C%20%5B39.160016%2C%20-94.645043%5D%2C%20%5B35.264298%2C%20-118.658348%5D%2C%20%5B28.58404%2C%20-81.25816%5D%2C%20%5B45.353931%2C%20-118.18537099999999%5D%2C%20%5B33.612297999999996%2C%20-117.42666200000001%5D%2C%20%5B40.453664%2C%20-111.913549%5D%2C%20%5B27.879137%2C%20-82.71219%5D%2C%20%5B39.572974%2C%20-86.056474%5D%2C%20%5B35.26692%2C%20-80.84424%5D%2C%20%5B37.081733%2C%20-77.97138000000001%5D%2C%20%5B28.574721000000004%2C%20-81.31076%5D%2C%20%5B41.536452000000004%2C%20-72.797813%5D%2C%20%5B37.73222%2C%20-122.41524%5D%2C%20%5B42.331577%2C%20-83.08564%5D%2C%20%5B40.42776%2C%20-74.56098%5D%2C%20%5B41.204596%2C%20-73.111237%5D%2C%20%5B37.37662%2C%20-121.941589%5D%2C%20%5B37.57638%2C%20-122.40096000000001%5D%2C%20%5B34.054356%2C%20-118.004333%5D%2C%20%5B45.345896%2C%20-118.22396200000001%5D%2C%20%5B34.16924%2C%20-118.46793999999998%5D%2C%20%5B41.93217%2C%20-85.62702%5D%2C%20%5B41.024614%2C%20-78.10821800000001%5D%2C%20%5B38.62128%2C%20-76.91561%5D%2C%20%5B44.86227%2C%20-93.25801%5D%2C%20%5B40.69344%2C%20-73.8776%5D%2C%20%5B40.276720000000005%2C%20-74.82831999999999%5D%2C%20%5B34.120219%2C%20-117.807201%5D%2C%20%5B26.556252%2C%20-81.750072%5D%2C%20%5B43.24398%2C%20-122.152519%5D%2C%20%5B33.520579%2C%20-117.66554099999999%5D%2C%20%5B33.92419%2C%20-84.35795%5D%2C%20%5B37.4625%2C%20-122.14453999999999%5D%2C%20%5B38.798075%2C%20-77.168599%5D%2C%20%5B37.347498%2C%20-121.840876%5D%2C%20%5B46.611512%2C%20-112.340277%5D%2C%20%5B38.896878%2C%20-104.82139699999999%5D%2C%20%5B42.49354%2C%20-123.36283%5D%2C%20%5B45.564640999999995%2C%20-123.57696399999999%5D%2C%20%5B43.92325%2C%20-70.00774%5D%2C%20%5B43.04878%2C%20-76.14251999999999%5D%2C%20%5B34.070484%2C%20-117.400324%5D%2C%20%5B34.064059%2C%20-81.02273100000001%5D%2C%20%5B33.52048%2C%20-112.11222%5D%2C%20%5B35.875409999999995%2C%20-86.466432%5D%2C%20%5B34.035698%2C%20-118.09861699999999%5D%2C%20%5B28.304121999999996%2C%20-82.702865%5D%2C%20%5B33.387144%2C%20-117.174842%5D%2C%20%5B33.979202%2C%20-81.11421999999999%5D%2C%20%5B27.470136%2C%20-82.575397%5D%2C%20%5B40.79588%2C%20-73.9765%5D%2C%20%5B40.751928%2C%20-122.03565%5D%2C%20%5B44.90575%2C%20-117.9344%5D%2C%20%5B32.72148%2C%20-117.07901299999999%5D%2C%20%5B45.03584%2C%20-93.1906%5D%2C%20%5B33.85805%2C%20-84.3119%5D%2C%20%5B38.416381%2C%20-121.808279%5D%2C%20%5B33.405570000000004%2C%20-84.8346%5D%2C%20%5B39.63688%2C%20-78.84474%5D%2C%20%5B36.06098%2C%20-80.19399%5D%2C%20%5B32.61902%2C%20-97.32171%5D%2C%20%5B33.88048%2C%20-117.57078%5D%2C%20%5B40.7239%2C%20-74.08986%5D%2C%20%5B34.273542%2C%20-118.56963999999999%5D%2C%20%5B32.192172%2C%20-110.859568%5D%2C%20%5B38.246689%2C%20-77.4855%5D%2C%20%5B38.510453999999996%2C%20-121.78046599999999%5D%2C%20%5B41.752027000000005%2C%20-77.558148%5D%2C%20%5B38.709424%2C%20-121.085375%5D%2C%20%5B34.164276%2C%20-118.47278100000001%5D%2C%20%5B36.06362%2C%20-80.31066%5D%2C%20%5B34.040578000000004%2C%20-118.169922%5D%2C%20%5B33.868821000000004%2C%20-117.730125%5D%2C%20%5B42.38964%2C%20-73.82624%5D%2C%20%5B40.509821%2C%20-78.33115600000001%5D%2C%20%5B37.94937%2C%20-109.34633999999998%5D%2C%20%5B33.642590000000006%2C%20-117.86007%5D%2C%20%5B41.551634%2C%20-73.035453%5D%2C%20%5B37.701355%2C%20-121.76998200000001%5D%2C%20%5B41.298390000000005%2C%20-73.936153%5D%2C%20%5B34.066532%2C%20-117.464922%5D%2C%20%5B37.57598%2C%20-121.88112%5D%2C%20%5B33.69892%2C%20-84.274073%5D%2C%20%5B36.025163%2C%20-78.833219%5D%2C%20%5B30.315728999999997%2C%20-81.740961%5D%2C%20%5B41.8424%2C%20-87.63065%5D%2C%20%5B44.357141%2C%20-95.917386%5D%2C%20%5B42.25196%2C%20-83.30088%5D%2C%20%5B34.209540999999994%2C%20-117.385249%5D%2C%20%5B40.85024%2C%20-73.94506%5D%2C%20%5B33.931665%2C%20-117.55597%5D%2C%20%5B25.77524%2C%20-80.19976%5D%2C%20%5B38.537039%2C%20-121.514374%5D%2C%20%5B44.803224%2C%20-123.22771200000001%5D%2C%20%5B25.67973%2C%20-80.38875%5D%2C%20%5B28.497120000000002%2C%20-81.430413%5D%2C%20%5B32.75951%2C%20-117.2041%5D%2C%20%5B34.482571%2C%20-82.64014499999999%5D%2C%20%5B35.557583%2C%20-82.596641%5D%2C%20%5B25.669736999999998%2C%20-80.446187%5D%2C%20%5B38.27009%2C%20-85.78232%5D%2C%20%5B42.379940000000005%2C%20-83.14619%5D%2C%20%5B34.064474%2C%20-84.608424%5D%2C%20%5B37.882608000000005%2C%20-122.05167800000001%5D%2C%20%5B40.58549%2C%20-74.19232%5D%2C%20%5B38.865564%2C%20-77.053794%5D%2C%20%5B33.29428%2C%20-117.22193%5D%2C%20%5B40.893146%2C%20-74.01128800000001%5D%2C%20%5B34.030505%2C%20-117.58811200000001%5D%2C%20%5B33.707%2C%20-84.21895%5D%2C%20%5B38.618970000000004%2C%20-90.1867%5D%2C%20%5B39.78014%2C%20-104.95929%5D%2C%20%5B35.22781%2C%20-80.86148%5D%2C%20%5B39.65145%2C%20-75.32798000000001%5D%2C%20%5B37.544129999999996%2C%20-77.39322%5D%2C%20%5B36.964389000000004%2C%20-121.55198200000001%5D%2C%20%5B37.75227%2C%20-121.46728999999999%5D%2C%20%5B33.441340000000004%2C%20-111.86548%5D%2C%20%5B42.4681%2C%20-122.70786000000001%5D%2C%20%5B34.148029%2C%20-118.07861899999999%5D%2C%20%5B37.74657%2C%20-122.2015%5D%2C%20%5B43.461553%2C%20-73.403852%5D%2C%20%5B25.930767000000003%2C%20-80.188369%5D%2C%20%5B33.928259999999995%2C%20-118.28576000000001%5D%2C%20%5B37.559470000000005%2C%20-122.30193%5D%2C%20%5B41.156963%2C%20-112.02444399999999%5D%2C%20%5B36.260651%2C%20-119.118302%5D%2C%20%5B28.195346%2C%20-82.723447%5D%2C%20%5B37.714728%2C%20-121.710007%5D%2C%20%5B40.8136%2C%20-74.01045%5D%2C%20%5B33.89083%2C%20-118.18853%5D%2C%20%5B44.864548%2C%20-123.229104%5D%2C%20%5B33.89391%2C%20-84.25702%5D%2C%20%5B30.391584%2C%20-91.162103%5D%2C%20%5B43.94424%2C%20-92.03671%5D%2C%20%5B35.265817999999996%2C%20-80.881518%5D%2C%20%5B34.027164%2C%20-118.209547%5D%2C%20%5B38.599818%2C%20-121.40140600000001%5D%2C%20%5B41.74693%2C%20-87.62529%5D%2C%20%5B29.694336%2C%20-95.28510899999999%5D%2C%20%5B32.26025%2C%20-80.852515%5D%2C%20%5B45.530371%2C%20-122.637651%5D%2C%20%5B35.04998%2C%20-81.98694300000001%5D%2C%20%5B32.339979%2C%20-90.16005200000001%5D%2C%20%5B38.163422%2C%20-121.150099%5D%2C%20%5B40.068346999999996%2C%20-76.307611%5D%2C%20%5B38.879449%2C%20-77.246792%5D%2C%20%5B42.565822%2C%20-83.0295%5D%2C%20%5B38.63537%2C%20-77.29003%5D%2C%20%5B37.56684%2C%20-77.44436%5D%2C%20%5B37.672659%2C%20-77.448008%5D%2C%20%5B44.00734%2C%20-116.94122%5D%2C%20%5B25.954919%2C%20-80.257145%5D%2C%20%5B38.618588%2C%20-121.26641599999999%5D%2C%20%5B33.688%2C%20-117.90768999999999%5D%2C%20%5B29.73775%2C%20-95.483452%5D%2C%20%5B37.0813%2C%20-94.2434%5D%2C%20%5B40.65405%2C%20-112.0761%5D%2C%20%5B41.18812%2C%20-73.13573000000001%5D%2C%20%5B42.37685%2C%20-83.03948000000001%5D%2C%20%5B36.737184%2C%20-121.28153200000001%5D%2C%20%5B30.481503999999997%2C%20-81.643828%5D%2C%20%5B33.639015%2C%20-117.73025200000001%5D%2C%20%5B40.56227%2C%20-111.9578%5D%2C%20%5B34.036511%2C%20-118.27673600000001%5D%2C%20%5B29.773938%2C%20-95.366749%5D%2C%20%5B34.282096%2C%20-92.95985999999999%5D%2C%20%5B33.7791%2C%20-117.88358999999998%5D%2C%20%5B39.412581%2C%20-105.75833200000001%5D%2C%20%5B34.02548%2C%20-117.11583%5D%2C%20%5B26.404514000000002%2C%20-81.81085%5D%2C%20%5B37.053452%2C%20-121.605193%5D%2C%20%5B40.80842%2C%20-73.94493%5D%2C%20%5B39.802040000000005%2C%20-75.45091%5D%2C%20%5B39.55525%2C%20-104.87041%5D%2C%20%5B35.24541%2C%20-80.89327%5D%2C%20%5B39.015786999999996%2C%20-77.00135999999999%5D%2C%20%5B34.30577%2C%20-118.48217%5D%2C%20%5B40.669144%2C%20-122.880618%5D%2C%20%5B43.173116%2C%20-77.63998000000001%5D%2C%20%5B38.015688%2C%20-121.75146399999998%5D%2C%20%5B36.14711%2C%20-86.74376%5D%2C%20%5B37.36206%2C%20-120.8501%5D%2C%20%5B37.79945%2C%20-122.22143%5D%2C%20%5B34.150153%2C%20-84.514721%5D%2C%20%5B35.202365%2C%20-80.845224%5D%2C%20%5B43.074721000000004%2C%20-75.306612%5D%2C%20%5B46.12533%2C%20-92.88767%5D%2C%20%5B40.90198%2C%20-82.5008%5D%2C%20%5B36.055788%2C%20-120.106628%5D%2C%20%5B25.47733%2C%20-80.462462%5D%2C%20%5B33.859955%2C%20-118.30931799999999%5D%2C%20%5B45.594934%2C%20-94.377025%5D%2C%20%5B28.375185%2C%20-81.412693%5D%2C%20%5B37.50456%2C%20-121.96378999999999%5D%2C%20%5B41.222961%2C%20-111.988681%5D%2C%20%5B39.820036%2C%20-85.836005%5D%2C%20%5B30.547432%2C%20-91.014375%5D%2C%20%5B40.497149%2C%20-79.932695%5D%2C%20%5B33.3859%2C%20-111.87866899999999%5D%2C%20%5B34.02888%2C%20-118.00291000000001%5D%2C%20%5B34.106745000000004%2C%20-117.84636100000002%5D%2C%20%5B31.901683000000002%2C%20-106.41488899999999%5D%2C%20%5B39.099889000000005%2C%20-77.576521%5D%2C%20%5B39.868842%2C%20-75.308643%5D%2C%20%5B27.98723%2C%20-82.3262%5D%2C%20%5B41.95881%2C%20-87.7393%5D%2C%20%5B38.52901%2C%20-121.33496000000001%5D%2C%20%5B33.88469%2C%20-117.52153%5D%2C%20%5B45.20262%2C%20-123.12863%5D%2C%20%5B47.2262%2C%20-122.4629%5D%2C%20%5B37.964690000000004%2C%20-122.32491499999999%5D%2C%20%5B41.76981%2C%20-72.68240300000001%5D%2C%20%5B40.24505%2C%20-74.70045%5D%2C%20%5B46.73473%2C%20-92.09776%5D%2C%20%5B38.549620000000004%2C%20-77.343874%5D%2C%20%5B39.6253%2C%20-106.50705%5D%2C%20%5B34.852402000000005%2C%20-81.412835%5D%2C%20%5B25.941223%2C%20-80.205048%5D%2C%20%5B45.200309999999995%2C%20-122.83261999999999%5D%2C%20%5B35.31259%2C%20-80.75978%5D%2C%20%5B37.7374%2C%20-122.40227%5D%2C%20%5B36.05842%2C%20-80.21048%5D%2C%20%5B47.226209999999995%2C%20-123.12746000000001%5D%2C%20%5B33.581877%2C%20-112.11708999999999%5D%2C%20%5B33.935919%2C%20-117.29047800000001%5D%2C%20%5B25.8444%2C%20-80.20666999999999%5D%2C%20%5B34.208449%2C%20-118.477115%5D%2C%20%5B40.051817%2C%20-74.18735699999999%5D%2C%20%5B42.45304%2C%20-85.65465999999999%5D%2C%20%5B36.81973%2C%20-119.72129%5D%2C%20%5B47.638659999999994%2C%20-122.322624%5D%2C%20%5B28.50935%2C%20-81.40045400000001%5D%2C%20%5B35.803940000000004%2C%20-78.69429000000001%5D%2C%20%5B36.178971999999995%2C%20-86.773668%5D%2C%20%5B29.60095%2C%20-95.21921999999999%5D%2C%20%5B28.55224%2C%20-81.46765%5D%2C%20%5B44.817890000000006%2C%20-95.03636999999999%5D%2C%20%5B32.22787%2C%20-110.94381000000001%5D%2C%20%5B39.011152%2C%20-77.614207%5D%2C%20%5B39.924094000000004%2C%20-86.20115%5D%2C%20%5B38.070596%2C%20-122.53941200000001%5D%2C%20%5B35.99514%2C%20-86.59663%5D%2C%20%5B33.437278000000006%2C%20-111.769227%5D%2C%20%5B40.72827%2C%20-73.97176999999999%5D%2C%20%5B38.3177%2C%20-109.31971000000001%5D%2C%20%5B37.87469%2C%20-121.69845%5D%2C%20%5B42.467393%2C%20-87.97218000000001%5D%2C%20%5B33.74044%2C%20-117.832843%5D%2C%20%5B33.7162%2C%20-84.398391%5D%2C%20%5B42.132989%2C%20-122.633829%5D%2C%20%5B37.740901%2C%20-121.505044%5D%2C%20%5B44.294847%2C%20-92.68498699999999%5D%2C%20%5B41.59726%2C%20-87.58348000000001%5D%2C%20%5B36.990507%2C%20-121.716396%5D%2C%20%5B37.54343%2C%20-122.0203%5D%2C%20%5B36.7149%2C%20-81.93088%5D%2C%20%5B43.516766%2C%20-75.46708199999999%5D%2C%20%5B41.372054%2C%20-72.869664%5D%2C%20%5B33.728159999999995%2C%20-117.80793100000001%5D%2C%20%5B33.903419%2C%20-117.647433%5D%2C%20%5B35.06863%2C%20-110.84005%5D%2C%20%5B42.411203%2C%20-123.42201999999999%5D%2C%20%5B38.79329%2C%20-77.02556%5D%2C%20%5B30.34265%2C%20-91.72202%5D%2C%20%5B39.82443%2C%20-75.42058%5D%2C%20%5B30.349595%2C%20-97.530002%5D%2C%20%5B27.981633000000002%2C%20-82.309797%5D%2C%20%5B34.06375%2C%20-117.27386000000001%5D%2C%20%5B32.825828%2C%20-97.20534599999999%5D%2C%20%5B45.5423%2C%20-122.67331000000001%5D%2C%20%5B34.154748%2C%20-118.316418%5D%2C%20%5B29.529017%2C%20-98.560317%5D%2C%20%5B42.295075%2C%20-121.8171%5D%2C%20%5B34.066720000000004%2C%20-117.44823000000001%5D%2C%20%5B38.91019%2C%20-76.84988%5D%2C%20%5B35.22506%2C%20-80.86522%5D%2C%20%5B29.739643%2C%20-95.353988%5D%2C%20%5B35.89678%2C%20-84.7043%5D%2C%20%5B41.89739%2C%20-87.65938%5D%2C%20%5B36.140859999999996%2C%20-86.69995%5D%2C%20%5B45.602909999999994%2C%20-94.45674%5D%2C%20%5B39.21103%2C%20-76.68217%5D%2C%20%5B33.890806%2C%20-118.361313%5D%2C%20%5B40.431157%2C%20-76.49927199999999%5D%2C%20%5B31.67465%2C%20-106.33601000000002%5D%2C%20%5B37.736463%2C%20-121.11717800000001%5D%2C%20%5B40.80922%2C%20-73.212558%5D%2C%20%5B33.548259%2C%20-117.141901%5D%2C%20%5B39.60031%2C%20-87.49861899999999%5D%2C%20%5B38.003695%2C%20-122.036666%5D%2C%20%5B40.757117%2C%20-73.955349%5D%2C%20%5B38.92575%2C%20-104.71494%5D%2C%20%5B47.465396000000005%2C%20-122.80819699999999%5D%2C%20%5B39.664266%2C%20-121.742075%5D%2C%20%5B34.489336%2C%20-118.137254%5D%2C%20%5B33.40671%2C%20-111.97008000000001%5D%2C%20%5B32.808937%2C%20-97.210438%5D%2C%20%5B45.41469%2C%20-122.56111999999999%5D%2C%20%5B41.871805%2C%20-87.785792%5D%2C%20%5B25.904649%2C%20-80.24203299999999%5D%2C%20%5B30.457524%2C%20-84.276477%5D%2C%20%5B30.803397999999998%2C%20-85.005758%5D%2C%20%5B44.951209999999996%2C%20-93.02402%5D%2C%20%5B34.257667%2C%20-80.72461700000001%5D%2C%20%5B35.60895%2C%20-97.58853%5D%2C%20%5B34.109%2C%20-117.30248%5D%2C%20%5B37.002994%2C%20-121.55655%5D%2C%20%5B34.160796000000005%2C%20-118.2928%5D%2C%20%5B34.153381%2C%20-118.338696%5D%2C%20%5B34.218868%2C%20-118.240004%5D%2C%20%5B33.83242%2C%20-118.20898999999999%5D%2C%20%5B35.27299%2C%20-80.837%5D%2C%20%5B41.15641%2C%20-112.0246%5D%2C%20%5B40.068286%2C%20-74.96419%5D%2C%20%5B46.110036%2C%20-123.922059%5D%2C%20%5B40.999901%2C%20-78.346235%5D%2C%20%5B28.49367%2C%20-81.43408000000001%5D%2C%20%5B33.614681%2C%20-117.707783%5D%2C%20%5B25.695959%2C%20-80.29985500000001%5D%2C%20%5B37.606998%2C%20-121.03041%5D%2C%20%5B37.691012%2C%20-122.07106200000001%5D%2C%20%5B47.241040000000005%2C%20-122.35458999999999%5D%2C%20%5B37.543048999999996%2C%20-77.53848%5D%2C%20%5B39.14744%2C%20-84.53922%5D%2C%20%5B35.27148%2C%20-80.83705%5D%2C%20%5B33.934036%2C%20-117.407955%5D%2C%20%5B27.9934%2C%20-82.45385%5D%2C%20%5B36.593544%2C%20-121.87638899999999%5D%2C%20%5B47.91553%2C%20-122.20641%5D%2C%20%5B40.04381%2C%20-75.00289000000001%5D%2C%20%5B45.37542%2C%20-122.75555%5D%2C%20%5B39.639188%2C%20-75.791106%5D%2C%20%5B31.728463%2C%20-106.31289299999999%5D%2C%20%5B30.19114%2C%20-81.69181999999999%5D%2C%20%5B34.0368%2C%20-118.377555%5D%2C%20%5B47.45797%2C%20-122.07963000000001%5D%2C%20%5B39.282109999999996%2C%20-84.56821%5D%2C%20%5B33.7135%2C%20-84.23979%5D%2C%20%5B27.485870000000002%2C%20-82.46981%5D%2C%20%5B35.029459%2C%20-85.287886%5D%2C%20%5B40.73624%2C%20-73.28676999999999%5D%2C%20%5B33.979440000000004%2C%20-118.28062%5D%2C%20%5B32.899491999999995%2C%20-96.898115%5D%2C%20%5B25.631324%2C%20-80.339846%5D%2C%20%5B40.954346%2C%20-81.285482%5D%2C%20%5B29.168477000000003%2C%20-81.642674%5D%2C%20%5B39.50978%2C%20-77.12774%5D%2C%20%5B34.06673%2C%20-117.23503000000001%5D%2C%20%5B34.156768%2C%20-118.37919199999999%5D%2C%20%5B39.931711%2C%20-76.726177%5D%2C%20%5B37.78617%2C%20-122.194921%5D%2C%20%5B38.07882%2C%20-75.57644%5D%2C%20%5B36.771840000000005%2C%20-78.25854%5D%2C%20%5B37.404070000000004%2C%20-122.02207%5D%2C%20%5B40.56188%2C%20-111.9772%5D%2C%20%5B36.07931%2C%20-115.18064%5D%2C%20%5B40.291866%2C%20-78.455198%5D%2C%20%5B42.16729%2C%20-87.84576%5D%2C%20%5B39.063659%2C%20-76.645852%5D%2C%20%5B45.463571%2C%20-122.56915900000001%5D%2C%20%5B43.36481%2C%20-123.32902%5D%2C%20%5B39.302269%2C%20-110.35761200000002%5D%2C%20%5B41.268229999999996%2C%20-81.61796%5D%2C%20%5B26.330538%2C%20-81.807037%5D%2C%20%5B42.781574%2C%20-73.758864%5D%2C%20%5B35.1839%2C%20-80.76092%5D%2C%20%5B45.452831%2C%20-122.57314299999999%5D%2C%20%5B35.197942%2C%20-80.84743%5D%2C%20%5B41.507064%2C%20-87.814373%5D%2C%20%5B39.77012%2C%20-104.99179%5D%2C%20%5B27.322273%2C%20-82.529724%5D%2C%20%5B39.835262%2C%20-75.42163000000001%5D%2C%20%5B37.967902%2C%20-86.906801%5D%2C%20%5B45.049663%2C%20-122.95268899999999%5D%2C%20%5B33.955551%2C%20-118.17050800000001%5D%2C%20%5B45.49754%2C%20-122.56556%5D%2C%20%5B34.007020000000004%2C%20-118.06047%5D%2C%20%5B44.81162%2C%20-124.06231000000001%5D%2C%20%5B37.364276000000004%2C%20-77.34399599999999%5D%2C%20%5B39.017753000000006%2C%20-104.83004100000001%5D%2C%20%5B33.988336%2C%20-117.90566899999999%5D%2C%20%5B42.55912%2C%20-83.14924%5D%2C%20%5B33.842055%2C%20-118.286795%5D%2C%20%5B32.9069%2C%20-96.72828%5D%2C%20%5B29.748540999999996%2C%20-95.372883%5D%2C%20%5B44.939934%2C%20-123.24933500000002%5D%2C%20%5B44.95295%2C%20-93.18248%5D%2C%20%5B44.980934000000005%2C%20-93.348115%5D%2C%20%5B34.05721%2C%20-117.29796%5D%2C%20%5B34.02918%2C%20-118.39639%5D%2C%20%5B33.521555%2C%20-84.957326%5D%2C%20%5B34.87885%2C%20-81.965638%5D%2C%20%5B34.083374%2C%20-117.69465100000001%5D%2C%20%5B37.50507%2C%20-77.61169%5D%2C%20%5B43.080364%2C%20-75.293029%5D%2C%20%5B34.7463%2C%20-81.08542%5D%2C%20%5B38.232403999999995%2C%20-104.613694%5D%2C%20%5B40.298395%2C%20-75.28415600000001%5D%2C%20%5B25.728742999999998%2C%20-80.430194%5D%2C%20%5B29.783490000000004%2C%20-95.47476%5D%2C%20%5B37.50679%2C%20-122.117112%5D%2C%20%5B39.404643%2C%20-76.572722%5D%2C%20%5B41.84799%2C%20-87.61623%5D%2C%20%5B37.07927%2C%20-113.58482%5D%2C%20%5B33.553898%2C%20-110.67926899999999%5D%2C%20%5B33.564378999999995%2C%20-112.096924%5D%2C%20%5B41.43675%2C%20-81.49905%5D%2C%20%5B37.43201%2C%20-122.10516000000001%5D%2C%20%5B39.845749%2C%20-104.984976%5D%2C%20%5B41.977049%2C%20-73.98908%5D%2C%20%5B32.698376%2C%20-117.120949%5D%2C%20%5B43.604296999999995%2C%20-116.513195%5D%2C%20%5B34.093583%2C%20-118.30919499999999%5D%2C%20%5B33.685959000000004%2C%20-117.86391299999998%5D%2C%20%5B35.419525%2C%20-119.039179%5D%2C%20%5B38.710172%2C%20-77.221968%5D%2C%20%5B36.30052%2C%20-86.71106%5D%2C%20%5B40.474709999999995%2C%20-74.4077%5D%2C%20%5B34.072896%2C%20-117.78748200000001%5D%2C%20%5B45.30403%2C%20-84.955984%5D%2C%20%5B40.261518%2C%20-76.433233%5D%2C%20%5B42.3839%2C%20-83.31938000000001%5D%2C%20%5B33.809642%2C%20-118.288886%5D%2C%20%5B37.688026%2C%20-122.105782%5D%2C%20%5B41.672889%2C%20-72.845865%5D%2C%20%5B36.00058%2C%20-79.79717%5D%2C%20%5B26.614239%2C%20-81.655301%5D%2C%20%5B47.83713%2C%20-122.12426%5D%2C%20%5B35.64261%2C%20-78.83904%5D%2C%20%5B36.07266%2C%20-79.76635999999999%5D%2C%20%5B34.37485%2C%20-118.49663000000001%5D%2C%20%5B38.866034%2C%20-76.99155400000001%5D%2C%20%5B33.236303%2C%20-117.407716%5D%2C%20%5B34.074221%2C%20-117.617625%5D%2C%20%5B25.882806%2C%20-80.24524699999999%5D%2C%20%5B28.36338%2C%20-80.79711999999999%5D%2C%20%5B33.669540000000005%2C%20-112.14013999999999%5D%2C%20%5B34.0721%2C%20-117.8934%5D%2C%20%5B34.266044%2C%20-118.46713999999999%5D%2C%20%5B28.2494%2C%20-81.62742%5D%2C%20%5B38.53868%2C%20-121.51268999999999%5D%2C%20%5B32.90896%2C%20-96.95170999999999%5D%2C%20%5B34.01246%2C%20-118.49051999999999%5D%2C%20%5B33.551688%2C%20-117.672969%5D%2C%20%5B42.363751%2C%20-87.833998%5D%2C%20%5B38.452636%2C%20-121.384674%5D%2C%20%5B43.01885%2C%20-85.63790999999999%5D%2C%20%5B33.149689%2C%20-117.19758799999998%5D%2C%20%5B44.94842%2C%20-92.9094%5D%2C%20%5B33.9512%2C%20-80.98607%5D%2C%20%5B43.43278%2C%20-123.31585%5D%2C%20%5B37.470313%2C%20-122.201136%5D%2C%20%5B33.07192%2C%20-96.75015%5D%2C%20%5B33.23355%2C%20-80.44967%5D%2C%20%5B36.126407%2C%20-86.849228%5D%2C%20%5B36.0352%2C%20-79.794%5D%2C%20%5B45.032004%2C%20-93.45265699999999%5D%2C%20%5B37.34434%2C%20-121.84539%5D%2C%20%5B34.962701%2C%20-90.00416700000001%5D%2C%20%5B32.81759%2C%20-96.86856999999999%5D%2C%20%5B37.711249%2C%20-122.12677%5D%2C%20%5B44.75561%2C%20-122.46921299999998%5D%2C%20%5B34.004348%2C%20-117.72681999999999%5D%2C%20%5B40.31005%2C%20-76.893514%5D%2C%20%5B30.27182%2C%20-97.73285%5D%2C%20%5B38.496583%2C%20-121.260875%5D%2C%20%5B40.124308%2C%20-78.579746%5D%2C%20%5B38.803683%2C%20-76.987045%5D%2C%20%5B30.533012%2C%20-87.262415%5D%2C%20%5B40.16729%2C%20-74.10045%5D%2C%20%5B33.885709000000006%2C%20-118.19011299999998%5D%2C%20%5B45.50938%2C%20-123.09938999999999%5D%2C%20%5B36.981932%2C%20-120.12851%5D%2C%20%5B33.79977%2C%20-117.89895%5D%2C%20%5B44.96581%2C%20-93.26569%5D%2C%20%5B29.939729999999997%2C%20-90.06826%5D%2C%20%5B39.82164%2C%20-104.98251%5D%2C%20%5B37.39246%2C%20-122.05015%5D%2C%20%5B40.76515%2C%20-111.99151%5D%2C%20%5B32.874679%2C%20-117.198881%5D%2C%20%5B45.410353%2C%20-122.486147%5D%2C%20%5B46.74687%2C%20-95.14616%5D%2C%20%5B29.778883%2C%20-82.510849%5D%2C%20%5B29.842901%2C%20-100.112318%5D%2C%20%5B34.168199%2C%20-118.301585%5D%2C%20%5B38.695406%2C%20-120.810172%5D%2C%20%5B42.4917%2C%20-83.50695999999999%5D%2C%20%5B42.9878%2C%20-87.88779%5D%2C%20%5B42.52413%2C%20-88.97546%5D%2C%20%5B26.68739%2C%20-80.16073%5D%2C%20%5B35.275890000000004%2C%20-119.00313200000001%5D%2C%20%5B25.642257999999998%2C%20-80.334766%5D%2C%20%5B34.78355%2C%20-82.02377%5D%2C%20%5B40.741972%2C%20-77.22323%5D%2C%20%5B29.881802%2C%20-95.437925%5D%2C%20%5B41.512765%2C%20-93.679836%5D%2C%20%5B41.47401%2C%20-81.86171%5D%2C%20%5B35.183640000000004%2C%20-111.70418799999999%5D%2C%20%5B45.57833%2C%20-118.62406000000001%5D%2C%20%5B37.30875%2C%20-77.39608%5D%2C%20%5B25.624829000000002%2C%20-80.414419%5D%2C%20%5B42.80283%2C%20-71.05228000000001%5D%2C%20%5B34.973784%2C%20-92.417861%5D%2C%20%5B33.866577%2C%20-117.76481299999999%5D%2C%20%5B45.52274%2C%20-122.57907%5D%2C%20%5B39.10115%2C%20-84.52553%5D%2C%20%5B34.06487%2C%20-117.31518%5D%2C%20%5B35.8499%2C%20-78.5801%5D%2C%20%5B47.123486%2C%20-122.434849%5D%2C%20%5B38.676237%2C%20-121.728426%5D%2C%20%5B33.41073%2C%20-112.00133999999998%5D%2C%20%5B26.79958%2C%20-80.13712%5D%2C%20%5B33.88178%2C%20-117.51411999999999%5D%2C%20%5B45.06698%2C%20-93.18649599999999%5D%2C%20%5B27.037515999999997%2C%20-82.296929%5D%2C%20%5B32.276641%2C%20-90.17823800000001%5D%2C%20%5B35.087779%2C%20-80.845084%5D%2C%20%5B42.713781%2C%20-123.36666899999999%5D%2C%20%5B44.590247%2C%20-123.06213000000001%5D%2C%20%5B38.660557%2C%20-80.735401%5D%2C%20%5B32.350970000000004%2C%20-90.1531%5D%2C%20%5B47.306675%2C%20-122.249623%5D%2C%20%5B47.527217%2C%20-95.449093%5D%2C%20%5B33.868990000000004%2C%20-117.7538%5D%2C%20%5B42.15995%2C%20-87.87441%5D%2C%20%5B33.83041%2C%20-118.20886000000002%5D%2C%20%5B44.059179%2C%20-93.24369200000001%5D%2C%20%5B37.57284%2C%20-77.47659%5D%2C%20%5B38.54247%2C%20-122.8051%5D%2C%20%5B40.88517%2C%20-74.06735%5D%2C%20%5B38.5114%2C%20-78.06089%5D%2C%20%5B32.724517999999996%2C%20-117.105074%5D%2C%20%5B33.782321%2C%20-117.490459%5D%2C%20%5B33.710871000000004%2C%20-117.78158%5D%2C%20%5B32.837821000000005%2C%20-97.050394%5D%2C%20%5B42.97929%2C%20-76.56143%5D%2C%20%5B38.43195%2C%20-121.48879699999999%5D%2C%20%5B34.1211%2C%20-118.47972%5D%2C%20%5B42.354709%2C%20-83.43628199999999%5D%2C%20%5B30.42847%2C%20-91.17134200000001%5D%2C%20%5B32.78096%2C%20-117.084056%5D%2C%20%5B34.035131%2C%20-118.333579%5D%2C%20%5B40.63043%2C%20-111.87786000000001%5D%2C%20%5B41.755289000000005%2C%20-87.959117%5D%2C%20%5B36.157953000000006%2C%20-115.16017%5D%2C%20%5B27.157805%2C%20-80.302274%5D%2C%20%5B33.976582%2C%20-117.371674%5D%2C%20%5B40.509593%2C%20-121.956272%5D%2C%20%5B40.024218%2C%20-111.95828%5D%2C%20%5B37.843678000000004%2C%20-122.22633300000001%5D%2C%20%5B41.83483%2C%20-87.63033%5D%2C%20%5B36.296240000000004%2C%20-84.21576999999999%5D%2C%20%5B38.772071000000004%2C%20-77.182055%5D%2C%20%5B41.57415%2C%20-72.72072%5D%2C%20%5B33.884554%2C%20-117.553284%5D%2C%20%5B38.844269%2C%20-77.007289%5D%2C%20%5B41.10203%2C%20-73.43456%5D%2C%20%5B25.628807000000002%2C%20-80.345152%5D%2C%20%5B34.25315%2C%20-118.43111%5D%2C%20%5B38.553882%2C%20-121.40911100000001%5D%2C%20%5B40.159116%2C%20-75.075108%5D%2C%20%5B37.538052%2C%20-77.427998%5D%2C%20%5B43.21226%2C%20-123.35486000000002%5D%2C%20%5B44.24765%2C%20-121.012298%5D%2C%20%5B28.663854999999998%2C%20-82.146266%5D%2C%20%5B40.648769%2C%20-74.013351%5D%2C%20%5B40.58919%2C%20-75.589878%5D%2C%20%5B28.798973999999998%2C%20-81.323922%5D%2C%20%5B45.007690999999994%2C%20-93.28243%5D%2C%20%5B40.097527%2C%20-86.904095%5D%2C%20%5B39.11351%2C%20-94.56479%5D%2C%20%5B38.79831%2C%20-90.5969%5D%2C%20%5B27.893812%2C%20-82.689998%5D%2C%20%5B35.22433%2C%20-80.89058%5D%2C%20%5B32.199638%2C%20-110.956135%5D%2C%20%5B26.199054999999998%2C%20-80.148535%5D%2C%20%5B36.167318%2C%20-119.816001%5D%2C%20%5B33.67009%2C%20-111.96503999999999%5D%2C%20%5B25.946873999999998%2C%20-80.205431%5D%2C%20%5B33.916971999999994%2C%20-118.37020700000001%5D%2C%20%5B25.886454999999998%2C%20-80.21079499999999%5D%2C%20%5B41.73141%2C%20-72.66235%5D%2C%20%5B40.244792%2C%20-103.470894%5D%2C%20%5B34.033724%2C%20-118.43673700000001%5D%2C%20%5B48.040409999999994%2C%20-122.17907%5D%2C%20%5B39.69648%2C%20-104.86599%5D%2C%20%5B33.964459999999995%2C%20-117.32558999999999%5D%2C%20%5B26.094357000000002%2C%20-80.16888900000001%5D%2C%20%5B34.119039%2C%20-118.162453%5D%2C%20%5B40.433323%2C%20-74.248584%5D%2C%20%5B47.467690000000005%2C%20-122.21789%5D%2C%20%5B33.982358000000005%2C%20-118.286454%5D%2C%20%5B25.85816%2C%20-80.208%5D%2C%20%5B32.71716%2C%20-117.11801000000001%5D%2C%20%5B36.309977%2C%20-86.826486%5D%2C%20%5B37.40752%2C%20-122.06628%5D%2C%20%5B40.836490000000005%2C%20-73.87673000000001%5D%2C%20%5B47.49419%2C%20-111.27318999999999%5D%2C%20%5B27.802329999999998%2C%20-82.66243100000001%5D%2C%20%5B44.86222%2C%20-93.44275%5D%2C%20%5B43.88828%2C%20-121.382%5D%2C%20%5B38.496213%2C%20-121.459502%5D%2C%20%5B41.08785%2C%20-73.45718000000001%5D%2C%20%5B34.067838%2C%20-117.403173%5D%2C%20%5B40.392409%2C%20-78.43596%5D%2C%20%5B40.297143%2C%20-111.72698899999999%5D%2C%20%5B36.988001000000004%2C%20-121.973352%5D%2C%20%5B32.93059%2C%20-117.11326000000001%5D%2C%20%5B40.991353000000004%2C%20-124.100501%5D%2C%20%5B27.394012%2C%20-82.450541%5D%2C%20%5B45.94918%2C%20-123.56383999999998%5D%2C%20%5B34.14793%2C%20-118.031572%5D%2C%20%5B37.52466%2C%20-121.99233000000001%5D%2C%20%5B28.187627000000003%2C%20-82.592225%5D%2C%20%5B41.86745%2C%20-87.62038000000001%5D%2C%20%5B44.71289%2C%20-123.05438000000001%5D%2C%20%5B40.210653%2C%20-79.195097%5D%2C%20%5B40.79775%2C%20-73.91994%5D%2C%20%5B30.429157%2C%20-91.06089899999999%5D%2C%20%5B37.987471%2C%20-121.268924%5D%2C%20%5B38.5654%2C%20-121.4699%5D%2C%20%5B32.07042%2C%20-81.20685999999999%5D%2C%20%5B33.71134%2C%20-84.21434%5D%2C%20%5B40.479838%2C%20-74.4036%5D%2C%20%5B33.808505%2C%20-118.08159599999999%5D%2C%20%5B41.41851%2C%20-81.81794000000001%5D%2C%20%5B38.52271%2C%20-121.52181000000002%5D%2C%20%5B41.681603%2C%20-93.091696%5D%2C%20%5B34.392394%2C%20-118.47247800000001%5D%2C%20%5B42.52236%2C%20-83.72006999999999%5D%2C%20%5B32.7278%2C%20-117.10495%5D%2C%20%5B38.79361%2C%20-77.04767%5D%2C%20%5B47.289970000000004%2C%20-122.30676000000001%5D%2C%20%5B34.0723%2C%20-118.05543999999999%5D%2C%20%5B37.563859%2C%20-121.140533%5D%2C%20%5B25.940521%2C%20-80.257954%5D%2C%20%5B33.901609%2C%20-117.46739699999999%5D%2C%20%5B40.453664%2C%20-111.913549%5D%2C%20%5B39.760878999999996%2C%20-84.147777%5D%2C%20%5B40.85687%2C%20-73.91756%5D%2C%20%5B32.22094%2C%20-110.8411%5D%2C%20%5B43.105801%2C%20-77.748871%5D%2C%20%5B40.846940000000004%2C%20-73.925842%5D%2C%20%5B38.120461%2C%20-85.631638%5D%2C%20%5B39.200449%2C%20-121.05944699999999%5D%2C%20%5B38.583040000000004%2C%20-77.76769%5D%2C%20%5B33.344062%2C%20-84.492411%5D%2C%20%5B25.920579999999998%2C%20-80.21030999999999%5D%2C%20%5B29.962495%2C%20-90.101011%5D%2C%20%5B39.1762%2C%20-119.74146%5D%2C%20%5B43.199653999999995%2C%20-115.797614%5D%2C%20%5B33.967216%2C%20-118.083477%5D%2C%20%5B29.957624%2C%20-90.067945%5D%2C%20%5B34.06882%2C%20-117.35705%5D%2C%20%5B33.8263%2C%20-117.92613999999999%5D%2C%20%5B28.974338%2C%20-81.979641%5D%2C%20%5B42.362846000000005%2C%20-74.49375500000001%5D%2C%20%5B37.73174%2C%20-122.40433999999999%5D%2C%20%5B33.937692999999996%2C%20-118.097652%5D%2C%20%5B38.5508%2C%20-106.28663999999999%5D%2C%20%5B40.716640000000005%2C%20-74.21670999999999%5D%2C%20%5B37.35405%2C%20-77.49429%5D%2C%20%5B37.408038%2C%20-77.65622900000001%5D%2C%20%5B30.457109999999997%2C%20-81.63499%5D%2C%20%5B25.763197%2C%20-80.300493%5D%2C%20%5B38.5424%2C%20-122.80531%5D%2C%20%5B37.648759999999996%2C%20-122.09683999999999%5D%2C%20%5B36.11705%2C%20-86.66797%5D%2C%20%5B37.624389%2C%20-77.368932%5D%2C%20%5B33.88009%2C%20-117.60773999999999%5D%2C%20%5B41.392627000000005%2C%20-72.864071%5D%2C%20%5B35.7355%2C%20-78.650336%5D%2C%20%5B41.865970000000004%2C%20-87.64442%5D%2C%20%5B41.843070000000004%2C%20-87.99070999999999%5D%2C%20%5B45.66162%2C%20-118.8072%5D%2C%20%5B33.827666%2C%20-84.614628%5D%2C%20%5B45.9771%2C%20-94.53538%5D%2C%20%5B37.506121%2C%20-122.118103%5D%2C%20%5B39.133396999999995%2C%20-94.67640899999999%5D%2C%20%5B40.09961%2C%20-82.91934%5D%2C%20%5B28.635594%2C%20-81.3877%5D%2C%20%5B41.06755%2C%20-81.57421%5D%2C%20%5B33.763472%2C%20-117.865201%5D%2C%20%5B34.05138%2C%20-117.160945%5D%2C%20%5B37.826944%2C%20-122.297521%5D%2C%20%5B44.980934000000005%2C%20-93.348115%5D%2C%20%5B37.474224%2C%20-122.220569%5D%2C%20%5B32.027640000000005%2C%20-81.10602%5D%2C%20%5B41.79056%2C%20-72.656072%5D%2C%20%5B48.044081%2C%20-122.181326%5D%2C%20%5B28.091708%2C%20-82.454463%5D%2C%20%5B38.854904%2C%20-94.67712%5D%2C%20%5B37.552888%2C%20-77.48675300000001%5D%2C%20%5B35.36911%2C%20-80.84096%5D%2C%20%5B38.154087%2C%20-120.05836299999999%5D%2C%20%5B37.861888%2C%20-122.21026100000002%5D%2C%20%5B35.05457%2C%20-80.85014%5D%2C%20%5B29.81405%2C%20-95.36061%5D%2C%20%5B37.638487%2C%20-120.798851%5D%2C%20%5B33.701235%2C%20-117.704706%5D%2C%20%5B39.178647%2C%20-119.74277%5D%2C%20%5B35.254368%2C%20-120.676243%5D%2C%20%5B36.802219%2C%20-76.37214499999999%5D%2C%20%5B41.22636%2C%20-95.95236%5D%2C%20%5B37.633061%2C%20-79.438837%5D%2C%20%5B41.559059999999995%2C%20-87.74333%5D%2C%20%5B37.5454%2C%20-122.36997%5D%2C%20%5B45.43775%2C%20-122.76539%5D%2C%20%5B27.95593%2C%20-82.46595%5D%2C%20%5B37.780628%2C%20-79.400464%5D%2C%20%5B33.915797%2C%20-118.189274%5D%2C%20%5B45.088351%2C%20-123.9692%5D%2C%20%5B33.490559999999995%2C%20-111.95211%5D%2C%20%5B28.523128000000003%2C%20-82.303138%5D%2C%20%5B34.235333000000004%2C%20-119.17619499999999%5D%2C%20%5B42.48109%2C%20-83.11304%5D%2C%20%5B40.12741%2C%20-79.073167%5D%2C%20%5B33.13796%2C%20-117.158533%5D%2C%20%5B34.146679999999996%2C%20-118.16107%5D%2C%20%5B43.988294%2C%20-93.254868%5D%2C%20%5B34.276403%2C%20-118.385951%5D%2C%20%5B43.681619%2C%20-92.32746800000001%5D%2C%20%5B33.936091999999995%2C%20-81.300596%5D%2C%20%5B43.604487%2C%20-116.601496%5D%2C%20%5B35.15189%2C%20-80.79737%5D%2C%20%5B45.26368%2C%20-93.55570999999999%5D%2C%20%5B42.896516999999996%2C%20-71.360738%5D%2C%20%5B37.75707%2C%20-77.45869%5D%2C%20%5B29.787483%2C%20-95.305275%5D%2C%20%5B25.823879%2C%20-80.24225799999999%5D%2C%20%5B34.28755%2C%20-118.40713000000001%5D%2C%20%5B40.17618%2C%20-111.64676999999999%5D%2C%20%5B33.714083%2C%20-84.236961%5D%2C%20%5B28.439162%2C%20-81.47507%5D%2C%20%5B45.05387%2C%20-93.05797%5D%2C%20%5B29.638034%2C%20-98.215531%5D%2C%20%5B40.702009999999994%2C%20-73.86716%5D%2C%20%5B25.62705%2C%20-80.39022299999999%5D%2C%20%5B30.445708000000003%2C%20-81.608154%5D%2C%20%5B33.836953%2C%20-117.31186299999999%5D%2C%20%5B42.883070000000004%2C%20-84.22176%5D%2C%20%5B47.61455%2C%20-122.32959%5D%2C%20%5B29.593935%2C%20-95.203638%5D%2C%20%5B37.38754%2C%20-121.98358%5D%2C%20%5B40.900459000000005%2C%20-77.15262299999999%5D%2C%20%5B41.630390000000006%2C%20-72.68630999999999%5D%2C%20%5B32.37785%2C%20-86.32202%5D%2C%20%5B37.989215%2C%20-122.31263500000001%5D%2C%20%5B43.239753%2C%20-77.679278%5D%2C%20%5B41.99458%2C%20-88.20711%5D%2C%20%5B37.037224%2C%20-77.08735899999999%5D%2C%20%5B33.868821000000004%2C%20-117.730125%5D%2C%20%5B34.80768%2C%20-78.987847%5D%2C%20%5B33.952721999999994%2C%20-118.36916299999999%5D%2C%20%5B34.060632%2C%20-118.214395%5D%2C%20%5B35.898503000000005%2C%20-78.761361%5D%2C%20%5B39.2147%2C%20-78.13691%5D%2C%20%5B41.55065%2C%20-87.812026%5D%2C%20%5B45.49558%2C%20-119.76666000000002%5D%2C%20%5B33.513779%2C%20-117.58305%5D%2C%20%5B42.00786%2C%20-87.78518000000001%5D%2C%20%5B40.727445%2C%20-73.929406%5D%2C%20%5B38.55471%2C%20-121.40438%5D%2C%20%5B29.94933%2C%20-95.29182%5D%2C%20%5B33.66283%2C%20-117.78948000000001%5D%2C%20%5B41.9507%2C%20-74.0234%5D%2C%20%5B30.590612%2C%20-84.22171%5D%2C%20%5B30.548111%2C%20-84.271843%5D%2C%20%5B33.422981%2C%20-112.238629%5D%2C%20%5B34.027326%2C%20-118.03758700000002%5D%2C%20%5B27.2988%2C%20-82.49757%5D%2C%20%5B42.698031%2C%20-73.843413%5D%2C%20%5B44.405055%2C%20-123.94391399999999%5D%2C%20%5B30.494422999999998%2C%20-87.233028%5D%2C%20%5B32.77895%2C%20-117.11261999999999%5D%2C%20%5B39.552743%2C%20-76.09535100000001%5D%2C%20%5B30.27849%2C%20-97.73%5D%2C%20%5B38.81596%2C%20-90.95061%5D%2C%20%5B45.711246%2C%20-111.06163799999999%5D%2C%20%5B45.020902%2C%20-93.34868%5D%2C%20%5B37.753182%2C%20-121.35190800000001%5D%2C%20%5B39.4478%2C%20-76.3012%5D%2C%20%5B41.71448%2C%20-87.6468%5D%2C%20%5B34.2356%2C%20-118.41231%5D%2C%20%5B33.129926%2C%20-97.039417%5D%2C%20%5B40.23172%2C%20-75.63457%5D%2C%20%5B39.2011%2C%20-84.57982%5D%2C%20%5B30.318704999999998%2C%20-97.730887%5D%2C%20%5B36.79743%2C%20-121.616303%5D%2C%20%5B41.78658%2C%20-88.05986999999999%5D%2C%20%5B31.764753999999996%2C%20-106.365159%5D%2C%20%5B28.04087%2C%20-80.66075%5D%2C%20%5B33.166326%2C%20-80.618464%5D%2C%20%5B40.851603999999995%2C%20-73.952048%5D%2C%20%5B33.92845%2C%20-118.24418%5D%2C%20%5B44.701555%2C%20-93.28636%5D%2C%20%5B37.448153999999995%2C%20-77.423175%5D%2C%20%5B43.029090000000004%2C%20-88.04705%5D%2C%20%5B39.047546000000004%2C%20-121.09411000000001%5D%2C%20%5B39.01535%2C%20-94.49709%5D%2C%20%5B32.660247%2C%20-96.89156899999999%5D%2C%20%5B33.960152%2C%20-118.239677%5D%2C%20%5B38.843340000000005%2C%20-76.93077%5D%2C%20%5B36.571873%2C%20-121.52069499999999%5D%2C%20%5B28.55578%2C%20-80.8517%5D%2C%20%5B39.43781%2C%20-76.81940999999999%5D%2C%20%5B42.162156%2C%20-73.866326%5D%2C%20%5B42.28009%2C%20-87.92489%5D%2C%20%5B28.007179999999998%2C%20-82.29778%5D%2C%20%5B36.122735%2C%20-86.727436%5D%2C%20%5B46.01108%2C%20-92.91069%5D%2C%20%5B33.777519%2C%20-117.85814099999999%5D%2C%20%5B29.832490000000004%2C%20-95.469137%5D%2C%20%5B44.420996%2C%20-121.866307%5D%2C%20%5B44.936561%2C%20-92.960706%5D%5D%2C%0A%20%20%20%20%20%20%20%20%20%20%20%20%20%20%20%20%7B%0A%20%20%20%20%20%20%20%20%20%20%20%20%20%20%20%20%20%20%20%20minOpacity%3A%200.5%2C%0A%20%20%20%20%20%20%20%20%20%20%20%20%20%20%20%20%20%20%20%20maxZoom%3A%2018%2C%0A%20%20%20%20%20%20%20%20%20%20%20%20%20%20%20%20%20%20%20%20max%3A%201.0%2C%0A%20%20%20%20%20%20%20%20%20%20%20%20%20%20%20%20%20%20%20%20radius%3A%2025%2C%0A%20%20%20%20%20%20%20%20%20%20%20%20%20%20%20%20%20%20%20%20blur%3A%2015%2C%0A%20%20%20%20%20%20%20%20%20%20%20%20%20%20%20%20%20%20%20%20gradient%3A%20null%0A%20%20%20%20%20%20%20%20%20%20%20%20%20%20%20%20%20%20%20%20%7D%29%0A%20%20%20%20%20%20%20%20%20%20%20%20%20%20%20%20.addTo%28map_3a7da235f38e41b3b06e692df3371def%29%3B%0A%20%20%20%20%20%20%20%20%0A%3C/script%3E onload=\"this.contentDocument.open();this.contentDocument.write(    decodeURIComponent(this.getAttribute('data-html')));this.contentDocument.close();\" allowfullscreen webkitallowfullscreen mozallowfullscreen></iframe></div></div>"
            ],
            "text/plain": [
              "<folium.folium.Map at 0x7f0ab5bdc3d0>"
            ]
          },
          "metadata": {},
          "execution_count": 36
        }
      ]
    },
    {
      "cell_type": "code",
      "source": [
        "Start= pd.to_datetime(df.Start_Time)\n",
        "\n",
        "sns.histplot(Start.dt.hour)\n",
        "Start.dt.hour"
      ],
      "metadata": {
        "colab": {
          "base_uri": "https://localhost:8080/",
          "height": 488
        },
        "id": "BkwE-Y4QXMUy",
        "outputId": "a89d77e4-09eb-4083-fe5e-bcb3806f651a"
      },
      "execution_count": null,
      "outputs": [
        {
          "output_type": "execute_result",
          "data": {
            "text/plain": [
              "0           0\n",
              "1           5\n",
              "2           6\n",
              "3           6\n",
              "4           6\n",
              "           ..\n",
              "1516059    18\n",
              "1516060    19\n",
              "1516061    19\n",
              "1516062    19\n",
              "1516063    18\n",
              "Name: Start_Time, Length: 1516064, dtype: int64"
            ]
          },
          "metadata": {},
          "execution_count": 37
        },
        {
          "output_type": "display_data",
          "data": {
            "image/png": "[encoded data removed]",
            "text/plain": [
              "<Figure size 432x288 with 1 Axes>"
            ]
          },
          "metadata": {}
        }
      ]
    },
    {
      "cell_type": "code",
      "source": [
        "sns.distplot(Start.dt.dayofweek)"
      ],
      "metadata": {
        "colab": {
          "base_uri": "https://localhost:8080/",
          "height": 352
        },
        "id": "viHz0yW7XMQ4",
        "outputId": "99d27873-308a-4a4a-a794-40d073a81481"
      },
      "execution_count": null,
      "outputs": [
        {
          "output_type": "stream",
          "name": "stderr",
          "text": [
            "/usr/local/lib/python3.7/dist-packages/seaborn/distributions.py:2619: FutureWarning: `distplot` is a deprecated function and will be removed in a future version. Please adapt your code to use either `displot` (a figure-level function with similar flexibility) or `histplot` (an axes-level function for histograms).\n",
            "  warnings.warn(msg, FutureWarning)\n"
          ]
        },
        {
          "output_type": "execute_result",
          "data": {
            "text/plain": [
              "<matplotlib.axes._subplots.AxesSubplot at 0x7f0ab5954c50>"
            ]
          },
          "metadata": {},
          "execution_count": 38
        },
        {
          "output_type": "display_data",
          "data": {
            "image/png": "[encoded data removed]",
            "text/plain": [
              "<Figure size 432x288 with 1 Axes>"
            ]
          },
          "metadata": {}
        }
      ]
    },
    {
      "cell_type": "code",
      "source": [
        "sns.histplot(Start.dt.hour[Start.dt.dayofweek >= 5])"
      ],
      "metadata": {
        "colab": {
          "base_uri": "https://localhost:8080/",
          "height": 298
        },
        "id": "nm91x_gbXMMw",
        "outputId": "217ba0f0-c768-497a-d9b3-07b2929f115e"
      },
      "execution_count": null,
      "outputs": [
        {
          "output_type": "execute_result",
          "data": {
            "text/plain": [
              "<matplotlib.axes._subplots.AxesSubplot at 0x7f0ab4ffe390>"
            ]
          },
          "metadata": {},
          "execution_count": 39
        },
        {
          "output_type": "display_data",
          "data": {
            "image/png": "[encoded data removed]",
            "text/plain": [
              "<Figure size 432x288 with 1 Axes>"
            ]
          },
          "metadata": {}
        }
      ]
    },
    {
      "cell_type": "code",
      "source": [
        "sns.histplot(Start.dt.month[Start.dt.year == 2019])\n"
      ],
      "metadata": {
        "colab": {
          "base_uri": "https://localhost:8080/",
          "height": 298
        },
        "id": "HHkbj9btYHuh",
        "outputId": "f0a09000-908e-41de-a9d6-8e869cd074f9"
      },
      "execution_count": null,
      "outputs": [
        {
          "output_type": "execute_result",
          "data": {
            "text/plain": [
              "<matplotlib.axes._subplots.AxesSubplot at 0x7f0ab4dbc590>"
            ]
          },
          "metadata": {},
          "execution_count": 41
        },
        {
          "output_type": "display_data",
          "data": {
            "image/png": "[encoded data removed]",
            "text/plain": [
              "<Figure size 432x288 with 1 Axes>"
            ]
          },
          "metadata": {}
        }
      ]
    },
    {
      "cell_type": "code",
      "source": [
        "df.Weather_Condition.value_counts()[:10]"
      ],
      "metadata": {
        "colab": {
          "base_uri": "https://localhost:8080/"
        },
        "id": "GYMu466QYO46",
        "outputId": "025952bb-bef5-412a-a005-ed12eb791ec1"
      },
      "execution_count": null,
      "outputs": [
        {
          "output_type": "execute_result",
          "data": {
            "text/plain": [
              "Fair                465252\n",
              "Mostly Cloudy       193595\n",
              "Clear               180223\n",
              "Cloudy              161291\n",
              "Partly Cloudy       133102\n",
              "Overcast             87853\n",
              "Light Rain           72511\n",
              "Scattered Clouds     47061\n",
              "Light Snow           22113\n",
              "Fog                  19777\n",
              "Name: Weather_Condition, dtype: int64"
            ]
          },
          "metadata": {},
          "execution_count": 42
        }
      ]
    },
    {
      "cell_type": "code",
      "source": [
        ""
      ],
      "metadata": {
        "id": "CBkvJtrQYO01"
      },
      "execution_count": null,
      "outputs": []
    },
    {
      "cell_type": "markdown",
      "source": [
        "##Analysis W.R.T TIme of occurance - Start_time\n",
        "* What time off the day are acciedents ?\n",
        "* happening more frequently?\n",
        "* Which Month has the highest frequency of accidents ?\n",
        "* Which Year has th highest count of accidents?"
      ],
      "metadata": {
        "id": "wm_YauAdYsWu"
      }
    },
    {
      "cell_type": "code",
      "source": [
        "Start= pd.to_datetime(df.Start_Time)\n",
        "\n",
        "sns.histplot(Start.dt.hour)\n",
        "Start.dt.hour"
      ],
      "metadata": {
        "colab": {
          "base_uri": "https://localhost:8080/",
          "height": 488
        },
        "id": "paa1gFirZJ97",
        "outputId": "4e386ec4-1e5c-47a9-b1a5-5a16d2bd1a8d"
      },
      "execution_count": null,
      "outputs": [
        {
          "output_type": "execute_result",
          "data": {
            "text/plain": [
              "0           0\n",
              "1           5\n",
              "2           6\n",
              "3           6\n",
              "4           6\n",
              "           ..\n",
              "1516059    18\n",
              "1516060    19\n",
              "1516061    19\n",
              "1516062    19\n",
              "1516063    18\n",
              "Name: Start_Time, Length: 1516064, dtype: int64"
            ]
          },
          "metadata": {},
          "execution_count": 43
        },
        {
          "output_type": "display_data",
          "data": {
            "image/png": "[encoded data removed]",
            "text/plain": [
              "<Figure size 432x288 with 1 Axes>"
            ]
          },
          "metadata": {}
        }
      ]
    },
    {
      "cell_type": "code",
      "source": [
        "sns.distplot(Start.dt.dayofweek)"
      ],
      "metadata": {
        "colab": {
          "base_uri": "https://localhost:8080/",
          "height": 352
        },
        "id": "u-z5gMiZZJ4M",
        "outputId": "d3a9cc64-648f-42c3-e6df-f43696751218"
      },
      "execution_count": null,
      "outputs": [
        {
          "output_type": "stream",
          "name": "stderr",
          "text": [
            "/usr/local/lib/python3.7/dist-packages/seaborn/distributions.py:2619: FutureWarning: `distplot` is a deprecated function and will be removed in a future version. Please adapt your code to use either `displot` (a figure-level function with similar flexibility) or `histplot` (an axes-level function for histograms).\n",
            "  warnings.warn(msg, FutureWarning)\n"
          ]
        },
        {
          "output_type": "execute_result",
          "data": {
            "text/plain": [
              "<matplotlib.axes._subplots.AxesSubplot at 0x7f0ab5af4290>"
            ]
          },
          "metadata": {},
          "execution_count": 44
        },
        {
          "output_type": "display_data",
          "data": {
            "image/png": "[encoded data removed]",
            "text/plain": [
              "<Figure size 432x288 with 1 Axes>"
            ]
          },
          "metadata": {}
        }
      ]
    },
    {
      "cell_type": "code",
      "source": [
        "sns.histplot(Start.dt.hour[Start.dt.dayofweek >= 5])"
      ],
      "metadata": {
        "colab": {
          "base_uri": "https://localhost:8080/",
          "height": 298
        },
        "id": "E76Pek82YOug",
        "outputId": "2d5fb709-7f57-4623-c244-544cd2642201"
      },
      "execution_count": null,
      "outputs": [
        {
          "output_type": "execute_result",
          "data": {
            "text/plain": [
              "<matplotlib.axes._subplots.AxesSubplot at 0x7f0ab592e3d0>"
            ]
          },
          "metadata": {},
          "execution_count": 45
        },
        {
          "output_type": "display_data",
          "data": {
            "image/png": "[encoded data removed]",
            "text/plain": [
              "<Figure size 432x288 with 1 Axes>"
            ]
          },
          "metadata": {}
        }
      ]
    },
    {
      "cell_type": "code",
      "source": [
        "sns.histplot(Start.dt.month[Start.dt.year == 2019])"
      ],
      "metadata": {
        "colab": {
          "base_uri": "https://localhost:8080/",
          "height": 298
        },
        "id": "QF2PkwfCYOh2",
        "outputId": "11adab95-6851-4476-9bba-3c7efb233d30"
      },
      "execution_count": null,
      "outputs": [
        {
          "output_type": "execute_result",
          "data": {
            "text/plain": [
              "<matplotlib.axes._subplots.AxesSubplot at 0x7f0ab4a07250>"
            ]
          },
          "metadata": {},
          "execution_count": 46
        },
        {
          "output_type": "display_data",
          "data": {
            "image/png": "[encoded data removed]",
            "text/plain": [
              "<Figure size 432x288 with 1 Axes>"
            ]
          },
          "metadata": {}
        }
      ]
    },
    {
      "cell_type": "code",
      "source": [
        "df.Weather_Condition.value_counts()[:10]"
      ],
      "metadata": {
        "colab": {
          "base_uri": "https://localhost:8080/"
        },
        "id": "CPJOTWhnZfRR",
        "outputId": "7307d66d-f67c-4686-c8e5-9afc7c074427"
      },
      "execution_count": null,
      "outputs": [
        {
          "output_type": "execute_result",
          "data": {
            "text/plain": [
              "Fair                465252\n",
              "Mostly Cloudy       193595\n",
              "Clear               180223\n",
              "Cloudy              161291\n",
              "Partly Cloudy       133102\n",
              "Overcast             87853\n",
              "Light Rain           72511\n",
              "Scattered Clouds     47061\n",
              "Light Snow           22113\n",
              "Fog                  19777\n",
              "Name: Weather_Condition, dtype: int64"
            ]
          },
          "metadata": {},
          "execution_count": 47
        }
      ]
    },
    {
      "cell_type": "code",
      "source": [
        "df.Traffic_Calming.value_counts().plot.pie()"
      ],
      "metadata": {
        "colab": {
          "base_uri": "https://localhost:8080/",
          "height": 266
        },
        "id": "uZGh9M1OZfNe",
        "outputId": "0db05b4f-a990-4423-c903-7b2b8bded6c7"
      },
      "execution_count": null,
      "outputs": [
        {
          "output_type": "execute_result",
          "data": {
            "text/plain": [
              "<matplotlib.axes._subplots.AxesSubplot at 0x7f0ab4883a10>"
            ]
          },
          "metadata": {},
          "execution_count": 48
        },
        {
          "output_type": "display_data",
          "data": {
            "image/png": "[encoded data removed]",
            "text/plain": [
              "<Figure size 432x288 with 1 Axes>"
            ]
          },
          "metadata": {}
        }
      ]
    },
    {
      "cell_type": "code",
      "source": [
        "df.Traffic_Signal.value_counts().plot.pie()"
      ],
      "metadata": {
        "colab": {
          "base_uri": "https://localhost:8080/",
          "height": 266
        },
        "id": "kvWnR-snZfH_",
        "outputId": "111f65b3-4203-4675-8ef2-c59bea435284"
      },
      "execution_count": null,
      "outputs": [
        {
          "output_type": "execute_result",
          "data": {
            "text/plain": [
              "<matplotlib.axes._subplots.AxesSubplot at 0x7f0ab484ce50>"
            ]
          },
          "metadata": {},
          "execution_count": 49
        },
        {
          "output_type": "display_data",
          "data": {
            "image/png": "[encoded data removed]",
            "text/plain": [
              "<Figure size 432x288 with 1 Axes>"
            ]
          },
          "metadata": {}
        }
      ]
    },
    {
      "cell_type": "code",
      "source": [
        "df.Crossing.value_counts().plot.pie()"
      ],
      "metadata": {
        "colab": {
          "base_uri": "https://localhost:8080/",
          "height": 266
        },
        "id": "bsDGMjW7ZfCB",
        "outputId": "26f61100-465b-4174-d20e-de9681813ba8"
      },
      "execution_count": null,
      "outputs": [
        {
          "output_type": "execute_result",
          "data": {
            "text/plain": [
              "<matplotlib.axes._subplots.AxesSubplot at 0x7f0ab4819210>"
            ]
          },
          "metadata": {},
          "execution_count": 50
        },
        {
          "output_type": "display_data",
          "data": {
            "image/png": "[encoded data removed]",
            "text/plain": [
              "<Figure size 432x288 with 1 Axes>"
            ]
          },
          "metadata": {}
        }
      ]
    },
    {
      "cell_type": "code",
      "source": [
        "df.Junction.value_counts().plot.pie()"
      ],
      "metadata": {
        "colab": {
          "base_uri": "https://localhost:8080/",
          "height": 266
        },
        "id": "EV2ctuFWZe66",
        "outputId": "17b9f708-531e-4652-bbd5-bd6addb5336f"
      },
      "execution_count": null,
      "outputs": [
        {
          "output_type": "execute_result",
          "data": {
            "text/plain": [
              "<matplotlib.axes._subplots.AxesSubplot at 0x7f0ab47d5c90>"
            ]
          },
          "metadata": {},
          "execution_count": 51
        },
        {
          "output_type": "display_data",
          "data": {
            "image/png": "[encoded data removed]",
            "text/plain": [
              "<Figure size 432x288 with 1 Axes>"
            ]
          },
          "metadata": {}
        }
      ]
    },
    {
      "cell_type": "markdown",
      "source": [
        "## Summary And Conclusion\n",
        "From the EDA of records from 2016 - 2020 for accidents occured in US we can infer that :\n",
        "\n",
        "* The primary cause of accidents is high traffic.\n",
        "* Lack of traffic control at accidents site has confirmed this observation.\n",
        "* It is also obsereved that more accidents occur during the peak time where people are active either to and fro travelling for work or other purposes.\n",
        "* Another factor backing up the above observation is that cities with better traffic control have less frequencies of accidents even those cities hold high population density.\n",
        "* Climate and Weather conditions seems to be the secondary cause of accidents.\n",
        "* We can postulate from the above data that during risky or intense climate conditions occurance of accidents are high but at the same time traffic is less which reduces the overall count.\n",
        "* But with a partially clear climate traffic is not effected much. This in case increases the risk of accidents as well as the overall count.\n",
        "* Having a colder and humid climate increses the chances of accidents caused due to slippery road surface.\n",
        "\n",
        "Observation and analysis for US based accidents is to be progressed further w.r.t to State wise categorization as well as other factors.\n",
        "\n",
        "These are the inferences gatherd from the data recieved from kaggle.com"
      ],
      "metadata": {
        "id": "ggF6tuVtaP3k"
      }
    },
    {
      "cell_type": "code",
      "source": [
        ""
      ],
      "metadata": {
        "id": "D7AqgzKTd-Up"
      },
      "execution_count": null,
      "outputs": []
    },
    {
      "cell_type": "markdown",
      "source": [
        "##In this EDA project we learned to :\n",
        "\n",
        "\n",
        "*   Use Google colab and notebook.\n",
        "* Use jovian.ai.\n",
        "* Connecting and downloading dataset.\n",
        "* Working with pandas and dataframes.\n",
        "* Plot graphs and charts with matplotlib.\n",
        "* Create map using seaborn.\n",
        "* Categorize and analyze column data.\n",
        "* Work with numerical data.\n",
        "* Average and mean data.\n",
        "* EDA methods.\n",
        "* Overall format of working and publishing data.\n",
        "\n"
      ],
      "metadata": {
        "id": "6GxIo7A3bZe3"
      }
    },
    {
      "cell_type": "markdown",
      "source": [
        "##Uploading and pushing Google collab to Kaggle "
      ],
      "metadata": {
        "id": "QuEt899VcItx"
      }
    },
    {
      "cell_type": "code",
      "source": [
        "import jovian"
      ],
      "metadata": {
        "id": "xUpgsHE4aGmp"
      },
      "execution_count": null,
      "outputs": []
    },
    {
      "cell_type": "code",
      "source": [
        ""
      ],
      "metadata": {
        "id": "OPgMTSfxeoEx"
      },
      "execution_count": null,
      "outputs": []
    },
    {
      "cell_type": "code",
      "source": [
        ""
      ],
      "metadata": {
        "id": "oPVbFUH2YHlc"
      },
      "execution_count": null,
      "outputs": []
    }
  ],
  "metadata": {
    "kernelspec": {
      "display_name": "Python 3",
      "language": "python",
      "name": "python3"
    },
    "language_info": {
      "codemirror_mode": {
        "name": "ipython",
        "version": 3
      },
      "file_extension": ".py",
      "mimetype": "text/x-python",
      "name": "python",
      "nbconvert_exporter": "python",
      "pygments_lexer": "ipython3",
      "version": "3.7.6"
    },
    "colab": {
      "name": "us-accidents-eda-dec20.ipynb",
      "provenance": [],
      "include_colab_link": true
    }
  },
  "nbformat": 4,
  "nbformat_minor": 0
}